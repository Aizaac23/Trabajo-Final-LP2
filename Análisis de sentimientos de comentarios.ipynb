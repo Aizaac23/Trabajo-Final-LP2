{
 "cells": [
  {
   "cell_type": "code",
   "execution_count": 4,
   "id": "58484c72-ba5c-445a-8af2-0e9dd4263f5b",
   "metadata": {},
   "outputs": [
    {
     "data": {
      "text/plain": [
       "{'status': 'OK',\n",
       " 'request_id': '821d7cc1-44b5-4fb1-98cc-23572de07b48',\n",
       " 'parameters': {'asin': 'B0CN1QSH8Q',\n",
       "  'country': 'US',\n",
       "  'sort_by': 'TOP_REVIEWS',\n",
       "  'verified_purchases_only': False,\n",
       "  'images_or_videos_only': False,\n",
       "  'current_format_only': False,\n",
       "  'star_rating': 'ALL',\n",
       "  'page': 1},\n",
       " 'data': {'asin': 'B0CN1QSH8Q',\n",
       "  'total_reviews': 126,\n",
       "  'total_ratings': 346,\n",
       "  'country': 'US',\n",
       "  'domain': 'www.amazon.com',\n",
       "  'reviews': [{'review_id': 'R3V8NZHF81VLKG',\n",
       "    'review_title': 'Great phone!',\n",
       "    'review_comment': \"This is a very nice phone. Samsung did a really good job on this one.\\n\\nThe build quality is solid. The plastic case is a matte iridescent deep blackish blue and does a good job at not showing fingerprints. The AMOLED screen has good colors and perfect deep blacks. The high capacity battery (5,000mAh) lasts 7-10 days with light usage before needing to recharge. The software is typical Samsung high-quality and the Samsung-built email app is still the best amongst Android phones. The fingerprint reader on the side unlocks the phone instantaneously. The charging port is USB-C. Speed-wise, the phone is plenty fast and doesn't lag. It has 5G cell phone connectivity but you can turn it off and use 4G to save on battery life. Networking also supports 2G (i.e. GSM) that can be turned on or off. Built-in storage is a whopping 128GB. Expansion-wise, the SIM tray accepts 2 SIM cards (i.e. this is indeed a dual-SIM phone), or 1 SIM card + 1 Micro-SD card. There is a headphone jack at the bottom, next to the charging port. The phone is quite big, i.e. the screen is huge, and it's rather heavy but so are most phones nowadays. It barely fits in my pants pockets.\\n\\nThis is marketed as an entry-level phone, but honestly, it has such much memory, long battery life, fingerprint unlock, 3 good cameras, dual-SIM, Micro-SD expansion, headphone jack, USB C, great software support, future-proof updates, and is quite fast, so you may wonder why you'd ever need to buy anything more expensive.\\n\\nOverall, great modern phone at a reasonable price ($200) that should work well for most people and last a long time.\",\n",
       "    'review_star_rating': '5',\n",
       "    'review_link': 'https://www.amazon.com/gp/customer-reviews/R3V8NZHF81VLKG',\n",
       "    'review_author': 'Amazoner',\n",
       "    'review_author_avatar': 'https://images-na.ssl-images-amazon.com/images/S/amazon-avatars-global/default._CR0,0,1024,1024_SX48_.png',\n",
       "    'review_images': [],\n",
       "    'review_video': None,\n",
       "    'review_date': 'Reviewed in the United States on April 26, 2024',\n",
       "    'is_verified_purchase': True,\n",
       "    'helpful_vote_statement': '60 people found this helpful',\n",
       "    'reviewed_product_asin': 'B0CN1QSH8Q'},\n",
       "   {'review_id': 'R1FWJYPFPFN4FI',\n",
       "    'review_title': 'Samsung A15',\n",
       "    'review_comment': \"I decided to wait to write a review because I was on the fence about keeping it or not. My previous phone was a Samsung A10E which is not a very heavy phone. The A15 is considerably heavier which I am (still) not very comfortable with. Comparing the 2 phones as far as memory is concerned is markedly different. The A10E has 32 gigs of internal memory. The A15 has 128 gigs of internal memory. Considering that I have alot of pics on my phone with several different albums, this makes the A15 a better product. The battery life is quite good. The appearance is beautiful. I purchased the light blue phone. I have a clear cover on my phone. This is my 4th Samsung cell phone. Samsung never disappoints with quality, durability and performance. I love the Samsung Smart Switch which makes moving your data from one phone to another fast and super easy. They don't provide a SIM card or micro SD card so you need to make sure to move your cards into your new phone. The software is similar to previous Samsung phone with a few tweaks. For example, to get a screen shot for the A15 you need to press both power and volume down button simultaneously. What makes the A15 different from any of my previous Samsungs is with the A15 you have to press each twice. There is a feature that would put a floating icon on your screen and open it and tap screenshot then you will get your screenshot. Now, what sold me on the A15 is a neat feature where, upon your approval, they will block all spam/scam phone calls. So no more annoying spam/scam calls!! It's a neat feature!! Like I said, I love Samsung phones!!\",\n",
       "    'review_star_rating': '5',\n",
       "    'review_link': 'https://www.amazon.com/gp/customer-reviews/R1FWJYPFPFN4FI',\n",
       "    'review_author': 'MomCat',\n",
       "    'review_author_avatar': 'https://images-na.ssl-images-amazon.com/images/S/amazon-avatars-global/default._CR0,0,1024,1024_SX48_.png',\n",
       "    'review_images': [],\n",
       "    'review_video': None,\n",
       "    'review_date': 'Reviewed in the United States on May 19, 2024',\n",
       "    'is_verified_purchase': True,\n",
       "    'helpful_vote_statement': '30 people found this helpful',\n",
       "    'reviewed_product_asin': 'B0CNQCZHFS'},\n",
       "   {'review_id': 'R3IQU279LBT7KL',\n",
       "    'review_title': 'Great Bargain! But, RCS and Native Video Calling locked out on Unlocked Phone, need to manual unlock',\n",
       "    'review_comment': 'Great storage, very responsive, sleek-looking Samsung phone. Can run most apps with little to no issues. However, while the Samsung A15 5G is completely ready for RCS and Native Video Calling, it is locked out by default. If you try to contact ATT/T-Mobile/Sprint, they will tell you that only their carrier-branded phones support these features. The current workaround is to use Shizuku+System UI Tuner to enable IMS Settings to turn on Native Video Calling (Samsung/Green Phone app) as well as all the RCS features. It is a shame that these features are turned off by default because we already pay so much money for these phones and data plans, and now they add more restrictions. Very good phone for the price otherwise.',\n",
       "    'review_star_rating': '4',\n",
       "    'review_link': 'https://www.amazon.com/gp/customer-reviews/R3IQU279LBT7KL',\n",
       "    'review_author': 'Gary',\n",
       "    'review_author_avatar': 'https://images-na.ssl-images-amazon.com/images/S/amazon-avatars-global/default._CR0,0,1024,1024_SX48_.png',\n",
       "    'review_images': [],\n",
       "    'review_video': None,\n",
       "    'review_date': 'Reviewed in the United States on July 10, 2024',\n",
       "    'is_verified_purchase': True,\n",
       "    'reviewed_product_asin': 'B0CN1QSH8Q'},\n",
       "   {'review_id': 'RVPXSO06R2M0U',\n",
       "    'review_title': 'Great phone for the value. USA, T-MOBILE.',\n",
       "    'review_comment': \"Good phone for a low cost. Everything transfered smoothly. I have T- Mobile and I'm in the USA. Good photos and videos. Smooth scrolling. Not too many crazy updates. I like the ability to remove most preinstalled apps as well. Battery life is great.\\nDownfalls are minimal. *Side on/off button is flush with the side and takes longer to locate.\\n *screenshot are rather difficult with the palm swipe. It takes quite a few tries, loosing what you want to screenshot happens often. As an older person I screenshot things I can't read so I can zoom in. I try to avoid that now.\\n *No sd card storage to remove or replace. I miss that, even though the phone has lots of available room. I use to save the sd cards for personal back up photos.\\n*Sim card slot looks as if it won't securely hold in the tray. Isn't a tight fit, but suprisingly it does work with some patience.\\nA month into use,\\nIt's a good phone so far!\",\n",
       "    'review_star_rating': '5',\n",
       "    'review_link': 'https://www.amazon.com/gp/customer-reviews/RVPXSO06R2M0U',\n",
       "    'review_author': 'KP',\n",
       "    'review_author_avatar': 'https://images-na.ssl-images-amazon.com/images/S/amazon-avatars-global/default._CR0,0,1024,1024_SX48_.png',\n",
       "    'review_images': [],\n",
       "    'review_video': None,\n",
       "    'review_date': 'Reviewed in the United States on June 13, 2024',\n",
       "    'is_verified_purchase': True,\n",
       "    'helpful_vote_statement': '13 people found this helpful',\n",
       "    'reviewed_product_asin': 'B0CN1QSH8Q'},\n",
       "   {'review_id': 'R1C10F8MPFJRCD',\n",
       "    'review_title': 'Beware of MAJOR lag',\n",
       "    'review_comment': 'Why they released this with 4 GB RAM while in Europe and Asia they have 6/8 GB RAM versions is mind boggling. I kept losing GPS and 5G signal. People could not hear me on the other end and the lag was awful, also many apps opened by themselves. As a delivery driver this phone almost cost me my job. Switched back to Motorola Power 5G 2024 and I am back on track. I wanted Samsung to work because I like their watches and you need a Galaxy phone to use their ECG and other health app features. Back to Fitbit!!',\n",
       "    'review_star_rating': '1',\n",
       "    'review_link': 'https://www.amazon.com/gp/customer-reviews/R1C10F8MPFJRCD',\n",
       "    'review_author': 'Mikeyt1818',\n",
       "    'review_author_avatar': 'https://images-na.ssl-images-amazon.com/images/S/amazon-avatars-global/df65ba94-c079-4dfe-89b7-29b874195ca3._CR0,0,375,375_SX48_.jpg',\n",
       "    'review_images': [],\n",
       "    'review_video': None,\n",
       "    'review_date': 'Reviewed in the United States on June 12, 2024',\n",
       "    'is_verified_purchase': True,\n",
       "    'helpful_vote_statement': '16 people found this helpful',\n",
       "    'reviewed_product_asin': 'B0CNQCZHFS'},\n",
       "   {'review_id': 'R2WFEWLVAXS19U',\n",
       "    'review_title': 'Almost like my Galaxy S23FE',\n",
       "    'review_comment': 'Not much to dislike, looks and feels like my S23FE but considerably less expensive. Really like the both but bought the A15 5G for my wife since here 5 yr old galaxy was getting outdated. She just wanted a basic phone that was reliable, took good pictures/videos and easy to operate. The A15 5G met all her requirements and more, even has a earphone jack and micro sd card for external storage - which the S23FE does not. Has the same Android 14 as my S23FE. File and app transfer from the old Galaxy to to A15 was smooth. Fast charge battery is very good via USB connection (no wireless charge). The phone is fast and responsive. Highly recommend.',\n",
       "    'review_star_rating': '5',\n",
       "    'review_link': 'https://www.amazon.com/gp/customer-reviews/R2WFEWLVAXS19U',\n",
       "    'review_author': 'Desert Lover',\n",
       "    'review_author_avatar': 'https://images-na.ssl-images-amazon.com/images/S/amazon-avatars-global/default._CR0,0,1024,1024_SX48_.png',\n",
       "    'review_images': [],\n",
       "    'review_video': None,\n",
       "    'review_date': 'Reviewed in the United States on June 14, 2024',\n",
       "    'is_verified_purchase': True,\n",
       "    'helpful_vote_statement': '12 people found this helpful',\n",
       "    'reviewed_product_asin': 'B0CNQCZHFS'},\n",
       "   {'review_id': 'RLER48C6M5Q5X',\n",
       "    'review_title': 'Unstable Touchscreen',\n",
       "    'review_comment': 'I bought this phone because of all the good reviews and that it was affordable.  I had had bad experiences with Samsung phones in the past, but I thought maybe they had improved.  I was disappointed.\\n\\nWithin a couple of days, when I was trying to type out texts, I found that even if I very carefully pushed on a letter that I wanted, another letter, or number, or word would show up in the text box.  I would have to re-start the phone to get it to work again.  And that was not all.  Other times the screen would start jittering badly, or quickly shifting back and forth between two apps when I wasn\\'t even touching it.\\nThis behavior has persisted.  Due to this problem, I have to re-start the phone on the average every two days, but there have been a few times whey I\\'ve had to do it three or four times in one day.\\n\\nAlso, I\\'m not sure why the default setting for the screen is \"gestures\".  This was very frustrating because I could only remember a few basic gestures, so I could never do things like bring up the screen with all of the open apps, as well as having other things happen that I didn\\'t want to happen when I tried certain swipe gestures. I finally got sick of this problem, and looked it up on the internet and found where there was a way to get three buttons at the bottom of the screen - one for \"back a screen\", one for the \"home\" screen\" and one to open the window allowing you to scroll through (and close) open apps individually - or close them all with one button.\\n\\nThe battery saving feature takes a while to get it right.  This feature keeps you from over-charging it, and stops the charging when the battery gets to 85% full.  For the first few weeks, this resulted in me sometimes running out of power before my day was through.  This feature has some king of AI support, I think, and it has gotten better over time.  It still says it only gets 85% full, but it usually lasts a whole day unless I am using it very heavily.\\n\\nOtherwise, the phone seems to work well, but the screen problem is bad enough that I can only give this a two star rating.',\n",
       "    'review_star_rating': '2',\n",
       "    'review_link': 'https://www.amazon.com/gp/customer-reviews/RLER48C6M5Q5X',\n",
       "    'review_author': 'Lee Ann R',\n",
       "    'review_author_avatar': 'https://images-na.ssl-images-amazon.com/images/S/amazon-avatars-global/default._CR0,0,1024,1024_SX48_.png',\n",
       "    'review_images': [],\n",
       "    'review_video': None,\n",
       "    'review_date': 'Reviewed in the United States on May 10, 2024',\n",
       "    'is_verified_purchase': True,\n",
       "    'helpful_vote_statement': '7 people found this helpful',\n",
       "    'reviewed_product_asin': 'B0CN1QSH8Q'},\n",
       "   {'review_id': 'R18BDJBS5FDNG1',\n",
       "    'review_title': 'Great budget phone',\n",
       "    'review_comment': \"My spouse recently broke their phone and needed a new one. She didn't want to spend a ton of money and get the latest and greatest thing. She decided on this one, and seems to be happy about it. The battery life is fantastic, and although it's not the best phone, it gets the job done very well!\",\n",
       "    'review_star_rating': '5',\n",
       "    'review_link': 'https://www.amazon.com/gp/customer-reviews/R18BDJBS5FDNG1',\n",
       "    'review_author': 'Johnathan Christopher',\n",
       "    'review_author_avatar': 'https://images-na.ssl-images-amazon.com/images/S/amazon-avatars-global/default._CR0,0,1024,1024_SX48_.png',\n",
       "    'review_images': [],\n",
       "    'review_video': None,\n",
       "    'review_date': 'Reviewed in the United States on June 26, 2024',\n",
       "    'is_verified_purchase': True,\n",
       "    'reviewed_product_asin': 'B0CNQCZHFS'},\n",
       "   {'review_id': 'R1KANX7F5V5O69',\n",
       "    'review_title': 'Good Phone at Reasonable Price',\n",
       "    'review_comment': 'After being an Apple customer for several years, I am starting to get tired of constantly having to get a new phone at a cost of about $1000 every few years. My phones tend to last longer than the software upgrades allow. I still have a working iPhone 3GS that can be used. I even bought a SIMM conversion kit to test it. It still works, but not much good for anything else but playing my music library.\\n\\nThis phone is my delve into the Android world, and at a little over $200 this phone seems to work great. I only did the basic setup, and haven’t logged it into any accounts like Google or Samsung, but I can insert the SIMM card, and use it like an old fashioned phone, should my aging iPhone 8 fail on me. Right now, I am trying to decide about whether to shell out for another Apple product or just go with Samsung, like a lot of others have done, according to recent news about how Apple is losing market share to Samsung.\\n\\nAfter I get a chance to play around with the phone a little more, I will probably update this review.',\n",
       "    'review_star_rating': '4',\n",
       "    'review_link': 'https://www.amazon.com/gp/customer-reviews/R1KANX7F5V5O69',\n",
       "    'review_author': 'Geodenizen',\n",
       "    'review_author_avatar': 'https://images-na.ssl-images-amazon.com/images/S/amazon-avatars-global/default._CR0,0,1024,1024_SX48_.png',\n",
       "    'review_images': [],\n",
       "    'review_video': None,\n",
       "    'review_date': 'Reviewed in the United States on May 17, 2024',\n",
       "    'is_verified_purchase': True,\n",
       "    'helpful_vote_statement': '11 people found this helpful',\n",
       "    'reviewed_product_asin': 'B0CN1QSH8Q'},\n",
       "   {'review_id': 'RYZH9A359XTL8',\n",
       "    'review_title': 'Beautiful Screen/Right size',\n",
       "    'review_comment': 'I bought this for my son and so fat in two weeks he loves it. Battery life is longer than advertised. He charges it every 3 days or so. Loves watching crisp videos and playing video games. Fingerprint sensor works every-time so far. Sound is louder than my iphone 14 pro. Love the option for a wired headphone, there is also the option for bluetooth accessories. Lots of phone cases available for this model. Reason for three starts? Well there is some lag speed with having multiple apps open.',\n",
       "    'review_star_rating': '4',\n",
       "    'review_link': 'https://www.amazon.com/gp/customer-reviews/RYZH9A359XTL8',\n",
       "    'review_author': 'J.E.R',\n",
       "    'review_author_avatar': 'https://images-na.ssl-images-amazon.com/images/S/amazon-avatars-global/default._CR0,0,1024,1024_SX48_.png',\n",
       "    'review_images': [],\n",
       "    'review_video': None,\n",
       "    'review_date': 'Reviewed in the United States on May 27, 2024',\n",
       "    'is_verified_purchase': True,\n",
       "    'helpful_vote_statement': 'One person found this helpful',\n",
       "    'reviewed_product_asin': 'B0CN1QSH8Q'}]}}"
      ]
     },
     "execution_count": 4,
     "metadata": {},
     "output_type": "execute_result"
    }
   ],
   "source": [
    "#Impresión de JSON resultado de la solicitud a la API\n",
    "import requests\n",
    "from textblob import TextBlob\n",
    "\n",
    "def get_reviews(asin, page=1):\n",
    "    url = \"https://real-time-amazon-data.p.rapidapi.com/product-reviews\"\n",
    "    querystring = {\n",
    "        \"asin\": asin,\n",
    "        \"country\": \"US\",\n",
    "        \"sort_by\": \"TOP_REVIEWS\",\n",
    "        \"star_rating\": \"ALL\",\n",
    "        \"verified_purchases_only\": \"false\",\n",
    "        \"images_or_videos_only\": \"false\",\n",
    "        \"current_format_only\": \"false\",\n",
    "        \"page\": page\n",
    "    }\n",
    "\n",
    "    headers = {\n",
    "        \"x-rapidapi-key\": \"38e65580ffmsh55d6f1788db421ap1ff5b0jsn3f9029414f2f\",\n",
    "        \"x-rapidapi-host\": \"real-time-amazon-data.p.rapidapi.com\"\n",
    "    }\n",
    "\n",
    "    response = requests.get(url, headers=headers, params=querystring)\n",
    "    return response.json()\n",
    "\n",
    "\n",
    "get_reviews(\"B0CN1QSH8Q\", 1)"
   ]
  },
  {
   "cell_type": "code",
   "execution_count": 6,
   "id": "f05e4cbe-1631-48e5-a536-49ab5a65c055",
   "metadata": {},
   "outputs": [
    {
     "name": "stdout",
     "output_type": "stream",
     "text": [
      "Polarity: 0.2867592592592592\n",
      "Subjectivity: 0.4807407407407407\n"
     ]
    }
   ],
   "source": [
    "#Análisis de sentimeintos de TextBlob\n",
    "\n",
    "from textblob import TextBlob\n",
    "\n",
    "# Texto a analizar\n",
    "text = \"\"\"\n",
    "This is a very nice phone. Samsung did a really good job on this one.\n",
    "\n",
    "The build quality is solid. The plastic case is a matte iridescent deep blackish blue and does a good job at not showing fingerprints. The AMOLED screen has good colors and perfect deep blacks. The high capacity battery (5,000mAh) lasts 7-10 days with light usage before needing to recharge. The software is typical Samsung high-quality and the Samsung-built email app is still the best amongst Android phones. The fingerprint reader on the side unlocks the phone instantaneously. The charging port is USB-C. Speed-wise, the phone is plenty fast and doesn't lag. It has 5G cell phone connectivity but you can turn it off and use 4G to save on battery life. Networking also supports 2G (i.e. GSM) that can be turned on or off. Built-in storage is a whopping 128GB. Expansion-wise, the SIM tray accepts 2 SIM cards (i.e. this is indeed a dual-SIM phone), or 1 SIM card + 1 Micro-SD card. There is a headphone jack at the bottom, next to the charging port. The phone is quite big, i.e. the screen is huge, and it's rather heavy but so are most phones nowadays. It barely fits in my pants pockets.\n",
    "\n",
    "This is marketed as an entry-level phone, but honestly, it has such much memory, long battery life, fingerprint unlock, 3 good cameras, dual-SIM, Micro-SD expansion, headphone jack, USB C, great software support, future-proof updates, and is quite fast, so you may wonder why you'd ever need to buy anything more expensive.\n",
    "\n",
    "Overall, great modern phone at a reasonable price ($200) that should work well for most people and last a long time.\n",
    "\"\"\"\n",
    "\n",
    "# Crear un objeto TextBlob\n",
    "blob = TextBlob(text)\n",
    "\n",
    "# Analizar el sentimiento\n",
    "sentiment = blob.sentiment\n",
    "\n",
    "# Mostrar resultados\n",
    "print(f\"Polarity: {sentiment.polarity}\")\n",
    "print(f\"Subjectivity: {sentiment.subjectivity}\")\n"
   ]
  },
  {
   "cell_type": "code",
   "execution_count": 1,
   "id": "bf16c716-3e02-4ca4-a2c0-00f22069799e",
   "metadata": {},
   "outputs": [
    {
     "name": "stdout",
     "output_type": "stream",
     "text": [
      "El promedio de los sentimientos de los comentarios para el producto B0CN1QSH8Q es: 0.17\n"
     ]
    }
   ],
   "source": [
    "#Análisis de sentimientos con TextBlob\n",
    "\n",
    "import requests\n",
    "from textblob import TextBlob\n",
    "\n",
    "def get_reviews(asin, page=1):\n",
    "    url = \"https://real-time-amazon-data.p.rapidapi.com/product-reviews\"\n",
    "    querystring = {\n",
    "        \"asin\": asin,\n",
    "        \"country\": \"US\",\n",
    "        \"sort_by\": \"TOP_REVIEWS\",\n",
    "        \"star_rating\": \"ALL\",\n",
    "        \"verified_purchases_only\": \"false\",\n",
    "        \"images_or_videos_only\": \"false\",\n",
    "        \"current_format_only\": \"false\",\n",
    "        \"page\": page\n",
    "    }\n",
    "\n",
    "    headers = {\n",
    "        \"x-rapidapi-key\": \"38e65580ffmsh55d6f1788db421ap1ff5b0jsn3f9029414f2f\",\n",
    "        \"x-rapidapi-host\": \"real-time-amazon-data.p.rapidapi.com\"\n",
    "    }\n",
    "\n",
    "    response = requests.get(url, headers=headers, params=querystring)\n",
    "    return response.json()\n",
    "\n",
    "def analyze_sentiments(reviews):\n",
    "    sentiments = []\n",
    "    for review in reviews['data']['reviews']:\n",
    "        analysis = TextBlob(review['review_comment'])\n",
    "        sentiments.append(analysis.sentiment.polarity)\n",
    "    if sentiments:\n",
    "        avg_sentiment = sum(sentiments) / len(sentiments)\n",
    "        return avg_sentiment\n",
    "    else:\n",
    "        return None\n",
    "\n",
    "asin = \"B0CN1QSH8Q\"\n",
    "reviews = get_reviews(asin)\n",
    "avg_sentiment = analyze_sentiments(reviews)\n",
    "\n",
    "print(f\"El promedio de los sentimientos de los comentarios para el producto {asin} es: {avg_sentiment:.2f}\")\n"
   ]
  },
  {
   "cell_type": "code",
   "execution_count": 2,
   "id": "ea670836-c710-4126-a646-9d1f7949cf2e",
   "metadata": {},
   "outputs": [
    {
     "name": "stdout",
     "output_type": "stream",
     "text": [
      "Requirement already satisfied: plotly in c:\\users\\usuario\\anaconda3\\lib\\site-packages (5.9.0)\n",
      "Requirement already satisfied: tenacity>=6.2.0 in c:\\users\\usuario\\anaconda3\\lib\\site-packages (from plotly) (8.2.2)\n"
     ]
    }
   ],
   "source": []
  },
  {
   "cell_type": "code",
   "execution_count": 5,
   "id": "4ff41595-5a03-407b-9bc5-fe18a302e4e6",
   "metadata": {},
   "outputs": [
    {
     "name": "stdout",
     "output_type": "stream",
     "text": [
      "La calificación promedio de los sentimientos de los comentarios para el producto B0CN1QSH8Q es: 3.43\n"
     ]
    },
    {
     "data": {
      "application/vnd.plotly.v1+json": {
       "config": {
        "plotlyServerURL": "https://plot.ly"
       },
       "data": [
        {
         "gauge": {
          "axis": {
           "range": [
            1,
            5
           ]
          },
          "steps": [
           {
            "color": "red",
            "range": [
             1,
             2
            ]
           },
           {
            "color": "orange",
            "range": [
             2,
             3
            ]
           },
           {
            "color": "yellow",
            "range": [
             3,
             4
            ]
           },
           {
            "color": "green",
            "range": [
             4,
             5
            ]
           }
          ],
          "threshold": {
           "line": {
            "color": "black",
            "width": 4
           },
           "thickness": 0.75,
           "value": 3.4279687717820018
          }
         },
         "mode": "gauge+number",
         "title": {
          "text": "Calificación Promedio de Sentimientos"
         },
         "type": "indicator",
         "value": 3.4279687717820018
        }
       ],
       "layout": {
        "autosize": true,
        "template": {
         "data": {
          "bar": [
           {
            "error_x": {
             "color": "#2a3f5f"
            },
            "error_y": {
             "color": "#2a3f5f"
            },
            "marker": {
             "line": {
              "color": "#E5ECF6",
              "width": 0.5
             },
             "pattern": {
              "fillmode": "overlay",
              "size": 10,
              "solidity": 0.2
             }
            },
            "type": "bar"
           }
          ],
          "barpolar": [
           {
            "marker": {
             "line": {
              "color": "#E5ECF6",
              "width": 0.5
             },
             "pattern": {
              "fillmode": "overlay",
              "size": 10,
              "solidity": 0.2
             }
            },
            "type": "barpolar"
           }
          ],
          "carpet": [
           {
            "aaxis": {
             "endlinecolor": "#2a3f5f",
             "gridcolor": "white",
             "linecolor": "white",
             "minorgridcolor": "white",
             "startlinecolor": "#2a3f5f"
            },
            "baxis": {
             "endlinecolor": "#2a3f5f",
             "gridcolor": "white",
             "linecolor": "white",
             "minorgridcolor": "white",
             "startlinecolor": "#2a3f5f"
            },
            "type": "carpet"
           }
          ],
          "choropleth": [
           {
            "colorbar": {
             "outlinewidth": 0,
             "ticks": ""
            },
            "type": "choropleth"
           }
          ],
          "contour": [
           {
            "colorbar": {
             "outlinewidth": 0,
             "ticks": ""
            },
            "colorscale": [
             [
              0,
              "#0d0887"
             ],
             [
              0.1111111111111111,
              "#46039f"
             ],
             [
              0.2222222222222222,
              "#7201a8"
             ],
             [
              0.3333333333333333,
              "#9c179e"
             ],
             [
              0.4444444444444444,
              "#bd3786"
             ],
             [
              0.5555555555555556,
              "#d8576b"
             ],
             [
              0.6666666666666666,
              "#ed7953"
             ],
             [
              0.7777777777777778,
              "#fb9f3a"
             ],
             [
              0.8888888888888888,
              "#fdca26"
             ],
             [
              1,
              "#f0f921"
             ]
            ],
            "type": "contour"
           }
          ],
          "contourcarpet": [
           {
            "colorbar": {
             "outlinewidth": 0,
             "ticks": ""
            },
            "type": "contourcarpet"
           }
          ],
          "heatmap": [
           {
            "colorbar": {
             "outlinewidth": 0,
             "ticks": ""
            },
            "colorscale": [
             [
              0,
              "#0d0887"
             ],
             [
              0.1111111111111111,
              "#46039f"
             ],
             [
              0.2222222222222222,
              "#7201a8"
             ],
             [
              0.3333333333333333,
              "#9c179e"
             ],
             [
              0.4444444444444444,
              "#bd3786"
             ],
             [
              0.5555555555555556,
              "#d8576b"
             ],
             [
              0.6666666666666666,
              "#ed7953"
             ],
             [
              0.7777777777777778,
              "#fb9f3a"
             ],
             [
              0.8888888888888888,
              "#fdca26"
             ],
             [
              1,
              "#f0f921"
             ]
            ],
            "type": "heatmap"
           }
          ],
          "heatmapgl": [
           {
            "colorbar": {
             "outlinewidth": 0,
             "ticks": ""
            },
            "colorscale": [
             [
              0,
              "#0d0887"
             ],
             [
              0.1111111111111111,
              "#46039f"
             ],
             [
              0.2222222222222222,
              "#7201a8"
             ],
             [
              0.3333333333333333,
              "#9c179e"
             ],
             [
              0.4444444444444444,
              "#bd3786"
             ],
             [
              0.5555555555555556,
              "#d8576b"
             ],
             [
              0.6666666666666666,
              "#ed7953"
             ],
             [
              0.7777777777777778,
              "#fb9f3a"
             ],
             [
              0.8888888888888888,
              "#fdca26"
             ],
             [
              1,
              "#f0f921"
             ]
            ],
            "type": "heatmapgl"
           }
          ],
          "histogram": [
           {
            "marker": {
             "pattern": {
              "fillmode": "overlay",
              "size": 10,
              "solidity": 0.2
             }
            },
            "type": "histogram"
           }
          ],
          "histogram2d": [
           {
            "colorbar": {
             "outlinewidth": 0,
             "ticks": ""
            },
            "colorscale": [
             [
              0,
              "#0d0887"
             ],
             [
              0.1111111111111111,
              "#46039f"
             ],
             [
              0.2222222222222222,
              "#7201a8"
             ],
             [
              0.3333333333333333,
              "#9c179e"
             ],
             [
              0.4444444444444444,
              "#bd3786"
             ],
             [
              0.5555555555555556,
              "#d8576b"
             ],
             [
              0.6666666666666666,
              "#ed7953"
             ],
             [
              0.7777777777777778,
              "#fb9f3a"
             ],
             [
              0.8888888888888888,
              "#fdca26"
             ],
             [
              1,
              "#f0f921"
             ]
            ],
            "type": "histogram2d"
           }
          ],
          "histogram2dcontour": [
           {
            "colorbar": {
             "outlinewidth": 0,
             "ticks": ""
            },
            "colorscale": [
             [
              0,
              "#0d0887"
             ],
             [
              0.1111111111111111,
              "#46039f"
             ],
             [
              0.2222222222222222,
              "#7201a8"
             ],
             [
              0.3333333333333333,
              "#9c179e"
             ],
             [
              0.4444444444444444,
              "#bd3786"
             ],
             [
              0.5555555555555556,
              "#d8576b"
             ],
             [
              0.6666666666666666,
              "#ed7953"
             ],
             [
              0.7777777777777778,
              "#fb9f3a"
             ],
             [
              0.8888888888888888,
              "#fdca26"
             ],
             [
              1,
              "#f0f921"
             ]
            ],
            "type": "histogram2dcontour"
           }
          ],
          "mesh3d": [
           {
            "colorbar": {
             "outlinewidth": 0,
             "ticks": ""
            },
            "type": "mesh3d"
           }
          ],
          "parcoords": [
           {
            "line": {
             "colorbar": {
              "outlinewidth": 0,
              "ticks": ""
             }
            },
            "type": "parcoords"
           }
          ],
          "pie": [
           {
            "automargin": true,
            "type": "pie"
           }
          ],
          "scatter": [
           {
            "fillpattern": {
             "fillmode": "overlay",
             "size": 10,
             "solidity": 0.2
            },
            "type": "scatter"
           }
          ],
          "scatter3d": [
           {
            "line": {
             "colorbar": {
              "outlinewidth": 0,
              "ticks": ""
             }
            },
            "marker": {
             "colorbar": {
              "outlinewidth": 0,
              "ticks": ""
             }
            },
            "type": "scatter3d"
           }
          ],
          "scattercarpet": [
           {
            "marker": {
             "colorbar": {
              "outlinewidth": 0,
              "ticks": ""
             }
            },
            "type": "scattercarpet"
           }
          ],
          "scattergeo": [
           {
            "marker": {
             "colorbar": {
              "outlinewidth": 0,
              "ticks": ""
             }
            },
            "type": "scattergeo"
           }
          ],
          "scattergl": [
           {
            "marker": {
             "colorbar": {
              "outlinewidth": 0,
              "ticks": ""
             }
            },
            "type": "scattergl"
           }
          ],
          "scattermapbox": [
           {
            "marker": {
             "colorbar": {
              "outlinewidth": 0,
              "ticks": ""
             }
            },
            "type": "scattermapbox"
           }
          ],
          "scatterpolar": [
           {
            "marker": {
             "colorbar": {
              "outlinewidth": 0,
              "ticks": ""
             }
            },
            "type": "scatterpolar"
           }
          ],
          "scatterpolargl": [
           {
            "marker": {
             "colorbar": {
              "outlinewidth": 0,
              "ticks": ""
             }
            },
            "type": "scatterpolargl"
           }
          ],
          "scatterternary": [
           {
            "marker": {
             "colorbar": {
              "outlinewidth": 0,
              "ticks": ""
             }
            },
            "type": "scatterternary"
           }
          ],
          "surface": [
           {
            "colorbar": {
             "outlinewidth": 0,
             "ticks": ""
            },
            "colorscale": [
             [
              0,
              "#0d0887"
             ],
             [
              0.1111111111111111,
              "#46039f"
             ],
             [
              0.2222222222222222,
              "#7201a8"
             ],
             [
              0.3333333333333333,
              "#9c179e"
             ],
             [
              0.4444444444444444,
              "#bd3786"
             ],
             [
              0.5555555555555556,
              "#d8576b"
             ],
             [
              0.6666666666666666,
              "#ed7953"
             ],
             [
              0.7777777777777778,
              "#fb9f3a"
             ],
             [
              0.8888888888888888,
              "#fdca26"
             ],
             [
              1,
              "#f0f921"
             ]
            ],
            "type": "surface"
           }
          ],
          "table": [
           {
            "cells": {
             "fill": {
              "color": "#EBF0F8"
             },
             "line": {
              "color": "white"
             }
            },
            "header": {
             "fill": {
              "color": "#C8D4E3"
             },
             "line": {
              "color": "white"
             }
            },
            "type": "table"
           }
          ]
         },
         "layout": {
          "annotationdefaults": {
           "arrowcolor": "#2a3f5f",
           "arrowhead": 0,
           "arrowwidth": 1
          },
          "autotypenumbers": "strict",
          "coloraxis": {
           "colorbar": {
            "outlinewidth": 0,
            "ticks": ""
           }
          },
          "colorscale": {
           "diverging": [
            [
             0,
             "#8e0152"
            ],
            [
             0.1,
             "#c51b7d"
            ],
            [
             0.2,
             "#de77ae"
            ],
            [
             0.3,
             "#f1b6da"
            ],
            [
             0.4,
             "#fde0ef"
            ],
            [
             0.5,
             "#f7f7f7"
            ],
            [
             0.6,
             "#e6f5d0"
            ],
            [
             0.7,
             "#b8e186"
            ],
            [
             0.8,
             "#7fbc41"
            ],
            [
             0.9,
             "#4d9221"
            ],
            [
             1,
             "#276419"
            ]
           ],
           "sequential": [
            [
             0,
             "#0d0887"
            ],
            [
             0.1111111111111111,
             "#46039f"
            ],
            [
             0.2222222222222222,
             "#7201a8"
            ],
            [
             0.3333333333333333,
             "#9c179e"
            ],
            [
             0.4444444444444444,
             "#bd3786"
            ],
            [
             0.5555555555555556,
             "#d8576b"
            ],
            [
             0.6666666666666666,
             "#ed7953"
            ],
            [
             0.7777777777777778,
             "#fb9f3a"
            ],
            [
             0.8888888888888888,
             "#fdca26"
            ],
            [
             1,
             "#f0f921"
            ]
           ],
           "sequentialminus": [
            [
             0,
             "#0d0887"
            ],
            [
             0.1111111111111111,
             "#46039f"
            ],
            [
             0.2222222222222222,
             "#7201a8"
            ],
            [
             0.3333333333333333,
             "#9c179e"
            ],
            [
             0.4444444444444444,
             "#bd3786"
            ],
            [
             0.5555555555555556,
             "#d8576b"
            ],
            [
             0.6666666666666666,
             "#ed7953"
            ],
            [
             0.7777777777777778,
             "#fb9f3a"
            ],
            [
             0.8888888888888888,
             "#fdca26"
            ],
            [
             1,
             "#f0f921"
            ]
           ]
          },
          "colorway": [
           "#636efa",
           "#EF553B",
           "#00cc96",
           "#ab63fa",
           "#FFA15A",
           "#19d3f3",
           "#FF6692",
           "#B6E880",
           "#FF97FF",
           "#FECB52"
          ],
          "font": {
           "color": "#2a3f5f"
          },
          "geo": {
           "bgcolor": "white",
           "lakecolor": "white",
           "landcolor": "#E5ECF6",
           "showlakes": true,
           "showland": true,
           "subunitcolor": "white"
          },
          "hoverlabel": {
           "align": "left"
          },
          "hovermode": "closest",
          "mapbox": {
           "style": "light"
          },
          "paper_bgcolor": "white",
          "plot_bgcolor": "#E5ECF6",
          "polar": {
           "angularaxis": {
            "gridcolor": "white",
            "linecolor": "white",
            "ticks": ""
           },
           "bgcolor": "#E5ECF6",
           "radialaxis": {
            "gridcolor": "white",
            "linecolor": "white",
            "ticks": ""
           }
          },
          "scene": {
           "xaxis": {
            "backgroundcolor": "#E5ECF6",
            "gridcolor": "white",
            "gridwidth": 2,
            "linecolor": "white",
            "showbackground": true,
            "ticks": "",
            "zerolinecolor": "white"
           },
           "yaxis": {
            "backgroundcolor": "#E5ECF6",
            "gridcolor": "white",
            "gridwidth": 2,
            "linecolor": "white",
            "showbackground": true,
            "ticks": "",
            "zerolinecolor": "white"
           },
           "zaxis": {
            "backgroundcolor": "#E5ECF6",
            "gridcolor": "white",
            "gridwidth": 2,
            "linecolor": "white",
            "showbackground": true,
            "ticks": "",
            "zerolinecolor": "white"
           }
          },
          "shapedefaults": {
           "line": {
            "color": "#2a3f5f"
           }
          },
          "ternary": {
           "aaxis": {
            "gridcolor": "white",
            "linecolor": "white",
            "ticks": ""
           },
           "baxis": {
            "gridcolor": "white",
            "linecolor": "white",
            "ticks": ""
           },
           "bgcolor": "#E5ECF6",
           "caxis": {
            "gridcolor": "white",
            "linecolor": "white",
            "ticks": ""
           }
          },
          "title": {
           "x": 0.05
          },
          "xaxis": {
           "automargin": true,
           "gridcolor": "white",
           "linecolor": "white",
           "ticks": "",
           "title": {
            "standoff": 15
           },
           "zerolinecolor": "white",
           "zerolinewidth": 2
          },
          "yaxis": {
           "automargin": true,
           "gridcolor": "white",
           "linecolor": "white",
           "ticks": "",
           "title": {
            "standoff": 15
           },
           "zerolinecolor": "white",
           "zerolinewidth": 2
          }
         }
        }
       }
      },
      "image/png": "[encoded data removed]",
      "text/html": [
       "<div>                            <div id=\"61743124-0662-4bd4-b862-1669aa01cf73\" class=\"plotly-graph-div\" style=\"height:525px; width:100%;\"></div>            <script type=\"text/javascript\">                require([\"plotly\"], function(Plotly) {                    window.PLOTLYENV=window.PLOTLYENV || {};                                    if (document.getElementById(\"61743124-0662-4bd4-b862-1669aa01cf73\")) {                    Plotly.newPlot(                        \"61743124-0662-4bd4-b862-1669aa01cf73\",                        [{\"gauge\":{\"axis\":{\"range\":[1,5]},\"steps\":[{\"color\":\"red\",\"range\":[1,2]},{\"color\":\"orange\",\"range\":[2,3]},{\"color\":\"yellow\",\"range\":[3,4]},{\"color\":\"green\",\"range\":[4,5]}],\"threshold\":{\"line\":{\"color\":\"black\",\"width\":4},\"thickness\":0.75,\"value\":3.4279687717820018}},\"mode\":\"gauge+number\",\"title\":{\"text\":\"Calificaci\\u00f3n Promedio de Sentimientos\"},\"value\":3.4279687717820018,\"type\":\"indicator\"}],                        {\"template\":{\"data\":{\"histogram2dcontour\":[{\"type\":\"histogram2dcontour\",\"colorbar\":{\"outlinewidth\":0,\"ticks\":\"\"},\"colorscale\":[[0.0,\"#0d0887\"],[0.1111111111111111,\"#46039f\"],[0.2222222222222222,\"#7201a8\"],[0.3333333333333333,\"#9c179e\"],[0.4444444444444444,\"#bd3786\"],[0.5555555555555556,\"#d8576b\"],[0.6666666666666666,\"#ed7953\"],[0.7777777777777778,\"#fb9f3a\"],[0.8888888888888888,\"#fdca26\"],[1.0,\"#f0f921\"]]}],\"choropleth\":[{\"type\":\"choropleth\",\"colorbar\":{\"outlinewidth\":0,\"ticks\":\"\"}}],\"histogram2d\":[{\"type\":\"histogram2d\",\"colorbar\":{\"outlinewidth\":0,\"ticks\":\"\"},\"colorscale\":[[0.0,\"#0d0887\"],[0.1111111111111111,\"#46039f\"],[0.2222222222222222,\"#7201a8\"],[0.3333333333333333,\"#9c179e\"],[0.4444444444444444,\"#bd3786\"],[0.5555555555555556,\"#d8576b\"],[0.6666666666666666,\"#ed7953\"],[0.7777777777777778,\"#fb9f3a\"],[0.8888888888888888,\"#fdca26\"],[1.0,\"#f0f921\"]]}],\"heatmap\":[{\"type\":\"heatmap\",\"colorbar\":{\"outlinewidth\":0,\"ticks\":\"\"},\"colorscale\":[[0.0,\"#0d0887\"],[0.1111111111111111,\"#46039f\"],[0.2222222222222222,\"#7201a8\"],[0.3333333333333333,\"#9c179e\"],[0.4444444444444444,\"#bd3786\"],[0.5555555555555556,\"#d8576b\"],[0.6666666666666666,\"#ed7953\"],[0.7777777777777778,\"#fb9f3a\"],[0.8888888888888888,\"#fdca26\"],[1.0,\"#f0f921\"]]}],\"heatmapgl\":[{\"type\":\"heatmapgl\",\"colorbar\":{\"outlinewidth\":0,\"ticks\":\"\"},\"colorscale\":[[0.0,\"#0d0887\"],[0.1111111111111111,\"#46039f\"],[0.2222222222222222,\"#7201a8\"],[0.3333333333333333,\"#9c179e\"],[0.4444444444444444,\"#bd3786\"],[0.5555555555555556,\"#d8576b\"],[0.6666666666666666,\"#ed7953\"],[0.7777777777777778,\"#fb9f3a\"],[0.8888888888888888,\"#fdca26\"],[1.0,\"#f0f921\"]]}],\"contourcarpet\":[{\"type\":\"contourcarpet\",\"colorbar\":{\"outlinewidth\":0,\"ticks\":\"\"}}],\"contour\":[{\"type\":\"contour\",\"colorbar\":{\"outlinewidth\":0,\"ticks\":\"\"},\"colorscale\":[[0.0,\"#0d0887\"],[0.1111111111111111,\"#46039f\"],[0.2222222222222222,\"#7201a8\"],[0.3333333333333333,\"#9c179e\"],[0.4444444444444444,\"#bd3786\"],[0.5555555555555556,\"#d8576b\"],[0.6666666666666666,\"#ed7953\"],[0.7777777777777778,\"#fb9f3a\"],[0.8888888888888888,\"#fdca26\"],[1.0,\"#f0f921\"]]}],\"surface\":[{\"type\":\"surface\",\"colorbar\":{\"outlinewidth\":0,\"ticks\":\"\"},\"colorscale\":[[0.0,\"#0d0887\"],[0.1111111111111111,\"#46039f\"],[0.2222222222222222,\"#7201a8\"],[0.3333333333333333,\"#9c179e\"],[0.4444444444444444,\"#bd3786\"],[0.5555555555555556,\"#d8576b\"],[0.6666666666666666,\"#ed7953\"],[0.7777777777777778,\"#fb9f3a\"],[0.8888888888888888,\"#fdca26\"],[1.0,\"#f0f921\"]]}],\"mesh3d\":[{\"type\":\"mesh3d\",\"colorbar\":{\"outlinewidth\":0,\"ticks\":\"\"}}],\"scatter\":[{\"fillpattern\":{\"fillmode\":\"overlay\",\"size\":10,\"solidity\":0.2},\"type\":\"scatter\"}],\"parcoords\":[{\"type\":\"parcoords\",\"line\":{\"colorbar\":{\"outlinewidth\":0,\"ticks\":\"\"}}}],\"scatterpolargl\":[{\"type\":\"scatterpolargl\",\"marker\":{\"colorbar\":{\"outlinewidth\":0,\"ticks\":\"\"}}}],\"bar\":[{\"error_x\":{\"color\":\"#2a3f5f\"},\"error_y\":{\"color\":\"#2a3f5f\"},\"marker\":{\"line\":{\"color\":\"#E5ECF6\",\"width\":0.5},\"pattern\":{\"fillmode\":\"overlay\",\"size\":10,\"solidity\":0.2}},\"type\":\"bar\"}],\"scattergeo\":[{\"type\":\"scattergeo\",\"marker\":{\"colorbar\":{\"outlinewidth\":0,\"ticks\":\"\"}}}],\"scatterpolar\":[{\"type\":\"scatterpolar\",\"marker\":{\"colorbar\":{\"outlinewidth\":0,\"ticks\":\"\"}}}],\"histogram\":[{\"marker\":{\"pattern\":{\"fillmode\":\"overlay\",\"size\":10,\"solidity\":0.2}},\"type\":\"histogram\"}],\"scattergl\":[{\"type\":\"scattergl\",\"marker\":{\"colorbar\":{\"outlinewidth\":0,\"ticks\":\"\"}}}],\"scatter3d\":[{\"type\":\"scatter3d\",\"line\":{\"colorbar\":{\"outlinewidth\":0,\"ticks\":\"\"}},\"marker\":{\"colorbar\":{\"outlinewidth\":0,\"ticks\":\"\"}}}],\"scattermapbox\":[{\"type\":\"scattermapbox\",\"marker\":{\"colorbar\":{\"outlinewidth\":0,\"ticks\":\"\"}}}],\"scatterternary\":[{\"type\":\"scatterternary\",\"marker\":{\"colorbar\":{\"outlinewidth\":0,\"ticks\":\"\"}}}],\"scattercarpet\":[{\"type\":\"scattercarpet\",\"marker\":{\"colorbar\":{\"outlinewidth\":0,\"ticks\":\"\"}}}],\"carpet\":[{\"aaxis\":{\"endlinecolor\":\"#2a3f5f\",\"gridcolor\":\"white\",\"linecolor\":\"white\",\"minorgridcolor\":\"white\",\"startlinecolor\":\"#2a3f5f\"},\"baxis\":{\"endlinecolor\":\"#2a3f5f\",\"gridcolor\":\"white\",\"linecolor\":\"white\",\"minorgridcolor\":\"white\",\"startlinecolor\":\"#2a3f5f\"},\"type\":\"carpet\"}],\"table\":[{\"cells\":{\"fill\":{\"color\":\"#EBF0F8\"},\"line\":{\"color\":\"white\"}},\"header\":{\"fill\":{\"color\":\"#C8D4E3\"},\"line\":{\"color\":\"white\"}},\"type\":\"table\"}],\"barpolar\":[{\"marker\":{\"line\":{\"color\":\"#E5ECF6\",\"width\":0.5},\"pattern\":{\"fillmode\":\"overlay\",\"size\":10,\"solidity\":0.2}},\"type\":\"barpolar\"}],\"pie\":[{\"automargin\":true,\"type\":\"pie\"}]},\"layout\":{\"autotypenumbers\":\"strict\",\"colorway\":[\"#636efa\",\"#EF553B\",\"#00cc96\",\"#ab63fa\",\"#FFA15A\",\"#19d3f3\",\"#FF6692\",\"#B6E880\",\"#FF97FF\",\"#FECB52\"],\"font\":{\"color\":\"#2a3f5f\"},\"hovermode\":\"closest\",\"hoverlabel\":{\"align\":\"left\"},\"paper_bgcolor\":\"white\",\"plot_bgcolor\":\"#E5ECF6\",\"polar\":{\"bgcolor\":\"#E5ECF6\",\"angularaxis\":{\"gridcolor\":\"white\",\"linecolor\":\"white\",\"ticks\":\"\"},\"radialaxis\":{\"gridcolor\":\"white\",\"linecolor\":\"white\",\"ticks\":\"\"}},\"ternary\":{\"bgcolor\":\"#E5ECF6\",\"aaxis\":{\"gridcolor\":\"white\",\"linecolor\":\"white\",\"ticks\":\"\"},\"baxis\":{\"gridcolor\":\"white\",\"linecolor\":\"white\",\"ticks\":\"\"},\"caxis\":{\"gridcolor\":\"white\",\"linecolor\":\"white\",\"ticks\":\"\"}},\"coloraxis\":{\"colorbar\":{\"outlinewidth\":0,\"ticks\":\"\"}},\"colorscale\":{\"sequential\":[[0.0,\"#0d0887\"],[0.1111111111111111,\"#46039f\"],[0.2222222222222222,\"#7201a8\"],[0.3333333333333333,\"#9c179e\"],[0.4444444444444444,\"#bd3786\"],[0.5555555555555556,\"#d8576b\"],[0.6666666666666666,\"#ed7953\"],[0.7777777777777778,\"#fb9f3a\"],[0.8888888888888888,\"#fdca26\"],[1.0,\"#f0f921\"]],\"sequentialminus\":[[0.0,\"#0d0887\"],[0.1111111111111111,\"#46039f\"],[0.2222222222222222,\"#7201a8\"],[0.3333333333333333,\"#9c179e\"],[0.4444444444444444,\"#bd3786\"],[0.5555555555555556,\"#d8576b\"],[0.6666666666666666,\"#ed7953\"],[0.7777777777777778,\"#fb9f3a\"],[0.8888888888888888,\"#fdca26\"],[1.0,\"#f0f921\"]],\"diverging\":[[0,\"#8e0152\"],[0.1,\"#c51b7d\"],[0.2,\"#de77ae\"],[0.3,\"#f1b6da\"],[0.4,\"#fde0ef\"],[0.5,\"#f7f7f7\"],[0.6,\"#e6f5d0\"],[0.7,\"#b8e186\"],[0.8,\"#7fbc41\"],[0.9,\"#4d9221\"],[1,\"#276419\"]]},\"xaxis\":{\"gridcolor\":\"white\",\"linecolor\":\"white\",\"ticks\":\"\",\"title\":{\"standoff\":15},\"zerolinecolor\":\"white\",\"automargin\":true,\"zerolinewidth\":2},\"yaxis\":{\"gridcolor\":\"white\",\"linecolor\":\"white\",\"ticks\":\"\",\"title\":{\"standoff\":15},\"zerolinecolor\":\"white\",\"automargin\":true,\"zerolinewidth\":2},\"scene\":{\"xaxis\":{\"backgroundcolor\":\"#E5ECF6\",\"gridcolor\":\"white\",\"linecolor\":\"white\",\"showbackground\":true,\"ticks\":\"\",\"zerolinecolor\":\"white\",\"gridwidth\":2},\"yaxis\":{\"backgroundcolor\":\"#E5ECF6\",\"gridcolor\":\"white\",\"linecolor\":\"white\",\"showbackground\":true,\"ticks\":\"\",\"zerolinecolor\":\"white\",\"gridwidth\":2},\"zaxis\":{\"backgroundcolor\":\"#E5ECF6\",\"gridcolor\":\"white\",\"linecolor\":\"white\",\"showbackground\":true,\"ticks\":\"\",\"zerolinecolor\":\"white\",\"gridwidth\":2}},\"shapedefaults\":{\"line\":{\"color\":\"#2a3f5f\"}},\"annotationdefaults\":{\"arrowcolor\":\"#2a3f5f\",\"arrowhead\":0,\"arrowwidth\":1},\"geo\":{\"bgcolor\":\"white\",\"landcolor\":\"#E5ECF6\",\"subunitcolor\":\"white\",\"showland\":true,\"showlakes\":true,\"lakecolor\":\"white\"},\"title\":{\"x\":0.05},\"mapbox\":{\"style\":\"light\"}}}},                        {\"responsive\": true}                    ).then(function(){\n",
       "                            \n",
       "var gd = document.getElementById('61743124-0662-4bd4-b862-1669aa01cf73');\n",
       "var x = new MutationObserver(function (mutations, observer) {{\n",
       "        var display = window.getComputedStyle(gd).display;\n",
       "        if (!display || display === 'none') {{\n",
       "            console.log([gd, 'removed!']);\n",
       "            Plotly.purge(gd);\n",
       "            observer.disconnect();\n",
       "        }}\n",
       "}});\n",
       "\n",
       "// Listen for the removal of the full notebook cells\n",
       "var notebookContainer = gd.closest('#notebook-container');\n",
       "if (notebookContainer) {{\n",
       "    x.observe(notebookContainer, {childList: true});\n",
       "}}\n",
       "\n",
       "// Listen for the clearing of the current output cell\n",
       "var outputEl = gd.closest('.output');\n",
       "if (outputEl) {{\n",
       "    x.observe(outputEl, {childList: true});\n",
       "}}\n",
       "\n",
       "                        })                };                });            </script>        </div>"
      ]
     },
     "metadata": {},
     "output_type": "display_data"
    }
   ],
   "source": [
    "#Graficado en un Gauge meter y reconvertido para analizar todas las páginas de comentarios\n",
    "\n",
    "import requests\n",
    "from textblob import TextBlob\n",
    "import plotly.graph_objects as go\n",
    "\n",
    "def get_reviews(asin):\n",
    "    reviews = []\n",
    "    page = 1\n",
    "    while True:\n",
    "        url = \"https://real-time-amazon-data.p.rapidapi.com/product-reviews\"\n",
    "        querystring = {\n",
    "            \"asin\": asin,\n",
    "            \"country\": \"US\",\n",
    "            \"sort_by\": \"TOP_REVIEWS\",\n",
    "            \"star_rating\": \"ALL\",\n",
    "            \"verified_purchases_only\": \"false\",\n",
    "            \"images_or_videos_only\": \"false\",\n",
    "            \"current_format_only\": \"false\",\n",
    "            \"page\": page\n",
    "        }\n",
    "\n",
    "        headers = {\n",
    "            \"x-rapidapi-key\": \"38e65580ffmsh55d6f1788db421ap1ff5b0jsn3f9029414f2f\",\n",
    "            \"x-rapidapi-host\": \"real-time-amazon-data.p.rapidapi.com\"\n",
    "        }\n",
    "\n",
    "        response = requests.get(url, headers=headers, params=querystring)\n",
    "        data = response.json()\n",
    "        \n",
    "        if 'data' in data and 'reviews' in data['data']:\n",
    "            reviews_on_page = data['data']['reviews']\n",
    "            if not reviews_on_page:\n",
    "                break\n",
    "            reviews.extend(reviews_on_page)\n",
    "        else:\n",
    "            break  # Stop if there are no more reviews or if the data format is unexpected\n",
    "        \n",
    "        page += 1\n",
    "    return reviews\n",
    "\n",
    "def analyze_sentiments(reviews):\n",
    "    sentiments = []\n",
    "    for review in reviews:\n",
    "        analysis = TextBlob(review['review_comment'])\n",
    "        sentiments.append(analysis.sentiment.polarity)\n",
    "    if sentiments:\n",
    "        avg_sentiment = sum(sentiments) / len(sentiments)\n",
    "        return avg_sentiment\n",
    "    else:\n",
    "        return None\n",
    "\n",
    "def sentiment_to_rating(avg_sentiment):\n",
    "    return 1 + (avg_sentiment + 1) * 2\n",
    "\n",
    "def create_gauge_meter(rating):\n",
    "    fig = go.Figure(go.Indicator(\n",
    "        mode = \"gauge+number\",\n",
    "        value = rating,\n",
    "        title = {'text': \"Calificación Promedio de Sentimientos\"},\n",
    "        gauge = {\n",
    "            'axis': {'range': [1, 5]},\n",
    "            'steps' : [\n",
    "                {'range': [1, 2], 'color': \"red\"},\n",
    "                {'range': [2, 3], 'color': \"orange\"},\n",
    "                {'range': [3, 4], 'color': \"yellow\"},\n",
    "                {'range': [4, 5], 'color': \"green\"}\n",
    "            ],\n",
    "            'threshold' : {\n",
    "                'line': {'color': \"black\", 'width': 4},\n",
    "                'thickness': 0.75,\n",
    "                'value': rating\n",
    "            }\n",
    "        }\n",
    "    ))\n",
    "\n",
    "    fig.show()\n",
    "\n",
    "asin = \"B0CN1QSH8Q\"\n",
    "reviews = get_reviews(asin)\n",
    "avg_sentiment = analyze_sentiments(reviews)\n",
    "\n",
    "if avg_sentiment is not None:\n",
    "    rating = sentiment_to_rating(avg_sentiment)\n",
    "    print(f\"La calificación promedio de los sentimientos de los comentarios para el producto {asin} es: {rating:.2f}\")\n",
    "    create_gauge_meter(rating)\n",
    "else:\n",
    "    print(\"No se encontraron sentimientos en los comentarios.\")\n"
   ]
  },
  {
   "cell_type": "code",
   "execution_count": 10,
   "id": "89c679bf-3cf2-4526-8cd0-1f6effb7e831",
   "metadata": {},
   "outputs": [
    {
     "ename": "FileNotFoundError",
     "evalue": "[Errno 2] No such file or directory: 'C://Users//USUARIO//Desktop//NRC-Emotion-Lexicon//NRC-Emotion-Lexicon-Wordlevel-v0.92.txt'",
     "output_type": "error",
     "traceback": [
      "\u001b[1;31m---------------------------------------------------------------------------\u001b[0m",
      "\u001b[1;31mFileNotFoundError\u001b[0m                         Traceback (most recent call last)",
      "Cell \u001b[1;32mIn[10], line 43\u001b[0m\n\u001b[0;32m     40\u001b[0m     plt\u001b[38;5;241m.\u001b[39mshow()\n\u001b[0;32m     42\u001b[0m \u001b[38;5;66;03m# Carga del lexicon\u001b[39;00m\n\u001b[1;32m---> 43\u001b[0m nrc_lexicon \u001b[38;5;241m=\u001b[39m \u001b[43mload_nrc_lexicon\u001b[49m\u001b[43m(\u001b[49m\u001b[43mnrc_lexicon_file\u001b[49m\u001b[43m)\u001b[49m\n\u001b[0;32m     45\u001b[0m \u001b[38;5;66;03m# Ejemplo de texto\u001b[39;00m\n\u001b[0;32m     46\u001b[0m text \u001b[38;5;241m=\u001b[39m \u001b[38;5;124m\"\u001b[39m\u001b[38;5;124mEstoy muy feliz y emocionado, pero también algo nervioso y preocupado.\u001b[39m\u001b[38;5;124m\"\u001b[39m\n",
      "Cell \u001b[1;32mIn[10], line 11\u001b[0m, in \u001b[0;36mload_nrc_lexicon\u001b[1;34m(file_path)\u001b[0m\n\u001b[0;32m      9\u001b[0m \u001b[38;5;28;01mdef\u001b[39;00m \u001b[38;5;21mload_nrc_lexicon\u001b[39m(file_path):\n\u001b[0;32m     10\u001b[0m     nrc_lexicon \u001b[38;5;241m=\u001b[39m defaultdict(\u001b[38;5;28mlist\u001b[39m)\n\u001b[1;32m---> 11\u001b[0m     \u001b[38;5;28;01mwith\u001b[39;00m \u001b[38;5;28;43mopen\u001b[39;49m\u001b[43m(\u001b[49m\u001b[43mfile_path\u001b[49m\u001b[43m,\u001b[49m\u001b[43m \u001b[49m\u001b[38;5;124;43m'\u001b[39;49m\u001b[38;5;124;43mr\u001b[39;49m\u001b[38;5;124;43m'\u001b[39;49m\u001b[43m)\u001b[49m \u001b[38;5;28;01mas\u001b[39;00m f:\n\u001b[0;32m     12\u001b[0m         \u001b[38;5;28;01mfor\u001b[39;00m line \u001b[38;5;129;01min\u001b[39;00m f:\n\u001b[0;32m     13\u001b[0m             word, emotion, association \u001b[38;5;241m=\u001b[39m line\u001b[38;5;241m.\u001b[39mstrip()\u001b[38;5;241m.\u001b[39msplit(\u001b[38;5;124m'\u001b[39m\u001b[38;5;130;01m\\t\u001b[39;00m\u001b[38;5;124m'\u001b[39m)\n",
      "File \u001b[1;32m~\\AppData\\Roaming\\Python\\Python311\\site-packages\\IPython\\core\\interactiveshell.py:324\u001b[0m, in \u001b[0;36m_modified_open\u001b[1;34m(file, *args, **kwargs)\u001b[0m\n\u001b[0;32m    317\u001b[0m \u001b[38;5;28;01mif\u001b[39;00m file \u001b[38;5;129;01min\u001b[39;00m {\u001b[38;5;241m0\u001b[39m, \u001b[38;5;241m1\u001b[39m, \u001b[38;5;241m2\u001b[39m}:\n\u001b[0;32m    318\u001b[0m     \u001b[38;5;28;01mraise\u001b[39;00m \u001b[38;5;167;01mValueError\u001b[39;00m(\n\u001b[0;32m    319\u001b[0m         \u001b[38;5;124mf\u001b[39m\u001b[38;5;124m\"\u001b[39m\u001b[38;5;124mIPython won\u001b[39m\u001b[38;5;124m'\u001b[39m\u001b[38;5;124mt let you open fd=\u001b[39m\u001b[38;5;132;01m{\u001b[39;00mfile\u001b[38;5;132;01m}\u001b[39;00m\u001b[38;5;124m by default \u001b[39m\u001b[38;5;124m\"\u001b[39m\n\u001b[0;32m    320\u001b[0m         \u001b[38;5;124m\"\u001b[39m\u001b[38;5;124mas it is likely to crash IPython. If you know what you are doing, \u001b[39m\u001b[38;5;124m\"\u001b[39m\n\u001b[0;32m    321\u001b[0m         \u001b[38;5;124m\"\u001b[39m\u001b[38;5;124myou can use builtins\u001b[39m\u001b[38;5;124m'\u001b[39m\u001b[38;5;124m open.\u001b[39m\u001b[38;5;124m\"\u001b[39m\n\u001b[0;32m    322\u001b[0m     )\n\u001b[1;32m--> 324\u001b[0m \u001b[38;5;28;01mreturn\u001b[39;00m \u001b[43mio_open\u001b[49m\u001b[43m(\u001b[49m\u001b[43mfile\u001b[49m\u001b[43m,\u001b[49m\u001b[43m \u001b[49m\u001b[38;5;241;43m*\u001b[39;49m\u001b[43margs\u001b[49m\u001b[43m,\u001b[49m\u001b[43m \u001b[49m\u001b[38;5;241;43m*\u001b[39;49m\u001b[38;5;241;43m*\u001b[39;49m\u001b[43mkwargs\u001b[49m\u001b[43m)\u001b[49m\n",
      "\u001b[1;31mFileNotFoundError\u001b[0m: [Errno 2] No such file or directory: 'C://Users//USUARIO//Desktop//NRC-Emotion-Lexicon//NRC-Emotion-Lexicon-Wordlevel-v0.92.txt'"
     ]
    }
   ],
   "source": [
    "import matplotlib.pyplot as plt\n",
    "from collections import defaultdict\n",
    "import nltk\n",
    "from nltk.tokenize import word_tokenize\n",
    "\n",
    "# Asegúrate de haber descargado el archivo 'NRC-Emotion-Lexicon-Wordlevel-v0.92.txt' y coloca la ruta correcta aquí\n",
    "nrc_lexicon_file = 'C://Users//USUARIO//Desktop//NRC-Emotion-Lexicon//NRC-Emotion-Lexicon-Wordlevel-v0.92.txt'\n",
    "\n",
    "def load_nrc_lexicon(file_path):\n",
    "    nrc_lexicon = defaultdict(list)\n",
    "    with open(file_path, 'r') as f:\n",
    "        for line in f:\n",
    "            word, emotion, association = line.strip().split('\\t')\n",
    "            if int(association) == 1:\n",
    "                nrc_lexicon[emotion].append(word)\n",
    "    return nrc_lexicon\n",
    "\n",
    "def analyze_emotions(text, lexicon):\n",
    "    emotions = defaultdict(int)\n",
    "    words = word_tokenize(text.lower())\n",
    "    for word in words:\n",
    "        for emotion, words in lexicon.items():\n",
    "            if word in words:\n",
    "                emotions[emotion] += 1\n",
    "    return emotions\n",
    "\n",
    "def plot_emotions(emotions):\n",
    "    categories = list(emotions.keys())\n",
    "    values = list(emotions.values())\n",
    "\n",
    "    plt.figure(figsize=(10, 5))\n",
    "    bars = plt.bar(categories, values, color=['green', 'cyan', 'yellow', 'orange', 'red'])\n",
    "    \n",
    "    for bar, emotion in zip(bars, emotions):\n",
    "        plt.text(bar.get_x() + bar.get_width() / 2, bar.get_height() - 5, str(emotion), ha='center', color='black')\n",
    "    \n",
    "    plt.xlabel('Emociones')\n",
    "    plt.ylabel('Frecuencia')\n",
    "    plt.title('Análisis de Emociones')\n",
    "    plt.show()\n",
    "\n",
    "# Carga del lexicon\n",
    "nrc_lexicon = load_nrc_lexicon(nrc_lexicon_file)\n",
    "\n",
    "# Ejemplo de texto\n",
    "text = \"Estoy muy feliz y emocionado, pero también algo nervioso y preocupado.\"\n",
    "\n",
    "# Análisis de emociones\n",
    "emotions = analyze_emotions(text, nrc_lexicon)\n",
    "\n",
    "# Mostrar gráfico de emociones\n",
    "plot_emotions(emotions)\n"
   ]
  },
  {
   "cell_type": "code",
   "execution_count": null,
   "id": "7d928755-62d8-4164-bf76-a475d481f06b",
   "metadata": {},
   "outputs": [],
   "source": []
  }
 ],
 "metadata": {
  "kernelspec": {
   "display_name": "Python 3 (ipykernel)",
   "language": "python",
   "name": "python3"
  },
  "language_info": {
   "codemirror_mode": {
    "name": "ipython",
    "version": 3
   },
   "file_extension": ".py",
   "mimetype": "text/x-python",
   "name": "python",
   "nbconvert_exporter": "python",
   "pygments_lexer": "ipython3",
   "version": "3.11.7"
  }
 },
 "nbformat": 4,
 "nbformat_minor": 5
}
