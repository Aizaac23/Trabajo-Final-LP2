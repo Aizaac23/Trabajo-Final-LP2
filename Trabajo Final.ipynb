{
 "cells": [
  {
   "cell_type": "markdown",
   "id": "b953b342-4bed-4c52-b82f-e31e239ddc13",
   "metadata": {},
   "source": [
    "<center><h1><span style=\"\">Universidad Nacional Agraria La Molina</span></h1></center>\n",
    "<center><h2><span style=\"\">Carrera Profesional de Estadística Infórmatica</span></h2></center>\n",
    "\n",
    "<center><img src=\"https://raw.githubusercontent.com/tengolaaag/Final-LP2/main/escudo.jpg\" width=\"300\" height=\"200\"></center>\n",
    "\n",
    "<center><h4><span style=\"\">Curso: Lenguaje de Programación II</span></h4></center>\n",
    "<center><h3><span style=\"\"> <b>Proyecto: <i>   </b></i></span></h3></center>\n",
    "\n",
    "<center><h3><span style=\"\">Docente: Mg. Denise CHALAN LLAJARUNA</span></h3></center>\n",
    "\n",
    "### Integrantes: \n",
    "- Pedro Isaac Ñaupa Celis\n",
    "- Manolo Meza Rodríguez\n",
    "- Bruno Fabrizzio Candiotti Neyra\n",
    "\n",
    "## Introducción"
   ]
  },
  {
   "cell_type": "markdown",
   "id": "89b1eb39-5e46-405f-a4fa-13bc3772962f",
   "metadata": {},
   "source": [
    "# Objetivos (sb)\n",
    "## Objetivo General\n",
    "- Analizar los sentimientos generados en los comentarios de telefonos inteligentes vendido en Amazon EEUU.\n",
    "## Objetivos específicos\n",
    "- Extraer la base de datos en un archivo csv.\n",
    "- Visualizar información relevante de cada telefono inteligente vendido en Amazon EEUU.\n",
    "- Mostrar gráficas de sentimientos.\n",
    "- Verificar las ofertas."
   ]
  },
  {
   "cell_type": "markdown",
   "id": "1fba4b5d-cca8-4ad4-97ea-3eb9ad94506b",
   "metadata": {},
   "source": [
    "# Planificación del proyecto\n",
    "## Distribución de roles\n",
    "- Desarrollador Principal: Bruno\n",
    "    - Responsabilidades:\n",
    "         -\tLiderar el desarrollo de la extracción de datos\n",
    "         -\tConfiguración y autenticación de la API.\n",
    "        -\tAsegurar la correcta integración de todas las partes del proyecto.\n",
    "        -\tGuardar los datos extraídos en una base de datos o en archivos CSV/JSON.\n",
    "\n",
    "- Encargado de Documentación y Análisis de datos: Manolo\n",
    "    - Responsabilidades:\n",
    "        - Colaborar con Bruno en el desarrollo del código para extraer información relevante de los anuncios.\n",
    "        - Documentar cada parte del código y del proceso.\n",
    "        - Procesar y limpiar los datos extraídos.\n",
    "        - Realizar la transformación de datos útil, como calcular estadísticas básicas.\n",
    "        - Asegurarse de que toda la documentación esté clara y completa.\n",
    "- Project Manager y Encargado de la Página Web: Isaac\n",
    "  - Responsabilidades:\n",
    "      -  Coordinar y supervisar todas las actividades del proyecto.\n",
    "      -   Configurar el flujo de trabajo en GitHub y gestionar ramas y merges.\n",
    "      -   Crear la página web utilizando HTML y bibliotecas de visualización.\n",
    "      -   Incluir elementos interactivos para mejorar la experiencia del usuario\n",
    "      -   .Configurar el flujo de trabajo en GitHub y gestionar las ramas y los merges.\n",
    "      -   Realizar pruebas exhaustivas de la página web.\n",
    "## Flujo de trabajo\n",
    "- Cada integrante del proyecto crea ramas para funcionalidades relacionadas con su rol\n",
    "- Crear Pull Requests y fusionar ramas en main.\n",
    "\n",
    "# Documentación (sb)\n",
    "\n",
    "\n",
    "https://rapidapi.com/letscrape-6bRBa3QguO5/api/real-time-amazon-dat\n",
    "\n",
    "\n",
    "\n",
    "\n"
   ]
  },
  {
   "cell_type": "markdown",
   "id": "6346fba6-787c-47c0-aa28-1f566845fcd5",
   "metadata": {},
   "source": [
    "# Extracción de información\n"
   ]
  },
  {
   "cell_type": "markdown",
   "id": "8f374f57-ca1b-4dbf-898d-e20eb445b492",
   "metadata": {},
   "source": [
    "# Descarga automatizada del csv\n"
   ]
  },
  {
   "cell_type": "code",
   "execution_count": 25,
   "id": "e5474c0d-f999-4e0d-872e-25deeb4b3c34",
   "metadata": {},
   "outputs": [
    {
     "name": "stdout",
     "output_type": "stream",
     "text": [
      "Los datos se han guardado en el archivo amazon_phone_products.csv\n"
     ]
    }
   ],
   "source": [
    "import requests\n",
    "import csv\n",
    "\n",
    "url = \"https://real-time-amazon-data.p.rapidapi.com/search\"\n",
    "\n",
    "querystring = {\n",
    "    \"query\": \"Phone\",\n",
    "    \"page\": \"1\",\n",
    "    \"country\": \"US\",\n",
    "    \"sort_by\": \"RELEVANCE\",\n",
    "    \"product_condition\": \"ALL\"\n",
    "}\n",
    "\n",
    "headers = {\n",
    "    \"x-rapidapi-key\": \"b1627f263cmshc8a4015df1f477fp133675jsnba40922e0ffc\",\n",
    "    \"x-rapidapi-host\": \"real-time-amazon-data.p.rapidapi.com\"\n",
    "}\n",
    "\n",
    "response = requests.get(url, headers=headers, params=querystring)\n",
    "\n",
    "if response.status_code == 200:\n",
    "    products_data = response.json()\n",
    "    \n",
    "    # Verificar si los datos tienen productos\n",
    "    if 'data' in products_data and 'products' in products_data['data']:\n",
    "        products = products_data['data']['products']\n",
    "        \n",
    "        # Definir el nombre del archivo CSV\n",
    "        csv_filename = \"amazon_phone_products.csv\"\n",
    "        \n",
    "        # Abrir el archivo CSV en modo escritura\n",
    "        with open(csv_filename, mode='w', newline='', encoding='utf-8') as file:\n",
    "            writer = csv.writer(file)\n",
    "            \n",
    "            # Escribir la cabecera del CSV (basada en las claves del primer producto)\n",
    "            header = products[0].keys()\n",
    "            writer.writerow(header)\n",
    "            \n",
    "            # Escribir los datos de los productos\n",
    "            for product in products:\n",
    "                writer.writerow(product.values())\n",
    "        \n",
    "        print(f\"Los datos se han guardado en el archivo {csv_filename}\")\n",
    "    else:\n",
    "        print(\"No se encontraron productos en los datos de la API.\")\n",
    "else:\n",
    "    print(\"Solicitud HTTP fallida con el código de estado: \", response.status_code)"
   ]
  },
  {
   "cell_type": "code",
   "execution_count": 26,
   "id": "405b6809",
   "metadata": {},
   "outputs": [
    {
     "name": "stdout",
     "output_type": "stream",
     "text": [
      "asin: B0CN1QSH8Q\n",
      "product_title: SAMSUNG Galaxy A15 5G A Series Cell Phone, 128GB Unlocked Android Smartphone, AMOLED Display, Expandable Storage, Knox Security, Super Fast Charging, Hi-Res Camera, US Version, 2024, Blue Black\n",
      "product_price: $199.99\n",
      "product_original_price: None\n",
      "currency: USD\n",
      "product_star_rating: 4.1\n",
      "product_num_ratings: 350\n",
      "product_url: https://www.amazon.com/dp/B0CN1QSH8Q\n",
      "product_photo: https://m.media-amazon.com/images/I/61s0ZzwzSCL._AC_UY654_FMwebp_QL65_.jpg\n",
      "product_num_offers: 2\n",
      "product_minimum_offer_price: $146.93\n",
      "is_best_seller: False\n",
      "is_amazon_choice: False\n",
      "is_prime: True\n",
      "climate_pledge_friendly: True\n",
      "sales_volume: 2K+ bought in past month\n",
      "delivery: FREE delivery Fri, Jul 19 Or fastest delivery Tue, Jul 16\n",
      "has_variations: True\n"
     ]
    }
   ],
   "source": [
    "import requests\n",
    "\n",
    "url = \"https://real-time-amazon-data.p.rapidapi.com/search\"\n",
    "\n",
    "querystring = {\n",
    "    \"query\": \"Phone\",\n",
    "    \"page\": \"1\",\n",
    "    \"country\": \"US\",\n",
    "    \"sort_by\": \"RELEVANCE\",\n",
    "    \"product_condition\": \"ALL\"\n",
    "}\n",
    "\n",
    "headers = {\n",
    "    \"x-rapidapi-key\": \"b1627f263cmshc8a4015df1f477fp133675jsnba40922e0ffc\",\n",
    "    \"x-rapidapi-host\": \"real-time-amazon-data.p.rapidapi.com\"\n",
    "}\n",
    "\n",
    "response = requests.get(url, headers=headers, params=querystring)\n",
    "\n",
    "if response.status_code == 200:\n",
    "    products_data = response.json()\n",
    "    \n",
    "    # Verificar si los datos tienen productos\n",
    "    if 'data' in products_data and 'products' in products_data['data']:\n",
    "        products = products_data['data']['products']\n",
    "        \n",
    "        # Mostrar información del primer teléfono\n",
    "        if products:\n",
    "            first_phone = products[0]\n",
    "            for key, value in first_phone.items():\n",
    "                print(f\"{key}: {value}\")\n",
    "        else:\n",
    "            print(\"No se encontraron productos.\")\n",
    "    else:\n",
    "        print(\"No se encontraron productos en los datos de la API.\")\n",
    "else:\n",
    "    print(\"Solicitud HTTP fallida con el código de estado: \", response.status_code)"
   ]
  },
  {
   "cell_type": "code",
   "execution_count": 2,
   "id": "742d0d91",
   "metadata": {},
   "outputs": [
    {
     "name": "stdout",
     "output_type": "stream",
     "text": [
      "ASIN: B0BZ9XNBRB\n",
      "Title: Google Pixel 7a - Unlocked Android Cell Phone - Smartphone with Wide Angle Lens and 24-Hour Battery - 128 GB – Charcoal\n",
      "Price: $249.00\n",
      "Original Price: $499.00\n",
      "Rating: 4.3\n",
      "Number of Ratings: 2167\n",
      "URL: https://www.amazon.com/dp/B0BZ9XNBRB\n",
      "Photo URL: https://m.media-amazon.com/images/I/61r7cCpQPlL._AC_UY654_FMwebp_QL65_.jpg\n",
      "Number of Offers: 1\n",
      "Minimum Offer Price: $249.00\n",
      "Best Seller: False\n",
      "Amazon Choice: False\n",
      "Prime: False\n",
      "Climate Pledge Friendly: False\n",
      "Sales Volume: 500+ bought in past month\n",
      "Delivery: None\n",
      "Has Variations: True\n",
      "----------------------------------------\n",
      "ASIN: B0BQ118F2T\n",
      "Title: Moto G Play 2023 3-Day Battery Unlocked Made for US 3/32GB 16MP Camera Navy Blue\n",
      "Price: $94.95\n",
      "Original Price: $169.99\n",
      "Rating: 4.1\n",
      "Number of Ratings: 2814\n",
      "URL: https://www.amazon.com/dp/B0BQ118F2T\n",
      "Photo URL: https://m.media-amazon.com/images/I/61K1Fz5LxvL._AC_UY654_FMwebp_QL65_.jpg\n",
      "Number of Offers: 1\n",
      "Minimum Offer Price: $94.95\n",
      "Best Seller: False\n",
      "Amazon Choice: False\n",
      "Prime: False\n",
      "Climate Pledge Friendly: False\n",
      "Sales Volume: 3K+ bought in past month\n",
      "Delivery: None\n",
      "Has Variations: True\n",
      "----------------------------------------\n",
      "ASIN: B09SM24S8C\n",
      "Title: Samsung Galaxy A03s Cell Phone, AT&amp;T GSM Unlocked Android Smartphone, 32GB, Long Lasting Battery, Expandable Storage, 3 Camera Lenses, Infinite Display - Black (Renewed)\n",
      "Price: $74.00\n",
      "Original Price: $87.14\n",
      "Rating: 3.9\n",
      "Number of Ratings: 429\n",
      "URL: https://www.amazon.com/dp/B09SM24S8C\n",
      "Photo URL: https://m.media-amazon.com/images/I/51m45B3Yy+L._AC_UY654_FMwebp_QL65_.jpg\n",
      "Number of Offers: 26\n",
      "Minimum Offer Price: $61.56\n",
      "Best Seller: False\n",
      "Amazon Choice: False\n",
      "Prime: False\n",
      "Climate Pledge Friendly: False\n",
      "Sales Volume: 2K+ bought in past month\n",
      "Delivery: FREE delivery Thu, Jul 18\n",
      "Has Variations: True\n",
      "----------------------------------------\n",
      "ASIN: B0C5BMB1WB\n",
      "Title: Motorola One Ace | 2021 | 2-Day Battery | Unlocked | Made for US 4/64GB | 48MP Camera | Volcanic Gray\n",
      "Price: $85.73\n",
      "Original Price: None\n",
      "Rating: 4\n",
      "Number of Ratings: 109\n",
      "URL: https://www.amazon.com/dp/B0C5BMB1WB\n",
      "Photo URL: https://m.media-amazon.com/images/I/51JEsDX-ynL._AC_UY654_FMwebp_QL65_.jpg\n",
      "Number of Offers: 1\n",
      "Minimum Offer Price: $85.73\n",
      "Best Seller: False\n",
      "Amazon Choice: False\n",
      "Prime: True\n",
      "Climate Pledge Friendly: False\n",
      "Sales Volume: 1K+ bought in past month\n",
      "Delivery: FREE delivery Sun, Jul 21 Or fastest delivery Thu, Jul 18\n",
      "Has Variations: False\n",
      "----------------------------------------\n",
      "ASIN: B0CN1QSH8Q\n",
      "Title: SAMSUNG Galaxy A15 5G A Series Cell Phone, 128GB Unlocked Android Smartphone, AMOLED Display, Expandable Storage, Knox Security, Super Fast Charging, Hi-Res Camera, US Version, 2024, Blue Black\n",
      "Price: $199.99\n",
      "Original Price: None\n",
      "Rating: 4.1\n",
      "Number of Ratings: 354\n",
      "URL: https://www.amazon.com/dp/B0CN1QSH8Q\n",
      "Photo URL: https://m.media-amazon.com/images/I/61s0ZzwzSCL._AC_UY654_FMwebp_QL65_.jpg\n",
      "Number of Offers: 2\n",
      "Minimum Offer Price: $171.11\n",
      "Best Seller: False\n",
      "Amazon Choice: False\n",
      "Prime: True\n",
      "Climate Pledge Friendly: True\n",
      "Sales Volume: 2K+ bought in past month\n",
      "Delivery: FREE delivery Sun, Jul 21 Or fastest delivery Thu, Jul 18\n",
      "Has Variations: True\n",
      "----------------------------------------\n",
      "ASIN: B0CHH6X6H2\n",
      "Title: Total by Verizon | Samsung Galaxy A03s | Locked | 32GB | 5000mAh Battery | 48MP Main Camera | 6.5-in. HD+Infinity-V Display | Black\n",
      "Price: $39.99\n",
      "Original Price: $49.99\n",
      "Rating: 4\n",
      "Number of Ratings: 169\n",
      "URL: https://www.amazon.com/dp/B0CHH6X6H2\n",
      "Photo URL: https://m.media-amazon.com/images/I/812woqv69CL._AC_UY654_FMwebp_QL65_.jpg\n",
      "Number of Offers: 1\n",
      "Minimum Offer Price: $39.99\n",
      "Best Seller: False\n",
      "Amazon Choice: False\n",
      "Prime: False\n",
      "Climate Pledge Friendly: False\n",
      "Sales Volume: 1K+ bought in past month\n",
      "Delivery: None\n",
      "Has Variations: False\n",
      "----------------------------------------\n",
      "ASIN: B086QB7WZ1\n",
      "Title: AT&amp;T BL102-2 DECT 6.0 2-Handset Cordless Phone for Home with Answering Machine, Call Blocking, Caller ID Announcer, Audio Assist, Intercom, and Unsurpassed Range, Silver/Black\n",
      "Price: $39.99\n",
      "Original Price: $56.95\n",
      "Rating: 4.3\n",
      "Number of Ratings: 26499\n",
      "URL: https://www.amazon.com/dp/B086QB7WZ1\n",
      "Photo URL: https://m.media-amazon.com/images/I/81vjTHTF9WL._AC_UY654_FMwebp_QL65_.jpg\n",
      "Number of Offers: 1\n",
      "Minimum Offer Price: $39.99\n",
      "Best Seller: True\n",
      "Amazon Choice: False\n",
      "Prime: False\n",
      "Climate Pledge Friendly: False\n",
      "Sales Volume: 3K+ bought in past month\n",
      "Delivery: None\n",
      "Has Variations: False\n",
      "----------------------------------------\n",
      "ASIN: B0CRVWXJ6H\n",
      "Title: Samsung Galaxy A25 5G (SM-A256E/DS), 128GB 6GB RAM, Dual SIM, Factory Unlocked GSM, International Version (Wall Charger Bundle) - (Blue Black)\n",
      "Price: $199.99\n",
      "Original Price: $247.97\n",
      "Rating: 4\n",
      "Number of Ratings: 134\n",
      "URL: https://www.amazon.com/dp/B0CRVWXJ6H\n",
      "Photo URL: https://m.media-amazon.com/images/I/51m744UUjYL._AC_UY654_FMwebp_QL65_.jpg\n",
      "Number of Offers: 14\n",
      "Minimum Offer Price: $169.99\n",
      "Best Seller: False\n",
      "Amazon Choice: False\n",
      "Prime: False\n",
      "Climate Pledge Friendly: False\n",
      "Sales Volume: 1K+ bought in past month\n",
      "Delivery: FREE delivery Thu, Jul 18 Only 2 left in stock - order soon.\n",
      "Has Variations: True\n",
      "----------------------------------------\n",
      "ASIN: B07ZPKBL9V\n",
      "Title: Apple iPhone 11, 64GB, (PRODUCT)RED - Fully Unlocked (Renewed)\n",
      "Price: $218.74\n",
      "Original Price: None\n",
      "Rating: 4.2\n",
      "Number of Ratings: 51392\n",
      "URL: https://www.amazon.com/dp/B07ZPKBL9V\n",
      "Photo URL: https://m.media-amazon.com/images/I/510Fpe16MoL._AC_UY654_FMwebp_QL65_.jpg\n",
      "Number of Offers: 31\n",
      "Minimum Offer Price: $198.99\n",
      "Best Seller: False\n",
      "Amazon Choice: False\n",
      "Prime: False\n",
      "Climate Pledge Friendly: True\n",
      "Sales Volume: 500+ bought in past month\n",
      "Delivery: FREE delivery Thu, Jul 18 Or fastest delivery Tomorrow, Jul 17\n",
      "Has Variations: True\n",
      "----------------------------------------\n",
      "ASIN: B08VLMQ3KS\n",
      "Title: Samsung Galaxy S21 5G, US Version, 128GB, Phantom Gray - Unlocked (Renewed)\n",
      "Price: $204.00\n",
      "Original Price: $335.22\n",
      "Rating: 3.9\n",
      "Number of Ratings: 5841\n",
      "URL: https://www.amazon.com/dp/B08VLMQ3KS\n",
      "Photo URL: https://m.media-amazon.com/images/I/61jYjeuNUnL._AC_UY654_FMwebp_QL65_.jpg\n",
      "Number of Offers: 55\n",
      "Minimum Offer Price: $145.00\n",
      "Best Seller: False\n",
      "Amazon Choice: False\n",
      "Prime: True\n",
      "Climate Pledge Friendly: True\n",
      "Sales Volume: 3K+ bought in past month\n",
      "Delivery: FREE delivery Sun, Jul 21 Or fastest delivery Fri, Jul 19\n",
      "Has Variations: False\n",
      "----------------------------------------\n",
      "ASIN: B0CV4NH5T9\n",
      "Title: SAMSUNG Galaxy A35 5G A Series Cell Phone, 128GB Unlocked Android Smartphone, AMOLED Display, Advanced Triple Camera System, Expandable Storage, Rugged Design, US Version, 2024, Awesome Lilac\n",
      "Price: $366.56\n",
      "Original Price: $399.99\n",
      "Rating: 4.3\n",
      "Number of Ratings: 66\n",
      "URL: https://www.amazon.com/dp/B0CV4NH5T9\n",
      "Photo URL: https://m.media-amazon.com/images/I/71lw4ZWUfYL._AC_UY654_FMwebp_QL65_.jpg\n",
      "Number of Offers: 4\n",
      "Minimum Offer Price: $339.83\n",
      "Best Seller: False\n",
      "Amazon Choice: False\n",
      "Prime: True\n",
      "Climate Pledge Friendly: True\n",
      "Sales Volume: 500+ bought in past month\n",
      "Delivery: FREE delivery Sun, Jul 21 Or fastest delivery Fri, Jul 19 Only 1 left in stock - order soon.\n",
      "Has Variations: True\n",
      "----------------------------------------\n",
      "ASIN: B096T6Y623\n",
      "Title: Samsung Galaxy S21 Ultra 5G, US Version, 128GB, Phantom Black - Unlocked (Renewed)\n",
      "Price: $298.99\n",
      "Original Price: None\n",
      "Rating: 4\n",
      "Number of Ratings: 2115\n",
      "URL: https://www.amazon.com/dp/B096T6Y623\n",
      "Photo URL: https://m.media-amazon.com/images/I/61dlAm9BpqL._AC_UY654_FMwebp_QL65_.jpg\n",
      "Number of Offers: 39\n",
      "Minimum Offer Price: $256.00\n",
      "Best Seller: False\n",
      "Amazon Choice: False\n",
      "Prime: True\n",
      "Climate Pledge Friendly: True\n",
      "Sales Volume: 2K+ bought in past month\n",
      "Delivery: FREE delivery Thu, Jul 18\n",
      "Has Variations: True\n",
      "----------------------------------------\n",
      "ASIN: B0CMDRFVTL\n",
      "Title: SAMSUNG Galaxy S24 Cell Phone, 256GB AI Smartphone, Unlocked Android, 50MP Camera, Fastest Processor, Long Battery Life, US Version, 2024, Cobalt Violet\n",
      "Price: $659.99\n",
      "Original Price: $859.99\n",
      "Rating: 4.5\n",
      "Number of Ratings: 1687\n",
      "URL: https://www.amazon.com/dp/B0CMDRFVTL\n",
      "Photo URL: https://m.media-amazon.com/images/I/716UvwH-NvL._AC_UY654_FMwebp_QL65_.jpg\n",
      "Number of Offers: 1\n",
      "Minimum Offer Price: $659.99\n",
      "Best Seller: False\n",
      "Amazon Choice: False\n",
      "Prime: False\n",
      "Climate Pledge Friendly: True\n",
      "Sales Volume: 200+ bought in past month\n",
      "Delivery: None\n",
      "Has Variations: True\n",
      "----------------------------------------\n",
      "ASIN: B0CGWF3F64\n",
      "Title: Motorola razr | 2023 | Unlocked | Made for US 8/128 | 32MP Camera | Summer Lilac, 73.95 x 170.82 x 7.35mm\n",
      "Price: $332.99\n",
      "Original Price: $699.99\n",
      "Rating: 4.1\n",
      "Number of Ratings: 300\n",
      "URL: https://www.amazon.com/dp/B0CGWF3F64\n",
      "Photo URL: https://m.media-amazon.com/images/I/61nVT+i3rdL._AC_UY654_FMwebp_QL65_.jpg\n",
      "Number of Offers: 1\n",
      "Minimum Offer Price: $332.99\n",
      "Best Seller: False\n",
      "Amazon Choice: False\n",
      "Prime: False\n",
      "Climate Pledge Friendly: False\n",
      "Sales Volume: 100+ bought in past month\n",
      "Delivery: None\n",
      "Has Variations: False\n",
      "----------------------------------------\n",
      "ASIN: B08FRS8NPP\n",
      "Title: Samsung Galaxy S20+ 5G 128GB Fully Unlocked Smartphone (Renewed)\n",
      "Price: $199.99\n",
      "Original Price: $274.92\n",
      "Rating: 4.1\n",
      "Number of Ratings: 2775\n",
      "URL: https://www.amazon.com/dp/B08FRS8NPP\n",
      "Photo URL: https://m.media-amazon.com/images/I/61Q9IXJ1zcS._AC_UY654_FMwebp_QL65_.jpg\n",
      "Number of Offers: 44\n",
      "Minimum Offer Price: $164.99\n",
      "Best Seller: False\n",
      "Amazon Choice: False\n",
      "Prime: True\n",
      "Climate Pledge Friendly: True\n",
      "Sales Volume: 500+ bought in past month\n",
      "Delivery: FREE delivery Sun, Jul 21 Or fastest delivery Thu, Jul 18\n",
      "Has Variations: True\n",
      "----------------------------------------\n",
      "ASIN: B0CGTD5KVT\n",
      "Title: Google Pixel 8 - Unlocked Android Smartphone with Advanced Pixel Camera, 24-Hour Battery, and Powerful Security - Obsidian - 128 GB\n",
      "Price: $665.00\n",
      "Original Price: $699.00\n",
      "Rating: 4.3\n",
      "Number of Ratings: 1997\n",
      "URL: https://www.amazon.com/dp/B0CGTD5KVT\n",
      "Photo URL: https://m.media-amazon.com/images/I/81Mya-dPIOL._AC_UY654_FMwebp_QL65_.jpg\n",
      "Number of Offers: 7\n",
      "Minimum Offer Price: $435.00\n",
      "Best Seller: False\n",
      "Amazon Choice: False\n",
      "Prime: False\n",
      "Climate Pledge Friendly: False\n",
      "Sales Volume: 500+ bought in past month\n",
      "Delivery: FREE delivery Thu, Jul 18 Or fastest delivery Tomorrow, Jul 17 Only 2 left in stock - order soon.\n",
      "Has Variations: True\n",
      "----------------------------------------\n"
     ]
    }
   ],
   "source": [
    "import requests\n",
    "\n",
    "url = \"https://real-time-amazon-data.p.rapidapi.com/search\"\n",
    "\n",
    "querystring = {\n",
    "    \"query\": \"Phone\",\n",
    "    \"page\": \"1\",\n",
    "    \"country\": \"US\",\n",
    "    \"sort_by\": \"RELEVANCE\",\n",
    "    \"product_condition\": \"ALL\"\n",
    "}\n",
    "\n",
    "headers = {\n",
    "    \"x-rapidapi-key\": \"b1627f263cmshc8a4015df1f477fp133675jsnba40922e0ffc\",\n",
    "    \"x-rapidapi-host\": \"real-time-amazon-data.p.rapidapi.com\"\n",
    "}\n",
    "\n",
    "response = requests.get(url, headers=headers, params=querystring)\n",
    "\n",
    "if response.status_code == 200:\n",
    "    products_data = response.json()\n",
    "    \n",
    "    # Extraer información de los productos\n",
    "    products = products_data.get('data', {}).get('products', [])\n",
    "    \n",
    "    for product in products:\n",
    "        asin = product.get('asin')\n",
    "        title = product.get('product_title')\n",
    "        price = product.get('product_price')\n",
    "        original_price = product.get('product_original_price')\n",
    "        rating = product.get('product_star_rating')\n",
    "        num_ratings = product.get('product_num_ratings')\n",
    "        url = product.get('product_url')\n",
    "        photo_url = product.get('product_photo')\n",
    "        num_offers = product.get('product_num_offers')\n",
    "        minimum_offer_price = product.get('product_minimum_offer_price')\n",
    "        is_best_seller = product.get('is_best_seller')\n",
    "        is_amazon_choice = product.get('is_amazon_choice')\n",
    "        is_prime = product.get('is_prime')\n",
    "        climate_pledge_friendly = product.get('climate_pledge_friendly')\n",
    "        sales_volume = product.get('sales_volume')\n",
    "        delivery = product.get('delivery')\n",
    "        has_variations = product.get('has_variations')\n",
    "        \n",
    "        print(f\"ASIN: {asin}\")\n",
    "        print(f\"Title: {title}\")\n",
    "        print(f\"Price: {price}\")\n",
    "        print(f\"Original Price: {original_price}\")\n",
    "        print(f\"Rating: {rating}\")\n",
    "        print(f\"Number of Ratings: {num_ratings}\")\n",
    "        print(f\"URL: {url}\")\n",
    "        print(f\"Photo URL: {photo_url}\")\n",
    "        print(f\"Number of Offers: {num_offers}\")\n",
    "        print(f\"Minimum Offer Price: {minimum_offer_price}\")\n",
    "        print(f\"Best Seller: {is_best_seller}\")\n",
    "        print(f\"Amazon Choice: {is_amazon_choice}\")\n",
    "        print(f\"Prime: {is_prime}\")\n",
    "        print(f\"Climate Pledge Friendly: {climate_pledge_friendly}\")\n",
    "        print(f\"Sales Volume: {sales_volume}\")\n",
    "        print(f\"Delivery: {delivery}\")\n",
    "        print(f\"Has Variations: {has_variations}\")\n",
    "        print(\"-\" * 40)\n",
    "else:\n",
    "    print(\"Solicitud HTTP fallida con el código de estado: \", response.status_code)\n"
   ]
  },
  {
   "cell_type": "code",
   "execution_count": 27,
   "id": "9c19b693",
   "metadata": {},
   "outputs": [
    {
     "name": "stdout",
     "output_type": "stream",
     "text": [
      "Requirement already satisfied: TextBlob in c:\\users\\manolo\\anaconda3\\lib\\site-packages (0.18.0.post0)\n",
      "Requirement already satisfied: nltk>=3.8 in c:\\users\\manolo\\anaconda3\\lib\\site-packages (from TextBlob) (3.8.1)\n",
      "Requirement already satisfied: joblib in c:\\users\\manolo\\anaconda3\\lib\\site-packages (from nltk>=3.8->TextBlob) (1.1.0)\n",
      "Requirement already satisfied: click in c:\\users\\manolo\\anaconda3\\lib\\site-packages (from nltk>=3.8->TextBlob) (8.0.4)\n",
      "Requirement already satisfied: regex>=2021.8.3 in c:\\users\\manolo\\anaconda3\\lib\\site-packages (from nltk>=3.8->TextBlob) (2022.3.15)\n",
      "Requirement already satisfied: tqdm in c:\\users\\manolo\\anaconda3\\lib\\site-packages (from nltk>=3.8->TextBlob) (4.64.0)\n",
      "Requirement already satisfied: colorama in c:\\users\\manolo\\anaconda3\\lib\\site-packages (from click->nltk>=3.8->TextBlob) (0.4.4)\n"
     ]
    }
   ],
   "source": [
    "!pip install TextBlob "
   ]
  },
  {
   "cell_type": "code",
   "execution_count": 28,
   "id": "4ccd3132",
   "metadata": {},
   "outputs": [
    {
     "name": "stderr",
     "output_type": "stream",
     "text": [
      "[nltk_data] Downloading package punkt to\n",
      "[nltk_data]     C:\\Users\\Manolo\\AppData\\Roaming\\nltk_data...\n",
      "[nltk_data]   Package punkt is already up-to-date!\n"
     ]
    },
    {
     "data": {
      "text/plain": [
       "True"
      ]
     },
     "execution_count": 28,
     "metadata": {},
     "output_type": "execute_result"
    }
   ],
   "source": [
    "nltk.download(\"punkt\")"
   ]
  },
  {
   "cell_type": "code",
   "execution_count": 29,
   "id": "973ea843",
   "metadata": {},
   "outputs": [
    {
     "name": "stdout",
     "output_type": "stream",
     "text": [
      "La calificación promedio de los sentimientos de los comentarios para el producto B0CN1QSH8Q es: 3.43\n"
     ]
    },
    {
     "data": {
      "application/vnd.plotly.v1+json": {
       "config": {
        "plotlyServerURL": "https://plot.ly"
       },
       "data": [
        {
         "gauge": {
          "axis": {
           "range": [
            1,
            5
           ]
          },
          "steps": [
           {
            "color": "red",
            "range": [
             1,
             2
            ]
           },
           {
            "color": "orange",
            "range": [
             2,
             3
            ]
           },
           {
            "color": "yellow",
            "range": [
             3,
             4
            ]
           },
           {
            "color": "green",
            "range": [
             4,
             5
            ]
           }
          ],
          "threshold": {
           "line": {
            "color": "black",
            "width": 4
           },
           "thickness": 0.75,
           "value": 3.4279687717820018
          }
         },
         "mode": "gauge+number",
         "title": {
          "text": "Calificación Promedio de Sentimientos"
         },
         "type": "indicator",
         "value": 3.4279687717820018
        }
       ],
       "layout": {
        "template": {
         "data": {
          "bar": [
           {
            "error_x": {
             "color": "#2a3f5f"
            },
            "error_y": {
             "color": "#2a3f5f"
            },
            "marker": {
             "line": {
              "color": "#E5ECF6",
              "width": 0.5
             },
             "pattern": {
              "fillmode": "overlay",
              "size": 10,
              "solidity": 0.2
             }
            },
            "type": "bar"
           }
          ],
          "barpolar": [
           {
            "marker": {
             "line": {
              "color": "#E5ECF6",
              "width": 0.5
             },
             "pattern": {
              "fillmode": "overlay",
              "size": 10,
              "solidity": 0.2
             }
            },
            "type": "barpolar"
           }
          ],
          "carpet": [
           {
            "aaxis": {
             "endlinecolor": "#2a3f5f",
             "gridcolor": "white",
             "linecolor": "white",
             "minorgridcolor": "white",
             "startlinecolor": "#2a3f5f"
            },
            "baxis": {
             "endlinecolor": "#2a3f5f",
             "gridcolor": "white",
             "linecolor": "white",
             "minorgridcolor": "white",
             "startlinecolor": "#2a3f5f"
            },
            "type": "carpet"
           }
          ],
          "choropleth": [
           {
            "colorbar": {
             "outlinewidth": 0,
             "ticks": ""
            },
            "type": "choropleth"
           }
          ],
          "contour": [
           {
            "colorbar": {
             "outlinewidth": 0,
             "ticks": ""
            },
            "colorscale": [
             [
              0,
              "#0d0887"
             ],
             [
              0.1111111111111111,
              "#46039f"
             ],
             [
              0.2222222222222222,
              "#7201a8"
             ],
             [
              0.3333333333333333,
              "#9c179e"
             ],
             [
              0.4444444444444444,
              "#bd3786"
             ],
             [
              0.5555555555555556,
              "#d8576b"
             ],
             [
              0.6666666666666666,
              "#ed7953"
             ],
             [
              0.7777777777777778,
              "#fb9f3a"
             ],
             [
              0.8888888888888888,
              "#fdca26"
             ],
             [
              1,
              "#f0f921"
             ]
            ],
            "type": "contour"
           }
          ],
          "contourcarpet": [
           {
            "colorbar": {
             "outlinewidth": 0,
             "ticks": ""
            },
            "type": "contourcarpet"
           }
          ],
          "heatmap": [
           {
            "colorbar": {
             "outlinewidth": 0,
             "ticks": ""
            },
            "colorscale": [
             [
              0,
              "#0d0887"
             ],
             [
              0.1111111111111111,
              "#46039f"
             ],
             [
              0.2222222222222222,
              "#7201a8"
             ],
             [
              0.3333333333333333,
              "#9c179e"
             ],
             [
              0.4444444444444444,
              "#bd3786"
             ],
             [
              0.5555555555555556,
              "#d8576b"
             ],
             [
              0.6666666666666666,
              "#ed7953"
             ],
             [
              0.7777777777777778,
              "#fb9f3a"
             ],
             [
              0.8888888888888888,
              "#fdca26"
             ],
             [
              1,
              "#f0f921"
             ]
            ],
            "type": "heatmap"
           }
          ],
          "heatmapgl": [
           {
            "colorbar": {
             "outlinewidth": 0,
             "ticks": ""
            },
            "colorscale": [
             [
              0,
              "#0d0887"
             ],
             [
              0.1111111111111111,
              "#46039f"
             ],
             [
              0.2222222222222222,
              "#7201a8"
             ],
             [
              0.3333333333333333,
              "#9c179e"
             ],
             [
              0.4444444444444444,
              "#bd3786"
             ],
             [
              0.5555555555555556,
              "#d8576b"
             ],
             [
              0.6666666666666666,
              "#ed7953"
             ],
             [
              0.7777777777777778,
              "#fb9f3a"
             ],
             [
              0.8888888888888888,
              "#fdca26"
             ],
             [
              1,
              "#f0f921"
             ]
            ],
            "type": "heatmapgl"
           }
          ],
          "histogram": [
           {
            "marker": {
             "pattern": {
              "fillmode": "overlay",
              "size": 10,
              "solidity": 0.2
             }
            },
            "type": "histogram"
           }
          ],
          "histogram2d": [
           {
            "colorbar": {
             "outlinewidth": 0,
             "ticks": ""
            },
            "colorscale": [
             [
              0,
              "#0d0887"
             ],
             [
              0.1111111111111111,
              "#46039f"
             ],
             [
              0.2222222222222222,
              "#7201a8"
             ],
             [
              0.3333333333333333,
              "#9c179e"
             ],
             [
              0.4444444444444444,
              "#bd3786"
             ],
             [
              0.5555555555555556,
              "#d8576b"
             ],
             [
              0.6666666666666666,
              "#ed7953"
             ],
             [
              0.7777777777777778,
              "#fb9f3a"
             ],
             [
              0.8888888888888888,
              "#fdca26"
             ],
             [
              1,
              "#f0f921"
             ]
            ],
            "type": "histogram2d"
           }
          ],
          "histogram2dcontour": [
           {
            "colorbar": {
             "outlinewidth": 0,
             "ticks": ""
            },
            "colorscale": [
             [
              0,
              "#0d0887"
             ],
             [
              0.1111111111111111,
              "#46039f"
             ],
             [
              0.2222222222222222,
              "#7201a8"
             ],
             [
              0.3333333333333333,
              "#9c179e"
             ],
             [
              0.4444444444444444,
              "#bd3786"
             ],
             [
              0.5555555555555556,
              "#d8576b"
             ],
             [
              0.6666666666666666,
              "#ed7953"
             ],
             [
              0.7777777777777778,
              "#fb9f3a"
             ],
             [
              0.8888888888888888,
              "#fdca26"
             ],
             [
              1,
              "#f0f921"
             ]
            ],
            "type": "histogram2dcontour"
           }
          ],
          "mesh3d": [
           {
            "colorbar": {
             "outlinewidth": 0,
             "ticks": ""
            },
            "type": "mesh3d"
           }
          ],
          "parcoords": [
           {
            "line": {
             "colorbar": {
              "outlinewidth": 0,
              "ticks": ""
             }
            },
            "type": "parcoords"
           }
          ],
          "pie": [
           {
            "automargin": true,
            "type": "pie"
           }
          ],
          "scatter": [
           {
            "marker": {
             "colorbar": {
              "outlinewidth": 0,
              "ticks": ""
             }
            },
            "type": "scatter"
           }
          ],
          "scatter3d": [
           {
            "line": {
             "colorbar": {
              "outlinewidth": 0,
              "ticks": ""
             }
            },
            "marker": {
             "colorbar": {
              "outlinewidth": 0,
              "ticks": ""
             }
            },
            "type": "scatter3d"
           }
          ],
          "scattercarpet": [
           {
            "marker": {
             "colorbar": {
              "outlinewidth": 0,
              "ticks": ""
             }
            },
            "type": "scattercarpet"
           }
          ],
          "scattergeo": [
           {
            "marker": {
             "colorbar": {
              "outlinewidth": 0,
              "ticks": ""
             }
            },
            "type": "scattergeo"
           }
          ],
          "scattergl": [
           {
            "marker": {
             "colorbar": {
              "outlinewidth": 0,
              "ticks": ""
             }
            },
            "type": "scattergl"
           }
          ],
          "scattermapbox": [
           {
            "marker": {
             "colorbar": {
              "outlinewidth": 0,
              "ticks": ""
             }
            },
            "type": "scattermapbox"
           }
          ],
          "scatterpolar": [
           {
            "marker": {
             "colorbar": {
              "outlinewidth": 0,
              "ticks": ""
             }
            },
            "type": "scatterpolar"
           }
          ],
          "scatterpolargl": [
           {
            "marker": {
             "colorbar": {
              "outlinewidth": 0,
              "ticks": ""
             }
            },
            "type": "scatterpolargl"
           }
          ],
          "scatterternary": [
           {
            "marker": {
             "colorbar": {
              "outlinewidth": 0,
              "ticks": ""
             }
            },
            "type": "scatterternary"
           }
          ],
          "surface": [
           {
            "colorbar": {
             "outlinewidth": 0,
             "ticks": ""
            },
            "colorscale": [
             [
              0,
              "#0d0887"
             ],
             [
              0.1111111111111111,
              "#46039f"
             ],
             [
              0.2222222222222222,
              "#7201a8"
             ],
             [
              0.3333333333333333,
              "#9c179e"
             ],
             [
              0.4444444444444444,
              "#bd3786"
             ],
             [
              0.5555555555555556,
              "#d8576b"
             ],
             [
              0.6666666666666666,
              "#ed7953"
             ],
             [
              0.7777777777777778,
              "#fb9f3a"
             ],
             [
              0.8888888888888888,
              "#fdca26"
             ],
             [
              1,
              "#f0f921"
             ]
            ],
            "type": "surface"
           }
          ],
          "table": [
           {
            "cells": {
             "fill": {
              "color": "#EBF0F8"
             },
             "line": {
              "color": "white"
             }
            },
            "header": {
             "fill": {
              "color": "#C8D4E3"
             },
             "line": {
              "color": "white"
             }
            },
            "type": "table"
           }
          ]
         },
         "layout": {
          "annotationdefaults": {
           "arrowcolor": "#2a3f5f",
           "arrowhead": 0,
           "arrowwidth": 1
          },
          "autotypenumbers": "strict",
          "coloraxis": {
           "colorbar": {
            "outlinewidth": 0,
            "ticks": ""
           }
          },
          "colorscale": {
           "diverging": [
            [
             0,
             "#8e0152"
            ],
            [
             0.1,
             "#c51b7d"
            ],
            [
             0.2,
             "#de77ae"
            ],
            [
             0.3,
             "#f1b6da"
            ],
            [
             0.4,
             "#fde0ef"
            ],
            [
             0.5,
             "#f7f7f7"
            ],
            [
             0.6,
             "#e6f5d0"
            ],
            [
             0.7,
             "#b8e186"
            ],
            [
             0.8,
             "#7fbc41"
            ],
            [
             0.9,
             "#4d9221"
            ],
            [
             1,
             "#276419"
            ]
           ],
           "sequential": [
            [
             0,
             "#0d0887"
            ],
            [
             0.1111111111111111,
             "#46039f"
            ],
            [
             0.2222222222222222,
             "#7201a8"
            ],
            [
             0.3333333333333333,
             "#9c179e"
            ],
            [
             0.4444444444444444,
             "#bd3786"
            ],
            [
             0.5555555555555556,
             "#d8576b"
            ],
            [
             0.6666666666666666,
             "#ed7953"
            ],
            [
             0.7777777777777778,
             "#fb9f3a"
            ],
            [
             0.8888888888888888,
             "#fdca26"
            ],
            [
             1,
             "#f0f921"
            ]
           ],
           "sequentialminus": [
            [
             0,
             "#0d0887"
            ],
            [
             0.1111111111111111,
             "#46039f"
            ],
            [
             0.2222222222222222,
             "#7201a8"
            ],
            [
             0.3333333333333333,
             "#9c179e"
            ],
            [
             0.4444444444444444,
             "#bd3786"
            ],
            [
             0.5555555555555556,
             "#d8576b"
            ],
            [
             0.6666666666666666,
             "#ed7953"
            ],
            [
             0.7777777777777778,
             "#fb9f3a"
            ],
            [
             0.8888888888888888,
             "#fdca26"
            ],
            [
             1,
             "#f0f921"
            ]
           ]
          },
          "colorway": [
           "#636efa",
           "#EF553B",
           "#00cc96",
           "#ab63fa",
           "#FFA15A",
           "#19d3f3",
           "#FF6692",
           "#B6E880",
           "#FF97FF",
           "#FECB52"
          ],
          "font": {
           "color": "#2a3f5f"
          },
          "geo": {
           "bgcolor": "white",
           "lakecolor": "white",
           "landcolor": "#E5ECF6",
           "showlakes": true,
           "showland": true,
           "subunitcolor": "white"
          },
          "hoverlabel": {
           "align": "left"
          },
          "hovermode": "closest",
          "mapbox": {
           "style": "light"
          },
          "paper_bgcolor": "white",
          "plot_bgcolor": "#E5ECF6",
          "polar": {
           "angularaxis": {
            "gridcolor": "white",
            "linecolor": "white",
            "ticks": ""
           },
           "bgcolor": "#E5ECF6",
           "radialaxis": {
            "gridcolor": "white",
            "linecolor": "white",
            "ticks": ""
           }
          },
          "scene": {
           "xaxis": {
            "backgroundcolor": "#E5ECF6",
            "gridcolor": "white",
            "gridwidth": 2,
            "linecolor": "white",
            "showbackground": true,
            "ticks": "",
            "zerolinecolor": "white"
           },
           "yaxis": {
            "backgroundcolor": "#E5ECF6",
            "gridcolor": "white",
            "gridwidth": 2,
            "linecolor": "white",
            "showbackground": true,
            "ticks": "",
            "zerolinecolor": "white"
           },
           "zaxis": {
            "backgroundcolor": "#E5ECF6",
            "gridcolor": "white",
            "gridwidth": 2,
            "linecolor": "white",
            "showbackground": true,
            "ticks": "",
            "zerolinecolor": "white"
           }
          },
          "shapedefaults": {
           "line": {
            "color": "#2a3f5f"
           }
          },
          "ternary": {
           "aaxis": {
            "gridcolor": "white",
            "linecolor": "white",
            "ticks": ""
           },
           "baxis": {
            "gridcolor": "white",
            "linecolor": "white",
            "ticks": ""
           },
           "bgcolor": "#E5ECF6",
           "caxis": {
            "gridcolor": "white",
            "linecolor": "white",
            "ticks": ""
           }
          },
          "title": {
           "x": 0.05
          },
          "xaxis": {
           "automargin": true,
           "gridcolor": "white",
           "linecolor": "white",
           "ticks": "",
           "title": {
            "standoff": 15
           },
           "zerolinecolor": "white",
           "zerolinewidth": 2
          },
          "yaxis": {
           "automargin": true,
           "gridcolor": "white",
           "linecolor": "white",
           "ticks": "",
           "title": {
            "standoff": 15
           },
           "zerolinecolor": "white",
           "zerolinewidth": 2
          }
         }
        }
       }
      },
      "text/html": [
       "<div>                            <div id=\"52e5f3b7-9391-4b03-97d1-6045a035050b\" class=\"plotly-graph-div\" style=\"height:525px; width:100%;\"></div>            <script type=\"text/javascript\">                require([\"plotly\"], function(Plotly) {                    window.PLOTLYENV=window.PLOTLYENV || {};                                    if (document.getElementById(\"52e5f3b7-9391-4b03-97d1-6045a035050b\")) {                    Plotly.newPlot(                        \"52e5f3b7-9391-4b03-97d1-6045a035050b\",                        [{\"gauge\":{\"axis\":{\"range\":[1,5]},\"steps\":[{\"color\":\"red\",\"range\":[1,2]},{\"color\":\"orange\",\"range\":[2,3]},{\"color\":\"yellow\",\"range\":[3,4]},{\"color\":\"green\",\"range\":[4,5]}],\"threshold\":{\"line\":{\"color\":\"black\",\"width\":4},\"thickness\":0.75,\"value\":3.4279687717820018}},\"mode\":\"gauge+number\",\"title\":{\"text\":\"Calificaci\\u00f3n Promedio de Sentimientos\"},\"value\":3.4279687717820018,\"type\":\"indicator\"}],                        {\"template\":{\"data\":{\"bar\":[{\"error_x\":{\"color\":\"#2a3f5f\"},\"error_y\":{\"color\":\"#2a3f5f\"},\"marker\":{\"line\":{\"color\":\"#E5ECF6\",\"width\":0.5},\"pattern\":{\"fillmode\":\"overlay\",\"size\":10,\"solidity\":0.2}},\"type\":\"bar\"}],\"barpolar\":[{\"marker\":{\"line\":{\"color\":\"#E5ECF6\",\"width\":0.5},\"pattern\":{\"fillmode\":\"overlay\",\"size\":10,\"solidity\":0.2}},\"type\":\"barpolar\"}],\"carpet\":[{\"aaxis\":{\"endlinecolor\":\"#2a3f5f\",\"gridcolor\":\"white\",\"linecolor\":\"white\",\"minorgridcolor\":\"white\",\"startlinecolor\":\"#2a3f5f\"},\"baxis\":{\"endlinecolor\":\"#2a3f5f\",\"gridcolor\":\"white\",\"linecolor\":\"white\",\"minorgridcolor\":\"white\",\"startlinecolor\":\"#2a3f5f\"},\"type\":\"carpet\"}],\"choropleth\":[{\"colorbar\":{\"outlinewidth\":0,\"ticks\":\"\"},\"type\":\"choropleth\"}],\"contour\":[{\"colorbar\":{\"outlinewidth\":0,\"ticks\":\"\"},\"colorscale\":[[0.0,\"#0d0887\"],[0.1111111111111111,\"#46039f\"],[0.2222222222222222,\"#7201a8\"],[0.3333333333333333,\"#9c179e\"],[0.4444444444444444,\"#bd3786\"],[0.5555555555555556,\"#d8576b\"],[0.6666666666666666,\"#ed7953\"],[0.7777777777777778,\"#fb9f3a\"],[0.8888888888888888,\"#fdca26\"],[1.0,\"#f0f921\"]],\"type\":\"contour\"}],\"contourcarpet\":[{\"colorbar\":{\"outlinewidth\":0,\"ticks\":\"\"},\"type\":\"contourcarpet\"}],\"heatmap\":[{\"colorbar\":{\"outlinewidth\":0,\"ticks\":\"\"},\"colorscale\":[[0.0,\"#0d0887\"],[0.1111111111111111,\"#46039f\"],[0.2222222222222222,\"#7201a8\"],[0.3333333333333333,\"#9c179e\"],[0.4444444444444444,\"#bd3786\"],[0.5555555555555556,\"#d8576b\"],[0.6666666666666666,\"#ed7953\"],[0.7777777777777778,\"#fb9f3a\"],[0.8888888888888888,\"#fdca26\"],[1.0,\"#f0f921\"]],\"type\":\"heatmap\"}],\"heatmapgl\":[{\"colorbar\":{\"outlinewidth\":0,\"ticks\":\"\"},\"colorscale\":[[0.0,\"#0d0887\"],[0.1111111111111111,\"#46039f\"],[0.2222222222222222,\"#7201a8\"],[0.3333333333333333,\"#9c179e\"],[0.4444444444444444,\"#bd3786\"],[0.5555555555555556,\"#d8576b\"],[0.6666666666666666,\"#ed7953\"],[0.7777777777777778,\"#fb9f3a\"],[0.8888888888888888,\"#fdca26\"],[1.0,\"#f0f921\"]],\"type\":\"heatmapgl\"}],\"histogram\":[{\"marker\":{\"pattern\":{\"fillmode\":\"overlay\",\"size\":10,\"solidity\":0.2}},\"type\":\"histogram\"}],\"histogram2d\":[{\"colorbar\":{\"outlinewidth\":0,\"ticks\":\"\"},\"colorscale\":[[0.0,\"#0d0887\"],[0.1111111111111111,\"#46039f\"],[0.2222222222222222,\"#7201a8\"],[0.3333333333333333,\"#9c179e\"],[0.4444444444444444,\"#bd3786\"],[0.5555555555555556,\"#d8576b\"],[0.6666666666666666,\"#ed7953\"],[0.7777777777777778,\"#fb9f3a\"],[0.8888888888888888,\"#fdca26\"],[1.0,\"#f0f921\"]],\"type\":\"histogram2d\"}],\"histogram2dcontour\":[{\"colorbar\":{\"outlinewidth\":0,\"ticks\":\"\"},\"colorscale\":[[0.0,\"#0d0887\"],[0.1111111111111111,\"#46039f\"],[0.2222222222222222,\"#7201a8\"],[0.3333333333333333,\"#9c179e\"],[0.4444444444444444,\"#bd3786\"],[0.5555555555555556,\"#d8576b\"],[0.6666666666666666,\"#ed7953\"],[0.7777777777777778,\"#fb9f3a\"],[0.8888888888888888,\"#fdca26\"],[1.0,\"#f0f921\"]],\"type\":\"histogram2dcontour\"}],\"mesh3d\":[{\"colorbar\":{\"outlinewidth\":0,\"ticks\":\"\"},\"type\":\"mesh3d\"}],\"parcoords\":[{\"line\":{\"colorbar\":{\"outlinewidth\":0,\"ticks\":\"\"}},\"type\":\"parcoords\"}],\"pie\":[{\"automargin\":true,\"type\":\"pie\"}],\"scatter\":[{\"marker\":{\"colorbar\":{\"outlinewidth\":0,\"ticks\":\"\"}},\"type\":\"scatter\"}],\"scatter3d\":[{\"line\":{\"colorbar\":{\"outlinewidth\":0,\"ticks\":\"\"}},\"marker\":{\"colorbar\":{\"outlinewidth\":0,\"ticks\":\"\"}},\"type\":\"scatter3d\"}],\"scattercarpet\":[{\"marker\":{\"colorbar\":{\"outlinewidth\":0,\"ticks\":\"\"}},\"type\":\"scattercarpet\"}],\"scattergeo\":[{\"marker\":{\"colorbar\":{\"outlinewidth\":0,\"ticks\":\"\"}},\"type\":\"scattergeo\"}],\"scattergl\":[{\"marker\":{\"colorbar\":{\"outlinewidth\":0,\"ticks\":\"\"}},\"type\":\"scattergl\"}],\"scattermapbox\":[{\"marker\":{\"colorbar\":{\"outlinewidth\":0,\"ticks\":\"\"}},\"type\":\"scattermapbox\"}],\"scatterpolar\":[{\"marker\":{\"colorbar\":{\"outlinewidth\":0,\"ticks\":\"\"}},\"type\":\"scatterpolar\"}],\"scatterpolargl\":[{\"marker\":{\"colorbar\":{\"outlinewidth\":0,\"ticks\":\"\"}},\"type\":\"scatterpolargl\"}],\"scatterternary\":[{\"marker\":{\"colorbar\":{\"outlinewidth\":0,\"ticks\":\"\"}},\"type\":\"scatterternary\"}],\"surface\":[{\"colorbar\":{\"outlinewidth\":0,\"ticks\":\"\"},\"colorscale\":[[0.0,\"#0d0887\"],[0.1111111111111111,\"#46039f\"],[0.2222222222222222,\"#7201a8\"],[0.3333333333333333,\"#9c179e\"],[0.4444444444444444,\"#bd3786\"],[0.5555555555555556,\"#d8576b\"],[0.6666666666666666,\"#ed7953\"],[0.7777777777777778,\"#fb9f3a\"],[0.8888888888888888,\"#fdca26\"],[1.0,\"#f0f921\"]],\"type\":\"surface\"}],\"table\":[{\"cells\":{\"fill\":{\"color\":\"#EBF0F8\"},\"line\":{\"color\":\"white\"}},\"header\":{\"fill\":{\"color\":\"#C8D4E3\"},\"line\":{\"color\":\"white\"}},\"type\":\"table\"}]},\"layout\":{\"annotationdefaults\":{\"arrowcolor\":\"#2a3f5f\",\"arrowhead\":0,\"arrowwidth\":1},\"autotypenumbers\":\"strict\",\"coloraxis\":{\"colorbar\":{\"outlinewidth\":0,\"ticks\":\"\"}},\"colorscale\":{\"diverging\":[[0,\"#8e0152\"],[0.1,\"#c51b7d\"],[0.2,\"#de77ae\"],[0.3,\"#f1b6da\"],[0.4,\"#fde0ef\"],[0.5,\"#f7f7f7\"],[0.6,\"#e6f5d0\"],[0.7,\"#b8e186\"],[0.8,\"#7fbc41\"],[0.9,\"#4d9221\"],[1,\"#276419\"]],\"sequential\":[[0.0,\"#0d0887\"],[0.1111111111111111,\"#46039f\"],[0.2222222222222222,\"#7201a8\"],[0.3333333333333333,\"#9c179e\"],[0.4444444444444444,\"#bd3786\"],[0.5555555555555556,\"#d8576b\"],[0.6666666666666666,\"#ed7953\"],[0.7777777777777778,\"#fb9f3a\"],[0.8888888888888888,\"#fdca26\"],[1.0,\"#f0f921\"]],\"sequentialminus\":[[0.0,\"#0d0887\"],[0.1111111111111111,\"#46039f\"],[0.2222222222222222,\"#7201a8\"],[0.3333333333333333,\"#9c179e\"],[0.4444444444444444,\"#bd3786\"],[0.5555555555555556,\"#d8576b\"],[0.6666666666666666,\"#ed7953\"],[0.7777777777777778,\"#fb9f3a\"],[0.8888888888888888,\"#fdca26\"],[1.0,\"#f0f921\"]]},\"colorway\":[\"#636efa\",\"#EF553B\",\"#00cc96\",\"#ab63fa\",\"#FFA15A\",\"#19d3f3\",\"#FF6692\",\"#B6E880\",\"#FF97FF\",\"#FECB52\"],\"font\":{\"color\":\"#2a3f5f\"},\"geo\":{\"bgcolor\":\"white\",\"lakecolor\":\"white\",\"landcolor\":\"#E5ECF6\",\"showlakes\":true,\"showland\":true,\"subunitcolor\":\"white\"},\"hoverlabel\":{\"align\":\"left\"},\"hovermode\":\"closest\",\"mapbox\":{\"style\":\"light\"},\"paper_bgcolor\":\"white\",\"plot_bgcolor\":\"#E5ECF6\",\"polar\":{\"angularaxis\":{\"gridcolor\":\"white\",\"linecolor\":\"white\",\"ticks\":\"\"},\"bgcolor\":\"#E5ECF6\",\"radialaxis\":{\"gridcolor\":\"white\",\"linecolor\":\"white\",\"ticks\":\"\"}},\"scene\":{\"xaxis\":{\"backgroundcolor\":\"#E5ECF6\",\"gridcolor\":\"white\",\"gridwidth\":2,\"linecolor\":\"white\",\"showbackground\":true,\"ticks\":\"\",\"zerolinecolor\":\"white\"},\"yaxis\":{\"backgroundcolor\":\"#E5ECF6\",\"gridcolor\":\"white\",\"gridwidth\":2,\"linecolor\":\"white\",\"showbackground\":true,\"ticks\":\"\",\"zerolinecolor\":\"white\"},\"zaxis\":{\"backgroundcolor\":\"#E5ECF6\",\"gridcolor\":\"white\",\"gridwidth\":2,\"linecolor\":\"white\",\"showbackground\":true,\"ticks\":\"\",\"zerolinecolor\":\"white\"}},\"shapedefaults\":{\"line\":{\"color\":\"#2a3f5f\"}},\"ternary\":{\"aaxis\":{\"gridcolor\":\"white\",\"linecolor\":\"white\",\"ticks\":\"\"},\"baxis\":{\"gridcolor\":\"white\",\"linecolor\":\"white\",\"ticks\":\"\"},\"bgcolor\":\"#E5ECF6\",\"caxis\":{\"gridcolor\":\"white\",\"linecolor\":\"white\",\"ticks\":\"\"}},\"title\":{\"x\":0.05},\"xaxis\":{\"automargin\":true,\"gridcolor\":\"white\",\"linecolor\":\"white\",\"ticks\":\"\",\"title\":{\"standoff\":15},\"zerolinecolor\":\"white\",\"zerolinewidth\":2},\"yaxis\":{\"automargin\":true,\"gridcolor\":\"white\",\"linecolor\":\"white\",\"ticks\":\"\",\"title\":{\"standoff\":15},\"zerolinecolor\":\"white\",\"zerolinewidth\":2}}}},                        {\"responsive\": true}                    ).then(function(){\n",
       "                            \n",
       "var gd = document.getElementById('52e5f3b7-9391-4b03-97d1-6045a035050b');\n",
       "var x = new MutationObserver(function (mutations, observer) {{\n",
       "        var display = window.getComputedStyle(gd).display;\n",
       "        if (!display || display === 'none') {{\n",
       "            console.log([gd, 'removed!']);\n",
       "            Plotly.purge(gd);\n",
       "            observer.disconnect();\n",
       "        }}\n",
       "}});\n",
       "\n",
       "// Listen for the removal of the full notebook cells\n",
       "var notebookContainer = gd.closest('#notebook-container');\n",
       "if (notebookContainer) {{\n",
       "    x.observe(notebookContainer, {childList: true});\n",
       "}}\n",
       "\n",
       "// Listen for the clearing of the current output cell\n",
       "var outputEl = gd.closest('.output');\n",
       "if (outputEl) {{\n",
       "    x.observe(outputEl, {childList: true});\n",
       "}}\n",
       "\n",
       "                        })                };                });            </script>        </div>"
      ]
     },
     "metadata": {},
     "output_type": "display_data"
    },
    {
     "data": {
      "image/png": "[encoded data removed]",
      "text/plain": [
       "<Figure size 720x360 with 1 Axes>"
      ]
     },
     "metadata": {
      "needs_background": "light"
     },
     "output_type": "display_data"
    }
   ],
   "source": [
    "# Análisis de sentimientos más avanzado\n",
    "import requests\n",
    "from textblob import TextBlob\n",
    "import plotly.graph_objects as go\n",
    "import matplotlib.pyplot as plt\n",
    "from collections import defaultdict\n",
    "import nltk\n",
    "from nltk.tokenize import word_tokenize\n",
    "\n",
    "# Asegúrate de haber descargado el archivo 'NRC-Emotion-Lexicon-Wordlevel-v0.92.txt' y coloca la ruta correcta aquí\n",
    "nrc_lexicon_file = 'NRC-Emotion-Lexicon-Wordlevel-v0.92.txt'\n",
    "\n",
    "# Carga del lexicon\n",
    "def load_nrc_lexicon(file_path):\n",
    "    nrc_lexicon = defaultdict(list)\n",
    "    with open(file_path, 'r') as f:\n",
    "        for line in f:\n",
    "            word, emotion, association = line.strip().split('\\t')\n",
    "            if int(association) == 1:\n",
    "                nrc_lexicon[emotion].append(word)\n",
    "    return nrc_lexicon\n",
    "\n",
    "# Análisis de emociones\n",
    "def analyze_emotions(text, lexicon):\n",
    "    emotions = defaultdict(int)\n",
    "    words = word_tokenize(text.lower())\n",
    "    for word in words:\n",
    "        for emotion, words in lexicon.items():\n",
    "            if word in words:\n",
    "                emotions[emotion] += 1\n",
    "    return emotions\n",
    "\n",
    "# Función para obtener los comentarios\n",
    "def get_reviews(asin):\n",
    "    reviews = []\n",
    "    page = 1\n",
    "    while True:\n",
    "        url = \"https://real-time-amazon-data.p.rapidapi.com/product-reviews\"\n",
    "        querystring = {\n",
    "            \"asin\": asin,\n",
    "            \"country\": \"US\",\n",
    "            \"sort_by\": \"TOP_REVIEWS\",\n",
    "            \"star_rating\": \"ALL\",\n",
    "            \"verified_purchases_only\": \"false\",\n",
    "            \"images_or_videos_only\": \"false\",\n",
    "            \"current_format_only\": \"false\",\n",
    "            \"page\": page\n",
    "        }\n",
    "\n",
    "        headers = {\n",
    "            \"x-rapidapi-key\": \"6e6fca29d2msh2d1ed4093c0d6cdp1c72a3jsn906a6e4ae54f\",\n",
    "            \"x-rapidapi-host\": \"real-time-amazon-data.p.rapidapi.com\"\n",
    "        }\n",
    "\n",
    "        response = requests.get(url, headers=headers, params=querystring)\n",
    "        data = response.json()\n",
    "        \n",
    "        if 'data' in data and 'reviews' in data['data']:\n",
    "            reviews_on_page = data['data']['reviews']\n",
    "            if not reviews_on_page:\n",
    "                break\n",
    "            reviews.extend(reviews_on_page)\n",
    "        else:\n",
    "            break  # Stop if there are no more reviews or if the data format is unexpected\n",
    "        \n",
    "        page += 1\n",
    "    return reviews\n",
    "\n",
    "# Análisis de sentimientos\n",
    "def analyze_sentiments(reviews):\n",
    "    sentiments = []\n",
    "    for review in reviews:\n",
    "        analysis = TextBlob(review['review_comment'])\n",
    "        sentiments.append(analysis.sentiment.polarity)\n",
    "    if sentiments:\n",
    "        avg_sentiment = sum(sentiments) / len(sentiments)\n",
    "        return avg_sentiment\n",
    "    else:\n",
    "        return None\n",
    "\n",
    "# Conversión de sentimiento a calificación\n",
    "def sentiment_to_rating(avg_sentiment):\n",
    "    return 1 + (avg_sentiment + 1) * 2\n",
    "\n",
    "# Creación del medidor de calificación\n",
    "def create_gauge_meter(rating):\n",
    "    fig = go.Figure(go.Indicator(\n",
    "        mode = \"gauge+number\",\n",
    "        value = rating,\n",
    "        title = {'text': \"Calificación Promedio de Sentimientos\"},\n",
    "        gauge = {\n",
    "            'axis': {'range': [1, 5]},\n",
    "            'steps' : [\n",
    "                {'range': [1, 2], 'color': \"red\"},\n",
    "                {'range': [2, 3], 'color': \"orange\"},\n",
    "                {'range': [3, 4], 'color': \"yellow\"},\n",
    "                {'range': [4, 5], 'color': \"green\"}\n",
    "            ],\n",
    "            'threshold' : {\n",
    "                'line': {'color': \"black\", 'width': 4},\n",
    "                'thickness': 0.75,\n",
    "                'value': rating\n",
    "            }\n",
    "        }\n",
    "    ))\n",
    "\n",
    "    fig.show()\n",
    "\n",
    "# Graficar emociones\n",
    "def plot_emotions(emotions):\n",
    "    categories = [category for category in emotions.keys() if category not in ['positive', 'negative']]\n",
    "    values = [emotions[category] for category in categories]\n",
    "\n",
    "    plt.figure(figsize=(10, 5))\n",
    "    bars = plt.bar(categories, values, color=['green', 'cyan', 'yellow', 'orange', 'red'])\n",
    "    \n",
    "    for bar, value in zip(bars, values):\n",
    "        plt.text(bar.get_x() + bar.get_width() / 2, bar.get_height(), str(value), ha='center', va='bottom')\n",
    "    \n",
    "    plt.xlabel('Emociones')\n",
    "    plt.ylabel('Frecuencia')\n",
    "    plt.title('Análisis de Emociones')\n",
    "    plt.show()\n",
    "\n",
    "# Main\n",
    "asin = \"B0CN1QSH8Q\"\n",
    "nrc_lexicon = load_nrc_lexicon(nrc_lexicon_file)\n",
    "reviews = get_reviews(asin)\n",
    "\n",
    "if reviews:\n",
    "    avg_sentiment = analyze_sentiments(reviews)\n",
    "    if avg_sentiment is not None:\n",
    "        rating = sentiment_to_rating(avg_sentiment)\n",
    "        print(f\"La calificación promedio de los sentimientos de los comentarios para el producto {asin} es: {rating:.2f}\")\n",
    "        create_gauge_meter(rating)\n",
    "    \n",
    "    all_reviews_text = ' '.join([review['review_comment'] for review in reviews])\n",
    "    emotions = analyze_emotions(all_reviews_text, nrc_lexicon)\n",
    "    plot_emotions(emotions)\n",
    "else:\n",
    "    print(\"No se encontraron comentarios.\")\n"
   ]
  },
  {
   "cell_type": "code",
   "execution_count": null,
   "id": "dc495400",
   "metadata": {},
   "outputs": [],
   "source": []
  },
  {
   "cell_type": "code",
   "execution_count": null,
   "id": "fc28657b",
   "metadata": {},
   "outputs": [],
   "source": []
  }
 ],
 "metadata": {
  "kernelspec": {
   "display_name": "Python 3 (ipykernel)",
   "language": "python",
   "name": "python3"
  },
  "language_info": {
   "codemirror_mode": {
    "name": "ipython",
    "version": 3
   },
   "file_extension": ".py",
   "mimetype": "text/x-python",
   "name": "python",
   "nbconvert_exporter": "python",
   "pygments_lexer": "ipython3",
   "version": "3.9.12"
  }
 },
 "nbformat": 4,
 "nbformat_minor": 5
}
