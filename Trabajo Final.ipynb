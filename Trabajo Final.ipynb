{
 "cells": [
  {
   "cell_type": "markdown",
   "id": "b953b342-4bed-4c52-b82f-e31e239ddc13",
   "metadata": {},
   "source": [
    "<center><h1><span style=\"\">Universidad Nacional Agraria La Molina</span></h1></center>\n",
    "<center><h2><span style=\"\">Carrera Profesional de Estadística Infórmatica</span></h2></center>\n",
    "\n",
    "<center><img src=\"https://raw.githubusercontent.com/tengolaaag/Final-LP2/main/escudo.jpg\" width=\"300\" height=\"200\"></center>\n",
    "\n",
    "<center><h4><span style=\"\">Curso: Lenguaje de Programación II</span></h4></center>\n",
    "<center><h3><span style=\"\"> <b>Proyecto: <i>   </b></i></span></h3></center>\n",
    "\n",
    "<center><h3><span style=\"\">Docente: Mg. Denise CHALAN LLAJARUNA</span></h3></center>\n",
    "\n",
    "### Integrantes: \n",
    "- Pedro Isaac Ñaupa Celis\n",
    "- Manolo Meza Rodríguez\n",
    "- Bruno Fabrizzio Candiotti Neyra\n",
    "\n",
    "## Introducción"
   ]
  },
  {
   "cell_type": "markdown",
   "id": "89b1eb39-5e46-405f-a4fa-13bc3772962f",
   "metadata": {},
   "source": [
    "# Objetivos (sb)\n",
    "## Objetivo General\n",
    "- \n",
    "## Objetivos específicos\n",
    "- \n"
   ]
  },
  {
   "cell_type": "markdown",
   "id": "1fba4b5d-cca8-4ad4-97ea-3eb9ad94506b",
   "metadata": {},
   "source": [
    "# Planificación del proyecto\n",
    "## Distribución de roles\n",
    "- Desarrollador Principal: Bruno\n",
    "    - Responsabilidades:\n",
    "         -\tLiderar el desarrollo de la extracción de datos\n",
    "         -\tConfiguración y autenticación de la API.\n",
    "        -\tAsegurar la correcta integración de todas las partes del proyecto.\n",
    "        -\tGuardar los datos extraídos en una base de datos o en archivos CSV/JSON.\n",
    "\n",
    "- Encargado de Documentación y Análisis de datos: Manolo\n",
    "    - Responsabilidades:\n",
    "        - Colaborar con Bruno en el desarrollo del código para extraer información relevante de los anuncios.\n",
    "        - Documentar cada parte del código y del proceso.\n",
    "        - Procesar y limpiar los datos extraídos.\n",
    "        - Realizar la transformación de datos útil, como calcular estadísticas básicas.\n",
    "        - Asegurarse de que toda la documentación esté clara y completa.\n",
    "- Project Manager y Encargado de la Página Web: Isaac\n",
    "  - Responsabilidades:\n",
    "      -  Coordinar y supervisar todas las actividades del proyecto.\n",
    "      -   Configurar el flujo de trabajo en GitHub y gestionar ramas y merges.\n",
    "      -   Crear la página web utilizando HTML y bibliotecas de visualización.\n",
    "      -   Incluir elementos interactivos para mejorar la experiencia del usuario\n",
    "      -   .Configurar el flujo de trabajo en GitHub y gestionar las ramas y los merges.\n",
    "      -   Realizar pruebas exhaustivas de la página web.\n",
    "## Flujo de trabajo\n",
    "- Cada integrante del proyecto crea ramas para funcionalidades relacionadas con su rol\n",
    "- Crear Pull Requests y fusionar ramas en main.\n",
    "\n",
    "# Documentación (sb)\n",
    "\n",
    "\n",
    "\n",
    "\n",
    "\n"
   ]
  },
  {
   "cell_type": "markdown",
   "id": "6346fba6-787c-47c0-aa28-1f566845fcd5",
   "metadata": {},
   "source": [
    "# Extracción de información\n"
   ]
  },
  {
   "cell_type": "markdown",
   "id": "8f374f57-ca1b-4dbf-898d-e20eb445b492",
   "metadata": {},
   "source": [
    "# Descarga automatizada del csv\n"
   ]
  },
  {
   "cell_type": "code",
   "execution_count": 1,
   "id": "e5474c0d-f999-4e0d-872e-25deeb4b3c34",
   "metadata": {},
   "outputs": [
    {
     "name": "stdout",
     "output_type": "stream",
     "text": [
      "Los datos se han guardado en el archivo amazon_phone_products.csv\n"
     ]
    }
   ],
   "source": [
    "import requests\n",
    "import csv\n",
    "\n",
    "url = \"https://real-time-amazon-data.p.rapidapi.com/search\"\n",
    "\n",
    "querystring = {\n",
    "    \"query\": \"Phone\",\n",
    "    \"page\": \"1\",\n",
    "    \"country\": \"US\",\n",
    "    \"sort_by\": \"RELEVANCE\",\n",
    "    \"product_condition\": \"ALL\"\n",
    "}\n",
    "\n",
    "headers = {\n",
    "    \"x-rapidapi-key\": \"b1627f263cmshc8a4015df1f477fp133675jsnba40922e0ffc\",\n",
    "    \"x-rapidapi-host\": \"real-time-amazon-data.p.rapidapi.com\"\n",
    "}\n",
    "\n",
    "response = requests.get(url, headers=headers, params=querystring)\n",
    "\n",
    "if response.status_code == 200:\n",
    "    products_data = response.json()\n",
    "    \n",
    "    # Verificar si los datos tienen productos\n",
    "    if 'data' in products_data and 'products' in products_data['data']:\n",
    "        products = products_data['data']['products']\n",
    "        \n",
    "        # Definir el nombre del archivo CSV\n",
    "        csv_filename = \"amazon_phone_products.csv\"\n",
    "        \n",
    "        # Abrir el archivo CSV en modo escritura\n",
    "        with open(csv_filename, mode='w', newline='', encoding='utf-8') as file:\n",
    "            writer = csv.writer(file)\n",
    "            \n",
    "            # Escribir la cabecera del CSV (basada en las claves del primer producto)\n",
    "            header = products[0].keys()\n",
    "            writer.writerow(header)\n",
    "            \n",
    "            # Escribir los datos de los productos\n",
    "            for product in products:\n",
    "                writer.writerow(product.values())\n",
    "        \n",
    "        print(f\"Los datos se han guardado en el archivo {csv_filename}\")\n",
    "    else:\n",
    "        print(\"No se encontraron productos en los datos de la API.\")\n",
    "else:\n",
    "    print(\"Solicitud HTTP fallida con el código de estado: \", response.status_code)"
   ]
  },
  {
   "cell_type": "code",
   "execution_count": 2,
   "id": "405b6809",
   "metadata": {},
   "outputs": [
    {
     "name": "stdout",
     "output_type": "stream",
     "text": [
      "asin: B0CN1QSH8Q\n",
      "product_title: SAMSUNG Galaxy A15 5G A Series Cell Phone, 128GB Unlocked Android Smartphone, AMOLED Display, Expandable Storage, Knox Security, Super Fast Charging, Hi-Res Camera, US Version, 2024, Blue Black\n",
      "product_price: $199.99\n",
      "product_original_price: None\n",
      "currency: USD\n",
      "product_star_rating: 4.1\n",
      "product_num_ratings: 350\n",
      "product_url: https://www.amazon.com/dp/B0CN1QSH8Q\n",
      "product_photo: https://m.media-amazon.com/images/I/61s0ZzwzSCL._AC_UY654_FMwebp_QL65_.jpg\n",
      "product_num_offers: 2\n",
      "product_minimum_offer_price: $146.93\n",
      "is_best_seller: False\n",
      "is_amazon_choice: False\n",
      "is_prime: True\n",
      "climate_pledge_friendly: True\n",
      "sales_volume: 2K+ bought in past month\n",
      "delivery: FREE delivery Fri, Jul 19 Or fastest delivery Tue, Jul 16\n",
      "has_variations: True\n"
     ]
    }
   ],
   "source": [
    "import requests\n",
    "\n",
    "url = \"https://real-time-amazon-data.p.rapidapi.com/search\"\n",
    "\n",
    "querystring = {\n",
    "    \"query\": \"Phone\",\n",
    "    \"page\": \"1\",\n",
    "    \"country\": \"US\",\n",
    "    \"sort_by\": \"RELEVANCE\",\n",
    "    \"product_condition\": \"ALL\"\n",
    "}\n",
    "\n",
    "headers = {\n",
    "    \"x-rapidapi-key\": \"b1627f263cmshc8a4015df1f477fp133675jsnba40922e0ffc\",\n",
    "    \"x-rapidapi-host\": \"real-time-amazon-data.p.rapidapi.com\"\n",
    "}\n",
    "\n",
    "response = requests.get(url, headers=headers, params=querystring)\n",
    "\n",
    "if response.status_code == 200:\n",
    "    products_data = response.json()\n",
    "    \n",
    "    # Verificar si los datos tienen productos\n",
    "    if 'data' in products_data and 'products' in products_data['data']:\n",
    "        products = products_data['data']['products']\n",
    "        \n",
    "        # Mostrar información del primer teléfono\n",
    "        if products:\n",
    "            first_phone = products[0]\n",
    "            for key, value in first_phone.items():\n",
    "                print(f\"{key}: {value}\")\n",
    "        else:\n",
    "            print(\"No se encontraron productos.\")\n",
    "    else:\n",
    "        print(\"No se encontraron productos en los datos de la API.\")\n",
    "else:\n",
    "    print(\"Solicitud HTTP fallida con el código de estado: \", response.status_code)"
   ]
  },
  {
   "cell_type": "code",
   "execution_count": 6,
   "id": "9c19b693",
   "metadata": {},
   "outputs": [
    {
     "name": "stdout",
     "output_type": "stream",
     "text": [
      "Collecting TextBlob\n",
      "  Downloading textblob-0.18.0.post0-py3-none-any.whl (626 kB)\n",
      "Collecting nltk>=3.8\n",
      "  Downloading nltk-3.8.1-py3-none-any.whl (1.5 MB)\n",
      "Requirement already satisfied: joblib in c:\\users\\manolo\\anaconda3\\lib\\site-packages (from nltk>=3.8->TextBlob) (1.1.0)\n",
      "Requirement already satisfied: tqdm in c:\\users\\manolo\\anaconda3\\lib\\site-packages (from nltk>=3.8->TextBlob) (4.64.0)\n",
      "Requirement already satisfied: click in c:\\users\\manolo\\anaconda3\\lib\\site-packages (from nltk>=3.8->TextBlob) (8.0.4)\n",
      "Requirement already satisfied: regex>=2021.8.3 in c:\\users\\manolo\\anaconda3\\lib\\site-packages (from nltk>=3.8->TextBlob) (2022.3.15)\n",
      "Requirement already satisfied: colorama in c:\\users\\manolo\\anaconda3\\lib\\site-packages (from click->nltk>=3.8->TextBlob) (0.4.4)\n",
      "Installing collected packages: nltk, TextBlob\n",
      "  Attempting uninstall: nltk\n",
      "    Found existing installation: nltk 3.7\n",
      "    Uninstalling nltk-3.7:\n",
      "      Successfully uninstalled nltk-3.7\n",
      "Successfully installed TextBlob-0.18.0.post0 nltk-3.8.1\n"
     ]
    }
   ],
   "source": [
    "!pip install TextBlob "
   ]
  },
  {
   "cell_type": "code",
   "execution_count": 9,
   "id": "4ccd3132",
   "metadata": {},
   "outputs": [
    {
     "name": "stderr",
     "output_type": "stream",
     "text": [
      "[nltk_data] Downloading package punkt to\n",
      "[nltk_data]     C:\\Users\\Manolo\\AppData\\Roaming\\nltk_data...\n",
      "[nltk_data]   Unzipping tokenizers\\punkt.zip.\n"
     ]
    },
    {
     "data": {
      "text/plain": [
       "True"
      ]
     },
     "execution_count": 9,
     "metadata": {},
     "output_type": "execute_result"
    }
   ],
   "source": [
    "nltk.download(\"punkt\")"
   ]
  },
  {
   "cell_type": "code",
   "execution_count": 10,
   "id": "973ea843",
   "metadata": {},
   "outputs": [
    {
     "name": "stdout",
     "output_type": "stream",
     "text": [
      "La calificación promedio de los sentimientos de los comentarios para el producto B0CN1QSH8Q es: 3.43\n"
     ]
    },
    {
     "data": {
      "application/vnd.plotly.v1+json": {
       "config": {
        "plotlyServerURL": "https://plot.ly"
       },
       "data": [
        {
         "gauge": {
          "axis": {
           "range": [
            1,
            5
           ]
          },
          "steps": [
           {
            "color": "red",
            "range": [
             1,
             2
            ]
           },
           {
            "color": "orange",
            "range": [
             2,
             3
            ]
           },
           {
            "color": "yellow",
            "range": [
             3,
             4
            ]
           },
           {
            "color": "green",
            "range": [
             4,
             5
            ]
           }
          ],
          "threshold": {
           "line": {
            "color": "black",
            "width": 4
           },
           "thickness": 0.75,
           "value": 3.4279687717820018
          }
         },
         "mode": "gauge+number",
         "title": {
          "text": "Calificación Promedio de Sentimientos"
         },
         "type": "indicator",
         "value": 3.4279687717820018
        }
       ],
       "layout": {
        "template": {
         "data": {
          "bar": [
           {
            "error_x": {
             "color": "#2a3f5f"
            },
            "error_y": {
             "color": "#2a3f5f"
            },
            "marker": {
             "line": {
              "color": "#E5ECF6",
              "width": 0.5
             },
             "pattern": {
              "fillmode": "overlay",
              "size": 10,
              "solidity": 0.2
             }
            },
            "type": "bar"
           }
          ],
          "barpolar": [
           {
            "marker": {
             "line": {
              "color": "#E5ECF6",
              "width": 0.5
             },
             "pattern": {
              "fillmode": "overlay",
              "size": 10,
              "solidity": 0.2
             }
            },
            "type": "barpolar"
           }
          ],
          "carpet": [
           {
            "aaxis": {
             "endlinecolor": "#2a3f5f",
             "gridcolor": "white",
             "linecolor": "white",
             "minorgridcolor": "white",
             "startlinecolor": "#2a3f5f"
            },
            "baxis": {
             "endlinecolor": "#2a3f5f",
             "gridcolor": "white",
             "linecolor": "white",
             "minorgridcolor": "white",
             "startlinecolor": "#2a3f5f"
            },
            "type": "carpet"
           }
          ],
          "choropleth": [
           {
            "colorbar": {
             "outlinewidth": 0,
             "ticks": ""
            },
            "type": "choropleth"
           }
          ],
          "contour": [
           {
            "colorbar": {
             "outlinewidth": 0,
             "ticks": ""
            },
            "colorscale": [
             [
              0,
              "#0d0887"
             ],
             [
              0.1111111111111111,
              "#46039f"
             ],
             [
              0.2222222222222222,
              "#7201a8"
             ],
             [
              0.3333333333333333,
              "#9c179e"
             ],
             [
              0.4444444444444444,
              "#bd3786"
             ],
             [
              0.5555555555555556,
              "#d8576b"
             ],
             [
              0.6666666666666666,
              "#ed7953"
             ],
             [
              0.7777777777777778,
              "#fb9f3a"
             ],
             [
              0.8888888888888888,
              "#fdca26"
             ],
             [
              1,
              "#f0f921"
             ]
            ],
            "type": "contour"
           }
          ],
          "contourcarpet": [
           {
            "colorbar": {
             "outlinewidth": 0,
             "ticks": ""
            },
            "type": "contourcarpet"
           }
          ],
          "heatmap": [
           {
            "colorbar": {
             "outlinewidth": 0,
             "ticks": ""
            },
            "colorscale": [
             [
              0,
              "#0d0887"
             ],
             [
              0.1111111111111111,
              "#46039f"
             ],
             [
              0.2222222222222222,
              "#7201a8"
             ],
             [
              0.3333333333333333,
              "#9c179e"
             ],
             [
              0.4444444444444444,
              "#bd3786"
             ],
             [
              0.5555555555555556,
              "#d8576b"
             ],
             [
              0.6666666666666666,
              "#ed7953"
             ],
             [
              0.7777777777777778,
              "#fb9f3a"
             ],
             [
              0.8888888888888888,
              "#fdca26"
             ],
             [
              1,
              "#f0f921"
             ]
            ],
            "type": "heatmap"
           }
          ],
          "heatmapgl": [
           {
            "colorbar": {
             "outlinewidth": 0,
             "ticks": ""
            },
            "colorscale": [
             [
              0,
              "#0d0887"
             ],
             [
              0.1111111111111111,
              "#46039f"
             ],
             [
              0.2222222222222222,
              "#7201a8"
             ],
             [
              0.3333333333333333,
              "#9c179e"
             ],
             [
              0.4444444444444444,
              "#bd3786"
             ],
             [
              0.5555555555555556,
              "#d8576b"
             ],
             [
              0.6666666666666666,
              "#ed7953"
             ],
             [
              0.7777777777777778,
              "#fb9f3a"
             ],
             [
              0.8888888888888888,
              "#fdca26"
             ],
             [
              1,
              "#f0f921"
             ]
            ],
            "type": "heatmapgl"
           }
          ],
          "histogram": [
           {
            "marker": {
             "pattern": {
              "fillmode": "overlay",
              "size": 10,
              "solidity": 0.2
             }
            },
            "type": "histogram"
           }
          ],
          "histogram2d": [
           {
            "colorbar": {
             "outlinewidth": 0,
             "ticks": ""
            },
            "colorscale": [
             [
              0,
              "#0d0887"
             ],
             [
              0.1111111111111111,
              "#46039f"
             ],
             [
              0.2222222222222222,
              "#7201a8"
             ],
             [
              0.3333333333333333,
              "#9c179e"
             ],
             [
              0.4444444444444444,
              "#bd3786"
             ],
             [
              0.5555555555555556,
              "#d8576b"
             ],
             [
              0.6666666666666666,
              "#ed7953"
             ],
             [
              0.7777777777777778,
              "#fb9f3a"
             ],
             [
              0.8888888888888888,
              "#fdca26"
             ],
             [
              1,
              "#f0f921"
             ]
            ],
            "type": "histogram2d"
           }
          ],
          "histogram2dcontour": [
           {
            "colorbar": {
             "outlinewidth": 0,
             "ticks": ""
            },
            "colorscale": [
             [
              0,
              "#0d0887"
             ],
             [
              0.1111111111111111,
              "#46039f"
             ],
             [
              0.2222222222222222,
              "#7201a8"
             ],
             [
              0.3333333333333333,
              "#9c179e"
             ],
             [
              0.4444444444444444,
              "#bd3786"
             ],
             [
              0.5555555555555556,
              "#d8576b"
             ],
             [
              0.6666666666666666,
              "#ed7953"
             ],
             [
              0.7777777777777778,
              "#fb9f3a"
             ],
             [
              0.8888888888888888,
              "#fdca26"
             ],
             [
              1,
              "#f0f921"
             ]
            ],
            "type": "histogram2dcontour"
           }
          ],
          "mesh3d": [
           {
            "colorbar": {
             "outlinewidth": 0,
             "ticks": ""
            },
            "type": "mesh3d"
           }
          ],
          "parcoords": [
           {
            "line": {
             "colorbar": {
              "outlinewidth": 0,
              "ticks": ""
             }
            },
            "type": "parcoords"
           }
          ],
          "pie": [
           {
            "automargin": true,
            "type": "pie"
           }
          ],
          "scatter": [
           {
            "marker": {
             "colorbar": {
              "outlinewidth": 0,
              "ticks": ""
             }
            },
            "type": "scatter"
           }
          ],
          "scatter3d": [
           {
            "line": {
             "colorbar": {
              "outlinewidth": 0,
              "ticks": ""
             }
            },
            "marker": {
             "colorbar": {
              "outlinewidth": 0,
              "ticks": ""
             }
            },
            "type": "scatter3d"
           }
          ],
          "scattercarpet": [
           {
            "marker": {
             "colorbar": {
              "outlinewidth": 0,
              "ticks": ""
             }
            },
            "type": "scattercarpet"
           }
          ],
          "scattergeo": [
           {
            "marker": {
             "colorbar": {
              "outlinewidth": 0,
              "ticks": ""
             }
            },
            "type": "scattergeo"
           }
          ],
          "scattergl": [
           {
            "marker": {
             "colorbar": {
              "outlinewidth": 0,
              "ticks": ""
             }
            },
            "type": "scattergl"
           }
          ],
          "scattermapbox": [
           {
            "marker": {
             "colorbar": {
              "outlinewidth": 0,
              "ticks": ""
             }
            },
            "type": "scattermapbox"
           }
          ],
          "scatterpolar": [
           {
            "marker": {
             "colorbar": {
              "outlinewidth": 0,
              "ticks": ""
             }
            },
            "type": "scatterpolar"
           }
          ],
          "scatterpolargl": [
           {
            "marker": {
             "colorbar": {
              "outlinewidth": 0,
              "ticks": ""
             }
            },
            "type": "scatterpolargl"
           }
          ],
          "scatterternary": [
           {
            "marker": {
             "colorbar": {
              "outlinewidth": 0,
              "ticks": ""
             }
            },
            "type": "scatterternary"
           }
          ],
          "surface": [
           {
            "colorbar": {
             "outlinewidth": 0,
             "ticks": ""
            },
            "colorscale": [
             [
              0,
              "#0d0887"
             ],
             [
              0.1111111111111111,
              "#46039f"
             ],
             [
              0.2222222222222222,
              "#7201a8"
             ],
             [
              0.3333333333333333,
              "#9c179e"
             ],
             [
              0.4444444444444444,
              "#bd3786"
             ],
             [
              0.5555555555555556,
              "#d8576b"
             ],
             [
              0.6666666666666666,
              "#ed7953"
             ],
             [
              0.7777777777777778,
              "#fb9f3a"
             ],
             [
              0.8888888888888888,
              "#fdca26"
             ],
             [
              1,
              "#f0f921"
             ]
            ],
            "type": "surface"
           }
          ],
          "table": [
           {
            "cells": {
             "fill": {
              "color": "#EBF0F8"
             },
             "line": {
              "color": "white"
             }
            },
            "header": {
             "fill": {
              "color": "#C8D4E3"
             },
             "line": {
              "color": "white"
             }
            },
            "type": "table"
           }
          ]
         },
         "layout": {
          "annotationdefaults": {
           "arrowcolor": "#2a3f5f",
           "arrowhead": 0,
           "arrowwidth": 1
          },
          "autotypenumbers": "strict",
          "coloraxis": {
           "colorbar": {
            "outlinewidth": 0,
            "ticks": ""
           }
          },
          "colorscale": {
           "diverging": [
            [
             0,
             "#8e0152"
            ],
            [
             0.1,
             "#c51b7d"
            ],
            [
             0.2,
             "#de77ae"
            ],
            [
             0.3,
             "#f1b6da"
            ],
            [
             0.4,
             "#fde0ef"
            ],
            [
             0.5,
             "#f7f7f7"
            ],
            [
             0.6,
             "#e6f5d0"
            ],
            [
             0.7,
             "#b8e186"
            ],
            [
             0.8,
             "#7fbc41"
            ],
            [
             0.9,
             "#4d9221"
            ],
            [
             1,
             "#276419"
            ]
           ],
           "sequential": [
            [
             0,
             "#0d0887"
            ],
            [
             0.1111111111111111,
             "#46039f"
            ],
            [
             0.2222222222222222,
             "#7201a8"
            ],
            [
             0.3333333333333333,
             "#9c179e"
            ],
            [
             0.4444444444444444,
             "#bd3786"
            ],
            [
             0.5555555555555556,
             "#d8576b"
            ],
            [
             0.6666666666666666,
             "#ed7953"
            ],
            [
             0.7777777777777778,
             "#fb9f3a"
            ],
            [
             0.8888888888888888,
             "#fdca26"
            ],
            [
             1,
             "#f0f921"
            ]
           ],
           "sequentialminus": [
            [
             0,
             "#0d0887"
            ],
            [
             0.1111111111111111,
             "#46039f"
            ],
            [
             0.2222222222222222,
             "#7201a8"
            ],
            [
             0.3333333333333333,
             "#9c179e"
            ],
            [
             0.4444444444444444,
             "#bd3786"
            ],
            [
             0.5555555555555556,
             "#d8576b"
            ],
            [
             0.6666666666666666,
             "#ed7953"
            ],
            [
             0.7777777777777778,
             "#fb9f3a"
            ],
            [
             0.8888888888888888,
             "#fdca26"
            ],
            [
             1,
             "#f0f921"
            ]
           ]
          },
          "colorway": [
           "#636efa",
           "#EF553B",
           "#00cc96",
           "#ab63fa",
           "#FFA15A",
           "#19d3f3",
           "#FF6692",
           "#B6E880",
           "#FF97FF",
           "#FECB52"
          ],
          "font": {
           "color": "#2a3f5f"
          },
          "geo": {
           "bgcolor": "white",
           "lakecolor": "white",
           "landcolor": "#E5ECF6",
           "showlakes": true,
           "showland": true,
           "subunitcolor": "white"
          },
          "hoverlabel": {
           "align": "left"
          },
          "hovermode": "closest",
          "mapbox": {
           "style": "light"
          },
          "paper_bgcolor": "white",
          "plot_bgcolor": "#E5ECF6",
          "polar": {
           "angularaxis": {
            "gridcolor": "white",
            "linecolor": "white",
            "ticks": ""
           },
           "bgcolor": "#E5ECF6",
           "radialaxis": {
            "gridcolor": "white",
            "linecolor": "white",
            "ticks": ""
           }
          },
          "scene": {
           "xaxis": {
            "backgroundcolor": "#E5ECF6",
            "gridcolor": "white",
            "gridwidth": 2,
            "linecolor": "white",
            "showbackground": true,
            "ticks": "",
            "zerolinecolor": "white"
           },
           "yaxis": {
            "backgroundcolor": "#E5ECF6",
            "gridcolor": "white",
            "gridwidth": 2,
            "linecolor": "white",
            "showbackground": true,
            "ticks": "",
            "zerolinecolor": "white"
           },
           "zaxis": {
            "backgroundcolor": "#E5ECF6",
            "gridcolor": "white",
            "gridwidth": 2,
            "linecolor": "white",
            "showbackground": true,
            "ticks": "",
            "zerolinecolor": "white"
           }
          },
          "shapedefaults": {
           "line": {
            "color": "#2a3f5f"
           }
          },
          "ternary": {
           "aaxis": {
            "gridcolor": "white",
            "linecolor": "white",
            "ticks": ""
           },
           "baxis": {
            "gridcolor": "white",
            "linecolor": "white",
            "ticks": ""
           },
           "bgcolor": "#E5ECF6",
           "caxis": {
            "gridcolor": "white",
            "linecolor": "white",
            "ticks": ""
           }
          },
          "title": {
           "x": 0.05
          },
          "xaxis": {
           "automargin": true,
           "gridcolor": "white",
           "linecolor": "white",
           "ticks": "",
           "title": {
            "standoff": 15
           },
           "zerolinecolor": "white",
           "zerolinewidth": 2
          },
          "yaxis": {
           "automargin": true,
           "gridcolor": "white",
           "linecolor": "white",
           "ticks": "",
           "title": {
            "standoff": 15
           },
           "zerolinecolor": "white",
           "zerolinewidth": 2
          }
         }
        }
       }
      },
      "text/html": [
       "<div>                            <div id=\"a61beb1b-67e8-44f7-9b92-9d76f084522c\" class=\"plotly-graph-div\" style=\"height:525px; width:100%;\"></div>            <script type=\"text/javascript\">                require([\"plotly\"], function(Plotly) {                    window.PLOTLYENV=window.PLOTLYENV || {};                                    if (document.getElementById(\"a61beb1b-67e8-44f7-9b92-9d76f084522c\")) {                    Plotly.newPlot(                        \"a61beb1b-67e8-44f7-9b92-9d76f084522c\",                        [{\"gauge\":{\"axis\":{\"range\":[1,5]},\"steps\":[{\"color\":\"red\",\"range\":[1,2]},{\"color\":\"orange\",\"range\":[2,3]},{\"color\":\"yellow\",\"range\":[3,4]},{\"color\":\"green\",\"range\":[4,5]}],\"threshold\":{\"line\":{\"color\":\"black\",\"width\":4},\"thickness\":0.75,\"value\":3.4279687717820018}},\"mode\":\"gauge+number\",\"title\":{\"text\":\"Calificaci\\u00f3n Promedio de Sentimientos\"},\"value\":3.4279687717820018,\"type\":\"indicator\"}],                        {\"template\":{\"data\":{\"bar\":[{\"error_x\":{\"color\":\"#2a3f5f\"},\"error_y\":{\"color\":\"#2a3f5f\"},\"marker\":{\"line\":{\"color\":\"#E5ECF6\",\"width\":0.5},\"pattern\":{\"fillmode\":\"overlay\",\"size\":10,\"solidity\":0.2}},\"type\":\"bar\"}],\"barpolar\":[{\"marker\":{\"line\":{\"color\":\"#E5ECF6\",\"width\":0.5},\"pattern\":{\"fillmode\":\"overlay\",\"size\":10,\"solidity\":0.2}},\"type\":\"barpolar\"}],\"carpet\":[{\"aaxis\":{\"endlinecolor\":\"#2a3f5f\",\"gridcolor\":\"white\",\"linecolor\":\"white\",\"minorgridcolor\":\"white\",\"startlinecolor\":\"#2a3f5f\"},\"baxis\":{\"endlinecolor\":\"#2a3f5f\",\"gridcolor\":\"white\",\"linecolor\":\"white\",\"minorgridcolor\":\"white\",\"startlinecolor\":\"#2a3f5f\"},\"type\":\"carpet\"}],\"choropleth\":[{\"colorbar\":{\"outlinewidth\":0,\"ticks\":\"\"},\"type\":\"choropleth\"}],\"contour\":[{\"colorbar\":{\"outlinewidth\":0,\"ticks\":\"\"},\"colorscale\":[[0.0,\"#0d0887\"],[0.1111111111111111,\"#46039f\"],[0.2222222222222222,\"#7201a8\"],[0.3333333333333333,\"#9c179e\"],[0.4444444444444444,\"#bd3786\"],[0.5555555555555556,\"#d8576b\"],[0.6666666666666666,\"#ed7953\"],[0.7777777777777778,\"#fb9f3a\"],[0.8888888888888888,\"#fdca26\"],[1.0,\"#f0f921\"]],\"type\":\"contour\"}],\"contourcarpet\":[{\"colorbar\":{\"outlinewidth\":0,\"ticks\":\"\"},\"type\":\"contourcarpet\"}],\"heatmap\":[{\"colorbar\":{\"outlinewidth\":0,\"ticks\":\"\"},\"colorscale\":[[0.0,\"#0d0887\"],[0.1111111111111111,\"#46039f\"],[0.2222222222222222,\"#7201a8\"],[0.3333333333333333,\"#9c179e\"],[0.4444444444444444,\"#bd3786\"],[0.5555555555555556,\"#d8576b\"],[0.6666666666666666,\"#ed7953\"],[0.7777777777777778,\"#fb9f3a\"],[0.8888888888888888,\"#fdca26\"],[1.0,\"#f0f921\"]],\"type\":\"heatmap\"}],\"heatmapgl\":[{\"colorbar\":{\"outlinewidth\":0,\"ticks\":\"\"},\"colorscale\":[[0.0,\"#0d0887\"],[0.1111111111111111,\"#46039f\"],[0.2222222222222222,\"#7201a8\"],[0.3333333333333333,\"#9c179e\"],[0.4444444444444444,\"#bd3786\"],[0.5555555555555556,\"#d8576b\"],[0.6666666666666666,\"#ed7953\"],[0.7777777777777778,\"#fb9f3a\"],[0.8888888888888888,\"#fdca26\"],[1.0,\"#f0f921\"]],\"type\":\"heatmapgl\"}],\"histogram\":[{\"marker\":{\"pattern\":{\"fillmode\":\"overlay\",\"size\":10,\"solidity\":0.2}},\"type\":\"histogram\"}],\"histogram2d\":[{\"colorbar\":{\"outlinewidth\":0,\"ticks\":\"\"},\"colorscale\":[[0.0,\"#0d0887\"],[0.1111111111111111,\"#46039f\"],[0.2222222222222222,\"#7201a8\"],[0.3333333333333333,\"#9c179e\"],[0.4444444444444444,\"#bd3786\"],[0.5555555555555556,\"#d8576b\"],[0.6666666666666666,\"#ed7953\"],[0.7777777777777778,\"#fb9f3a\"],[0.8888888888888888,\"#fdca26\"],[1.0,\"#f0f921\"]],\"type\":\"histogram2d\"}],\"histogram2dcontour\":[{\"colorbar\":{\"outlinewidth\":0,\"ticks\":\"\"},\"colorscale\":[[0.0,\"#0d0887\"],[0.1111111111111111,\"#46039f\"],[0.2222222222222222,\"#7201a8\"],[0.3333333333333333,\"#9c179e\"],[0.4444444444444444,\"#bd3786\"],[0.5555555555555556,\"#d8576b\"],[0.6666666666666666,\"#ed7953\"],[0.7777777777777778,\"#fb9f3a\"],[0.8888888888888888,\"#fdca26\"],[1.0,\"#f0f921\"]],\"type\":\"histogram2dcontour\"}],\"mesh3d\":[{\"colorbar\":{\"outlinewidth\":0,\"ticks\":\"\"},\"type\":\"mesh3d\"}],\"parcoords\":[{\"line\":{\"colorbar\":{\"outlinewidth\":0,\"ticks\":\"\"}},\"type\":\"parcoords\"}],\"pie\":[{\"automargin\":true,\"type\":\"pie\"}],\"scatter\":[{\"marker\":{\"colorbar\":{\"outlinewidth\":0,\"ticks\":\"\"}},\"type\":\"scatter\"}],\"scatter3d\":[{\"line\":{\"colorbar\":{\"outlinewidth\":0,\"ticks\":\"\"}},\"marker\":{\"colorbar\":{\"outlinewidth\":0,\"ticks\":\"\"}},\"type\":\"scatter3d\"}],\"scattercarpet\":[{\"marker\":{\"colorbar\":{\"outlinewidth\":0,\"ticks\":\"\"}},\"type\":\"scattercarpet\"}],\"scattergeo\":[{\"marker\":{\"colorbar\":{\"outlinewidth\":0,\"ticks\":\"\"}},\"type\":\"scattergeo\"}],\"scattergl\":[{\"marker\":{\"colorbar\":{\"outlinewidth\":0,\"ticks\":\"\"}},\"type\":\"scattergl\"}],\"scattermapbox\":[{\"marker\":{\"colorbar\":{\"outlinewidth\":0,\"ticks\":\"\"}},\"type\":\"scattermapbox\"}],\"scatterpolar\":[{\"marker\":{\"colorbar\":{\"outlinewidth\":0,\"ticks\":\"\"}},\"type\":\"scatterpolar\"}],\"scatterpolargl\":[{\"marker\":{\"colorbar\":{\"outlinewidth\":0,\"ticks\":\"\"}},\"type\":\"scatterpolargl\"}],\"scatterternary\":[{\"marker\":{\"colorbar\":{\"outlinewidth\":0,\"ticks\":\"\"}},\"type\":\"scatterternary\"}],\"surface\":[{\"colorbar\":{\"outlinewidth\":0,\"ticks\":\"\"},\"colorscale\":[[0.0,\"#0d0887\"],[0.1111111111111111,\"#46039f\"],[0.2222222222222222,\"#7201a8\"],[0.3333333333333333,\"#9c179e\"],[0.4444444444444444,\"#bd3786\"],[0.5555555555555556,\"#d8576b\"],[0.6666666666666666,\"#ed7953\"],[0.7777777777777778,\"#fb9f3a\"],[0.8888888888888888,\"#fdca26\"],[1.0,\"#f0f921\"]],\"type\":\"surface\"}],\"table\":[{\"cells\":{\"fill\":{\"color\":\"#EBF0F8\"},\"line\":{\"color\":\"white\"}},\"header\":{\"fill\":{\"color\":\"#C8D4E3\"},\"line\":{\"color\":\"white\"}},\"type\":\"table\"}]},\"layout\":{\"annotationdefaults\":{\"arrowcolor\":\"#2a3f5f\",\"arrowhead\":0,\"arrowwidth\":1},\"autotypenumbers\":\"strict\",\"coloraxis\":{\"colorbar\":{\"outlinewidth\":0,\"ticks\":\"\"}},\"colorscale\":{\"diverging\":[[0,\"#8e0152\"],[0.1,\"#c51b7d\"],[0.2,\"#de77ae\"],[0.3,\"#f1b6da\"],[0.4,\"#fde0ef\"],[0.5,\"#f7f7f7\"],[0.6,\"#e6f5d0\"],[0.7,\"#b8e186\"],[0.8,\"#7fbc41\"],[0.9,\"#4d9221\"],[1,\"#276419\"]],\"sequential\":[[0.0,\"#0d0887\"],[0.1111111111111111,\"#46039f\"],[0.2222222222222222,\"#7201a8\"],[0.3333333333333333,\"#9c179e\"],[0.4444444444444444,\"#bd3786\"],[0.5555555555555556,\"#d8576b\"],[0.6666666666666666,\"#ed7953\"],[0.7777777777777778,\"#fb9f3a\"],[0.8888888888888888,\"#fdca26\"],[1.0,\"#f0f921\"]],\"sequentialminus\":[[0.0,\"#0d0887\"],[0.1111111111111111,\"#46039f\"],[0.2222222222222222,\"#7201a8\"],[0.3333333333333333,\"#9c179e\"],[0.4444444444444444,\"#bd3786\"],[0.5555555555555556,\"#d8576b\"],[0.6666666666666666,\"#ed7953\"],[0.7777777777777778,\"#fb9f3a\"],[0.8888888888888888,\"#fdca26\"],[1.0,\"#f0f921\"]]},\"colorway\":[\"#636efa\",\"#EF553B\",\"#00cc96\",\"#ab63fa\",\"#FFA15A\",\"#19d3f3\",\"#FF6692\",\"#B6E880\",\"#FF97FF\",\"#FECB52\"],\"font\":{\"color\":\"#2a3f5f\"},\"geo\":{\"bgcolor\":\"white\",\"lakecolor\":\"white\",\"landcolor\":\"#E5ECF6\",\"showlakes\":true,\"showland\":true,\"subunitcolor\":\"white\"},\"hoverlabel\":{\"align\":\"left\"},\"hovermode\":\"closest\",\"mapbox\":{\"style\":\"light\"},\"paper_bgcolor\":\"white\",\"plot_bgcolor\":\"#E5ECF6\",\"polar\":{\"angularaxis\":{\"gridcolor\":\"white\",\"linecolor\":\"white\",\"ticks\":\"\"},\"bgcolor\":\"#E5ECF6\",\"radialaxis\":{\"gridcolor\":\"white\",\"linecolor\":\"white\",\"ticks\":\"\"}},\"scene\":{\"xaxis\":{\"backgroundcolor\":\"#E5ECF6\",\"gridcolor\":\"white\",\"gridwidth\":2,\"linecolor\":\"white\",\"showbackground\":true,\"ticks\":\"\",\"zerolinecolor\":\"white\"},\"yaxis\":{\"backgroundcolor\":\"#E5ECF6\",\"gridcolor\":\"white\",\"gridwidth\":2,\"linecolor\":\"white\",\"showbackground\":true,\"ticks\":\"\",\"zerolinecolor\":\"white\"},\"zaxis\":{\"backgroundcolor\":\"#E5ECF6\",\"gridcolor\":\"white\",\"gridwidth\":2,\"linecolor\":\"white\",\"showbackground\":true,\"ticks\":\"\",\"zerolinecolor\":\"white\"}},\"shapedefaults\":{\"line\":{\"color\":\"#2a3f5f\"}},\"ternary\":{\"aaxis\":{\"gridcolor\":\"white\",\"linecolor\":\"white\",\"ticks\":\"\"},\"baxis\":{\"gridcolor\":\"white\",\"linecolor\":\"white\",\"ticks\":\"\"},\"bgcolor\":\"#E5ECF6\",\"caxis\":{\"gridcolor\":\"white\",\"linecolor\":\"white\",\"ticks\":\"\"}},\"title\":{\"x\":0.05},\"xaxis\":{\"automargin\":true,\"gridcolor\":\"white\",\"linecolor\":\"white\",\"ticks\":\"\",\"title\":{\"standoff\":15},\"zerolinecolor\":\"white\",\"zerolinewidth\":2},\"yaxis\":{\"automargin\":true,\"gridcolor\":\"white\",\"linecolor\":\"white\",\"ticks\":\"\",\"title\":{\"standoff\":15},\"zerolinecolor\":\"white\",\"zerolinewidth\":2}}}},                        {\"responsive\": true}                    ).then(function(){\n",
       "                            \n",
       "var gd = document.getElementById('a61beb1b-67e8-44f7-9b92-9d76f084522c');\n",
       "var x = new MutationObserver(function (mutations, observer) {{\n",
       "        var display = window.getComputedStyle(gd).display;\n",
       "        if (!display || display === 'none') {{\n",
       "            console.log([gd, 'removed!']);\n",
       "            Plotly.purge(gd);\n",
       "            observer.disconnect();\n",
       "        }}\n",
       "}});\n",
       "\n",
       "// Listen for the removal of the full notebook cells\n",
       "var notebookContainer = gd.closest('#notebook-container');\n",
       "if (notebookContainer) {{\n",
       "    x.observe(notebookContainer, {childList: true});\n",
       "}}\n",
       "\n",
       "// Listen for the clearing of the current output cell\n",
       "var outputEl = gd.closest('.output');\n",
       "if (outputEl) {{\n",
       "    x.observe(outputEl, {childList: true});\n",
       "}}\n",
       "\n",
       "                        })                };                });            </script>        </div>"
      ]
     },
     "metadata": {},
     "output_type": "display_data"
    },
    {
     "data": {
      "image/png": "[encoded data removed]",
      "text/plain": [
       "<Figure size 720x360 with 1 Axes>"
      ]
     },
     "metadata": {
      "needs_background": "light"
     },
     "output_type": "display_data"
    }
   ],
   "source": [
    "# Análisis de sentimientos más avanzado\n",
    "from textblob import TextBlob\n",
    "import plotly.graph_objects as go\n",
    "import matplotlib.pyplot as plt\n",
    "from collections import defaultdict\n",
    "import nltk\n",
    "from nltk.tokenize import word_tokenize\n",
    "\n",
    "# Asegúrate de haber descargado el archivo 'NRC-Emotion-Lexicon-Wordlevel-v0.92.txt' y coloca la ruta correcta aquí\n",
    "nrc_lexicon_file = 'NRC-Emotion-Lexicon-Wordlevel-v0.92.txt'\n",
    "\n",
    "# Carga del lexicon\n",
    "def load_nrc_lexicon(file_path):\n",
    "    nrc_lexicon = defaultdict(list)\n",
    "    with open(file_path, 'r') as f:\n",
    "        for line in f:\n",
    "            word, emotion, association = line.strip().split('\\t')\n",
    "            if int(association) == 1:\n",
    "                nrc_lexicon[emotion].append(word)\n",
    "    return nrc_lexicon\n",
    "\n",
    "# Análisis de emociones\n",
    "def analyze_emotions(text, lexicon):\n",
    "    emotions = defaultdict(int)\n",
    "    words = word_tokenize(text.lower())\n",
    "    for word in words:\n",
    "        for emotion, words in lexicon.items():\n",
    "            if word in words:\n",
    "                emotions[emotion] += 1\n",
    "    return emotions\n",
    "\n",
    "# Función para obtener los comentarios\n",
    "def get_reviews(asin):\n",
    "    reviews = []\n",
    "    page = 1\n",
    "    while True:\n",
    "        url = \"https://real-time-amazon-data.p.rapidapi.com/product-reviews\"\n",
    "        querystring = {\n",
    "            \"asin\": asin,\n",
    "            \"country\": \"US\",\n",
    "            \"sort_by\": \"TOP_REVIEWS\",\n",
    "            \"star_rating\": \"ALL\",\n",
    "            \"verified_purchases_only\": \"false\",\n",
    "            \"images_or_videos_only\": \"false\",\n",
    "            \"current_format_only\": \"false\",\n",
    "            \"page\": page\n",
    "        }\n",
    "\n",
    "        headers = {\n",
    "            \"x-rapidapi-key\": \"38e65580ffmsh55d6f1788db421ap1ff5b0jsn3f9029414f2f\",\n",
    "            \"x-rapidapi-host\": \"real-time-amazon-data.p.rapidapi.com\"\n",
    "        }\n",
    "\n",
    "        response = requests.get(url, headers=headers, params=querystring)\n",
    "        data = response.json()\n",
    "        \n",
    "        if 'data' in data and 'reviews' in data['data']:\n",
    "            reviews_on_page = data['data']['reviews']\n",
    "            if not reviews_on_page:\n",
    "                break\n",
    "            reviews.extend(reviews_on_page)\n",
    "        else:\n",
    "            break  # Stop if there are no more reviews or if the data format is unexpected\n",
    "        \n",
    "        page += 1\n",
    "    return reviews\n",
    "\n",
    "# Análisis de sentimientos\n",
    "def analyze_sentiments(reviews):\n",
    "    sentiments = []\n",
    "    for review in reviews:\n",
    "        analysis = TextBlob(review['review_comment'])\n",
    "        sentiments.append(analysis.sentiment.polarity)\n",
    "    if sentiments:\n",
    "        avg_sentiment = sum(sentiments) / len(sentiments)\n",
    "        return avg_sentiment\n",
    "    else:\n",
    "        return None\n",
    "\n",
    "# Conversión de sentimiento a calificación\n",
    "def sentiment_to_rating(avg_sentiment):\n",
    "    return 1 + (avg_sentiment + 1) * 2\n",
    "\n",
    "# Creación del medidor de calificación\n",
    "def create_gauge_meter(rating):\n",
    "    fig = go.Figure(go.Indicator(\n",
    "        mode = \"gauge+number\",\n",
    "        value = rating,\n",
    "        title = {'text': \"Calificación Promedio de Sentimientos\"},\n",
    "        gauge = {\n",
    "            'axis': {'range': [1, 5]},\n",
    "            'steps' : [\n",
    "                {'range': [1, 2], 'color': \"red\"},\n",
    "                {'range': [2, 3], 'color': \"orange\"},\n",
    "                {'range': [3, 4], 'color': \"yellow\"},\n",
    "                {'range': [4, 5], 'color': \"green\"}\n",
    "            ],\n",
    "            'threshold' : {\n",
    "                'line': {'color': \"black\", 'width': 4},\n",
    "                'thickness': 0.75,\n",
    "                'value': rating\n",
    "            }\n",
    "        }\n",
    "    ))\n",
    "\n",
    "    fig.show()\n",
    "\n",
    "# Graficar emociones\n",
    "def plot_emotions(emotions):\n",
    "    categories = [category for category in emotions.keys() if category not in ['positive', 'negative']]\n",
    "    values = [emotions[category] for category in categories]\n",
    "\n",
    "    plt.figure(figsize=(10, 5))\n",
    "    bars = plt.bar(categories, values, color=['green', 'cyan', 'yellow', 'orange', 'red'])\n",
    "    \n",
    "    for bar, value in zip(bars, values):\n",
    "        plt.text(bar.get_x() + bar.get_width() / 2, bar.get_height(), str(value), ha='center', va='bottom')\n",
    "    \n",
    "    plt.xlabel('Emociones')\n",
    "    plt.ylabel('Frecuencia')\n",
    "    plt.title('Análisis de Emociones')\n",
    "    plt.show()\n",
    "\n",
    "# Main\n",
    "asin = \"B0CN1QSH8Q\"\n",
    "nrc_lexicon = load_nrc_lexicon(nrc_lexicon_file)\n",
    "reviews = get_reviews(asin)\n",
    "\n",
    "if reviews:\n",
    "    avg_sentiment = analyze_sentiments(reviews)\n",
    "    if avg_sentiment is not None:\n",
    "        rating = sentiment_to_rating(avg_sentiment)\n",
    "        print(f\"La calificación promedio de los sentimientos de los comentarios para el producto {asin} es: {rating:.2f}\")\n",
    "        create_gauge_meter(rating)\n",
    "    \n",
    "    all_reviews_text = ' '.join([review['review_comment'] for review in reviews])\n",
    "    emotions = analyze_emotions(all_reviews_text, nrc_lexicon)\n",
    "    plot_emotions(emotions)\n",
    "else:\n",
    "    print(\"No se encontraron comentarios.\")"
   ]
  },
  {
   "cell_type": "code",
   "execution_count": null,
   "id": "dc495400",
   "metadata": {},
   "outputs": [],
   "source": []
  },
  {
   "cell_type": "code",
   "execution_count": null,
   "id": "fc28657b",
   "metadata": {},
   "outputs": [],
   "source": []
  }
 ],
 "metadata": {
  "kernelspec": {
   "display_name": "Python 3 (ipykernel)",
   "language": "python",
   "name": "python3"
  },
  "language_info": {
   "codemirror_mode": {
    "name": "ipython",
    "version": 3
   },
   "file_extension": ".py",
   "mimetype": "text/x-python",
   "name": "python",
   "nbconvert_exporter": "python",
   "pygments_lexer": "ipython3",
   "version": "3.9.12"
  }
 },
 "nbformat": 4,
 "nbformat_minor": 5
}
