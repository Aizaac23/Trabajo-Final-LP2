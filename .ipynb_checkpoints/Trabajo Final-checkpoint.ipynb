{
 "cells": [
  {
   "cell_type": "markdown",
   "id": "b953b342-4bed-4c52-b82f-e31e239ddc13",
   "metadata": {},
   "source": [
    "<center><h1><span style=\"\">Universidad Nacional Agraria La Molina</span></h1></center>\n",
    "<center><h2><span style=\"\">Carrera Profesional de Estadística Infórmatica</span></h2></center>\n",
    "\n",
    "<center><img src=\"https://raw.githubusercontent.com/tengolaaag/Final-LP2/main/escudo.jpg\" width=\"300\" height=\"200\"></center>\n",
    "\n",
    "<center><h4><span style=\"\">Curso: Lenguaje de Programación II</span></h4></center>\n",
    "<center><h3><span style=\"\"> <b>Proyecto: <i>   </b></i></span></h3></center>\n",
    "\n",
    "<center><h3><span style=\"\">Docente: Mg. Denise CHALAN LLAJARUNA</span></h3></center>\n",
    "\n",
    "### Integrantes: \n",
    "- Pedro Isaac Ñaupa Celis\n",
    "- Manolo Meza Rodríguez\n",
    "- Bruno Fabrizzio Candiotti Neyra\n",
    "\n",
    "## Introducción"
   ]
  },
  {
   "cell_type": "markdown",
   "id": "89b1eb39-5e46-405f-a4fa-13bc3772962f",
   "metadata": {},
   "source": [
    "# Objetivos (sb)\n",
    "## Objetivo General\n",
    "- \n",
    "## Objetivos específicos\n",
    "- \n"
   ]
  },
  {
   "cell_type": "markdown",
   "id": "1fba4b5d-cca8-4ad4-97ea-3eb9ad94506b",
   "metadata": {},
   "source": [
    "# Planificación del proyecto\n",
    "## Distribución de roles\n",
    "- Desarrollador Principal: Bruno\n",
    "    - Responsabilidades:\n",
    "         -\tLiderar el desarrollo de la extracción de datos\n",
    "         -\tConfiguración y autenticación de la API.\n",
    "        -\tAsegurar la correcta integración de todas las partes del proyecto.\n",
    "        -\tGuardar los datos extraídos en una base de datos o en archivos CSV/JSON.\n",
    "\n",
    "- Encargado de Documentación y Análisis de datos: Manolo\n",
    "    - Responsabilidades:\n",
    "        - Colaborar con Bruno en el desarrollo del código para extraer información relevante de los anuncios.\n",
    "        - Documentar cada parte del código y del proceso.\n",
    "        - Procesar y limpiar los datos extraídos.\n",
    "        - Realizar la transformación de datos útil, como calcular estadísticas básicas.\n",
    "        - Asegurarse de que toda la documentación esté clara y completa.\n",
    "- Project Manager y Encargado de la Página Web: Isaac\n",
    "  - Responsabilidades:\n",
    "      -  Coordinar y supervisar todas las actividades del proyecto.\n",
    "      -   Configurar el flujo de trabajo en GitHub y gestionar ramas y merges.\n",
    "      -   Crear la página web utilizando HTML y bibliotecas de visualización.\n",
    "      -   Incluir elementos interactivos para mejorar la experiencia del usuario\n",
    "      -   .Configurar el flujo de trabajo en GitHub y gestionar las ramas y los merges.\n",
    "      -   Realizar pruebas exhaustivas de la página web.\n",
    "## Flujo de trabajo\n",
    "- Cada integrante del proyecto crea ramas para funcionalidades relacionadas con su rol\n",
    "- Crear Pull Requests y fusionar ramas en main.\n",
    "\n",
    "# Documentación (sb)\n",
    "\n",
    "\n",
    "\n",
    "\n",
    "\n"
   ]
  },
  {
   "cell_type": "markdown",
   "id": "6346fba6-787c-47c0-aa28-1f566845fcd5",
   "metadata": {},
   "source": [
    "# Extracción de información\n"
   ]
  },
  {
   "cell_type": "markdown",
   "id": "8f374f57-ca1b-4dbf-898d-e20eb445b492",
   "metadata": {},
   "source": [
    "# Descarga automatizada del csv\n"
   ]
  },
  {
   "cell_type": "code",
   "execution_count": 1,
   "id": "e5474c0d-f999-4e0d-872e-25deeb4b3c34",
   "metadata": {},
   "outputs": [
    {
     "name": "stdout",
     "output_type": "stream",
     "text": [
      "{'status': 'OK'}\n"
     ]
    }
   ],
   "source": []
  }
 ],
 "metadata": {
  "kernelspec": {
   "display_name": "Python 3 (ipykernel)",
   "language": "python",
   "name": "python3"
  },
  "language_info": {
   "codemirror_mode": {
    "name": "ipython",
    "version": 3
   },
   "file_extension": ".py",
   "mimetype": "text/x-python",
   "name": "python",
   "nbconvert_exporter": "python",
   "pygments_lexer": "ipython3",
   "version": "3.9.12"
  }
 },
 "nbformat": 4,
 "nbformat_minor": 5
}
