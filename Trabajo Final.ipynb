{
 "cells": [
  {
   "cell_type": "markdown",
   "id": "b953b342-4bed-4c52-b82f-e31e239ddc13",
   "metadata": {},
   "source": [
    "<center><h1><span style=\"\">Universidad Nacional Agraria La Molina</span></h1></center>\n",
    "<center><h2><span style=\"\">Carrera Profesional de Estadística Infórmatica</span></h2></center>\n",
    "\n",
    "<center><img src=\"https://raw.githubusercontent.com/tengolaaag/Final-LP2/main/escudo.jpg\" width=\"300\" height=\"200\"></center>\n",
    "\n",
    "<center><h4><span style=\"\">Curso: Lenguaje de Programación II</span></h4></center>\n",
    "<center><h3><span style=\"\"> <b>Proyecto: <i>   </b></i></span></h3></center>\n",
    "\n",
    "<center><h3><span style=\"\">Docente: Mg. Denise CHALAN LLAJARUNA</span></h3></center>\n",
    "\n",
    "### Integrantes: \n",
    "- Pedro Isaac Ñaupa Celis\n",
    "- Manolo Meza Rodríguez\n",
    "- Bruno Fabrizzio Candiotti Neyra\n",
    "\n",
    "## Introducción"
   ]
  },
  {
   "cell_type": "markdown",
   "id": "89b1eb39-5e46-405f-a4fa-13bc3772962f",
   "metadata": {},
   "source": [
    "# Objetivos\n",
    "## Objetivo General\n",
    "- Analizar los sentimientos generados en los comentarios de telefonos inteligentes vendido en Amazon EEUU.\n",
    "## Objetivos específicos\n",
    "- Extraer la base de datos en un archivo csv.\n",
    "- Visualizar información relevante de cada telefono inteligente vendido en Amazon EEUU.\n",
    "- Mostrar gráficas de sentimientos.\n",
    "- Verificar las ofertas."
   ]
  },
  {
   "cell_type": "markdown",
   "id": "1fba4b5d-cca8-4ad4-97ea-3eb9ad94506b",
   "metadata": {},
   "source": [
    "# Planificación del proyecto\n",
    "## Distribución de roles\n",
    "- Desarrollador Principal: Bruno\n",
    "    - Responsabilidades:\n",
    "         -\tLiderar el desarrollo de la extracción de datos\n",
    "         -\tConfiguración y autenticación de la API.\n",
    "        -\tAsegurar la correcta integración de todas las partes del proyecto.\n",
    "        -\tGuardar los datos extraídos en una base de datos o en archivos CSV/JSON.\n",
    "\n",
    "- Encargado de Documentación y Análisis de datos: Manolo\n",
    "    - Responsabilidades:\n",
    "        - Colaborar con Bruno en el desarrollo del código para extraer información relevante de los anuncios.\n",
    "        - Documentar cada parte del código y del proceso.\n",
    "        - Procesar y limpiar los datos extraídos.\n",
    "        - Realizar la transformación de datos útil, como calcular estadísticas básicas.\n",
    "        - Asegurarse de que toda la documentación esté clara y completa.\n",
    "- Project Manager y Encargado de la Página Web: Isaac\n",
    "  - Responsabilidades:\n",
    "      -  Coordinar y supervisar todas las actividades del proyecto.\n",
    "      -   Configurar el flujo de trabajo en GitHub y gestionar ramas y merges.\n",
    "      -   Crear la página web utilizando HTML y bibliotecas de visualización.\n",
    "      -   Incluir elementos interactivos para mejorar la experiencia del usuario\n",
    "      -   .Configurar el flujo de trabajo en GitHub y gestionar las ramas y los merges.\n",
    "      -   Realizar pruebas exhaustivas de la página web.\n",
    "## Flujo de trabajo\n",
    "- Cada integrante del proyecto crea ramas para funcionalidades relacionadas con su rol\n",
    "- Crear Pull Requests y fusionar ramas en main.\n",
    "\n",
    "# Documentación\n",
    "\n",
    "\n",
    "https://rapidapi.com/letscrape-6bRBa3QguO5/api/real-time-amazon-data\n",
    "\n",
    "\n",
    "\n",
    "\n"
   ]
  },
  {
   "cell_type": "markdown",
   "id": "6346fba6-787c-47c0-aa28-1f566845fcd5",
   "metadata": {},
   "source": [
    "# Extracción de información\n"
   ]
  },
  {
   "cell_type": "markdown",
   "id": "8f374f57-ca1b-4dbf-898d-e20eb445b492",
   "metadata": {},
   "source": [
    "# Descarga automatizada del csv\n"
   ]
  },
  {
   "cell_type": "code",
   "execution_count": 3,
   "id": "e5474c0d-f999-4e0d-872e-25deeb4b3c34",
   "metadata": {},
   "outputs": [
    {
     "name": "stdout",
     "output_type": "stream",
     "text": [
      "Los datos se han guardado en el archivo amazon_phone_products.csv\n"
     ]
    }
   ],
   "source": [
    "import requests\n",
    "import csv\n",
    "\n",
    "url = \"https://real-time-amazon-data.p.rapidapi.com/search\"\n",
    "\n",
    "querystring = {\n",
    "    \"query\": \"Phone\",\n",
    "    \"page\": \"1\",\n",
    "    \"country\": \"US\",\n",
    "    \"sort_by\": \"RELEVANCE\",\n",
    "    \"product_condition\": \"ALL\"\n",
    "}\n",
    "\n",
    "headers = {\n",
    "    \"x-rapidapi-key\": \"3aefbfaf31msh6e91d0f7b559d03p1a9f67jsn9dea5372850c\",\n",
    "    \"x-rapidapi-host\": \"real-time-amazon-data.p.rapidapi.com\"\n",
    "}\n",
    "\n",
    "response = requests.get(url, headers=headers, params=querystring)\n",
    "\n",
    "if response.status_code == 200:\n",
    "    products_data = response.json()\n",
    "    \n",
    "    # Verificar si los datos tienen productos\n",
    "    if 'data' in products_data and 'products' in products_data['data']:\n",
    "        products = products_data['data']['products']\n",
    "        \n",
    "        # Definir el nombre del archivo CSV\n",
    "        csv_filename = \"amazon_phone_products.csv\"\n",
    "        \n",
    "        # Abrir el archivo CSV en modo escritura\n",
    "        with open(csv_filename, mode='w', newline='', encoding='utf-8') as file:\n",
    "            writer = csv.writer(file)\n",
    "            \n",
    "            # Escribir la cabecera del CSV (basada en las claves del primer producto)\n",
    "            header = products[0].keys()\n",
    "            writer.writerow(header)\n",
    "            \n",
    "            # Escribir los datos de los productos\n",
    "            for product in products:\n",
    "                writer.writerow(product.values())\n",
    "        \n",
    "        print(f\"Los datos se han guardado en el archivo {csv_filename}\")\n",
    "    else:\n",
    "        print(\"No se encontraron productos en los datos de la API.\")\n",
    "else:\n",
    "    print(\"Solicitud HTTP fallida con el código de estado: \", response.status_code)"
   ]
  },
  {
   "cell_type": "code",
   "execution_count": 2,
   "id": "405b6809",
   "metadata": {},
   "outputs": [
    {
     "name": "stdout",
     "output_type": "stream",
     "text": [
      "asin: B0BZ9XNBRB\n",
      "product_title: Google Pixel 7a - Unlocked Android Cell Phone - Smartphone with Wide Angle Lens and 24-Hour Battery - 128 GB – Charcoal\n",
      "product_price: $249.00\n",
      "product_original_price: $499.00\n",
      "currency: USD\n",
      "product_star_rating: 4.3\n",
      "product_num_ratings: 2167\n",
      "product_url: https://www.amazon.com/dp/B0BZ9XNBRB\n",
      "product_photo: https://m.media-amazon.com/images/I/61r7cCpQPlL._AC_UY654_FMwebp_QL65_.jpg\n",
      "product_num_offers: 1\n",
      "product_minimum_offer_price: $249.00\n",
      "is_best_seller: False\n",
      "is_amazon_choice: False\n",
      "is_prime: False\n",
      "climate_pledge_friendly: False\n",
      "sales_volume: 1K+ bought in past month\n",
      "delivery: None\n",
      "has_variations: True\n"
     ]
    }
   ],
   "source": [
    "import requests\n",
    "\n",
    "url = \"https://real-time-amazon-data.p.rapidapi.com/search\"\n",
    "\n",
    "querystring = {\n",
    "    \"query\": \"Phone\",\n",
    "    \"page\": \"1\",\n",
    "    \"country\": \"US\",\n",
    "    \"sort_by\": \"RELEVANCE\",\n",
    "    \"product_condition\": \"ALL\"\n",
    "}\n",
    "\n",
    "headers = {\n",
    "    \"x-rapidapi-key\": \"3aefbfaf31msh6e91d0f7b559d03p1a9f67jsn9dea5372850c\",\n",
    "    \"x-rapidapi-host\": \"real-time-amazon-data.p.rapidapi.com\"\n",
    "}\n",
    "\n",
    "response = requests.get(url, headers=headers, params=querystring)\n",
    "\n",
    "if response.status_code == 200:\n",
    "    products_data = response.json()\n",
    "    \n",
    "    # Verificar si los datos tienen productos\n",
    "    if 'data' in products_data and 'products' in products_data['data']:\n",
    "        products = products_data['data']['products']\n",
    "        \n",
    "        # Mostrar información del primer teléfono\n",
    "        if products:\n",
    "            first_phone = products[0]\n",
    "            for key, value in first_phone.items():\n",
    "                print(f\"{key}: {value}\")\n",
    "        else:\n",
    "            print(\"No se encontraron productos.\")\n",
    "    else:\n",
    "        print(\"No se encontraron productos en los datos de la API.\")\n",
    "else:\n",
    "    print(\"Solicitud HTTP fallida con el código de estado: \", response.status_code)"
   ]
  },
  {
   "cell_type": "code",
   "execution_count": 3,
   "id": "cb94d085",
   "metadata": {},
   "outputs": [
    {
     "name": "stdout",
     "output_type": "stream",
     "text": [
      "ASIN: B0BZ9XNBRB\n",
      "Título: Google Pixel 7a - Unlocked Android Cell Phone - Smartphone with Wide Angle Lens and 24-Hour Battery - 128 GB – Charcoal\n",
      "Precio: $249.00\n",
      "Precio Original: $499.00\n",
      "Calificación: 4.3\n",
      "Número de Calificaciones: 2167\n",
      "URL: https://www.amazon.com/dp/B0BZ9XNBRB\n",
      "URL de la Foto: https://m.media-amazon.com/images/I/61r7cCpQPlL._AC_UY654_FMwebp_QL65_.jpg\n",
      "Número de Ofertas: 1\n",
      "Precio Mínimo de Oferta: $249.00\n",
      "Mejor Vendido: No\n",
      "Opción de Amazon: No\n",
      "Prime: No\n",
      "Amigable con el Clima: No\n",
      "Volumen de Ventas: 500+ bought in past month\n",
      "Entrega: None\n",
      "Tiene Variaciones: Sí\n",
      "----------------------------------------\n",
      "ASIN: B0BQ118F2T\n",
      "Título: Moto G Play 2023 3-Day Battery Unlocked Made for US 3/32GB 16MP Camera Navy Blue\n",
      "Precio: $94.95\n",
      "Precio Original: $169.99\n",
      "Calificación: 4.1\n",
      "Número de Calificaciones: 2814\n",
      "URL: https://www.amazon.com/dp/B0BQ118F2T\n",
      "URL de la Foto: https://m.media-amazon.com/images/I/61K1Fz5LxvL._AC_UY654_FMwebp_QL65_.jpg\n",
      "Número de Ofertas: 1\n",
      "Precio Mínimo de Oferta: $94.95\n",
      "Mejor Vendido: No\n",
      "Opción de Amazon: No\n",
      "Prime: No\n",
      "Amigable con el Clima: No\n",
      "Volumen de Ventas: 3K+ bought in past month\n",
      "Entrega: None\n",
      "Tiene Variaciones: Sí\n",
      "----------------------------------------\n",
      "ASIN: B09SM24S8C\n",
      "Título: Samsung Galaxy A03s Cell Phone, AT&amp;T GSM Unlocked Android Smartphone, 32GB, Long Lasting Battery, Expandable Storage, 3 Camera Lenses, Infinite Display - Black (Renewed)\n",
      "Precio: $74.00\n",
      "Precio Original: $87.14\n",
      "Calificación: 3.9\n",
      "Número de Calificaciones: 429\n",
      "URL: https://www.amazon.com/dp/B09SM24S8C\n",
      "URL de la Foto: https://m.media-amazon.com/images/I/51m45B3Yy+L._AC_UY654_FMwebp_QL65_.jpg\n",
      "Número de Ofertas: 26\n",
      "Precio Mínimo de Oferta: $61.56\n",
      "Mejor Vendido: No\n",
      "Opción de Amazon: No\n",
      "Prime: No\n",
      "Amigable con el Clima: No\n",
      "Volumen de Ventas: 2K+ bought in past month\n",
      "Entrega: FREE delivery Thu, Jul 18 Only 17 left in stock - order soon.\n",
      "Tiene Variaciones: Sí\n",
      "----------------------------------------\n",
      "ASIN: B0C5BMB1WB\n",
      "Título: Motorola One Ace | 2021 | 2-Day Battery | Unlocked | Made for US 4/64GB | 48MP Camera | Volcanic Gray\n",
      "Precio: $85.73\n",
      "Precio Original: None\n",
      "Calificación: 4\n",
      "Número de Calificaciones: 109\n",
      "URL: https://www.amazon.com/dp/B0C5BMB1WB\n",
      "URL de la Foto: https://m.media-amazon.com/images/I/51JEsDX-ynL._AC_UY654_FMwebp_QL65_.jpg\n",
      "Número de Ofertas: 1\n",
      "Precio Mínimo de Oferta: $85.73\n",
      "Mejor Vendido: No\n",
      "Opción de Amazon: No\n",
      "Prime: Sí\n",
      "Amigable con el Clima: No\n",
      "Volumen de Ventas: 1K+ bought in past month\n",
      "Entrega: FREE delivery Sun, Jul 21 Or fastest delivery Thu, Jul 18\n",
      "Tiene Variaciones: No\n",
      "----------------------------------------\n",
      "ASIN: B0CHH6X6H2\n",
      "Título: Total by Verizon | Samsung Galaxy A03s | Locked | 32GB | 5000mAh Battery | 48MP Main Camera | 6.5-in. HD+Infinity-V Display | Black\n",
      "Precio: $39.99\n",
      "Precio Original: $49.99\n",
      "Calificación: 4\n",
      "Número de Calificaciones: 169\n",
      "URL: https://www.amazon.com/dp/B0CHH6X6H2\n",
      "URL de la Foto: https://m.media-amazon.com/images/I/812woqv69CL._AC_UY654_FMwebp_QL65_.jpg\n",
      "Número de Ofertas: 1\n",
      "Precio Mínimo de Oferta: $39.99\n",
      "Mejor Vendido: No\n",
      "Opción de Amazon: No\n",
      "Prime: No\n",
      "Amigable con el Clima: No\n",
      "Volumen de Ventas: 1K+ bought in past month\n",
      "Entrega: None\n",
      "Tiene Variaciones: No\n",
      "----------------------------------------\n",
      "ASIN: B0CN1QSH8Q\n",
      "Título: SAMSUNG Galaxy A15 5G A Series Cell Phone, 128GB Unlocked Android Smartphone, AMOLED Display, Expandable Storage, Knox Security, Super Fast Charging, Hi-Res Camera, US Version, 2024, Blue Black\n",
      "Precio: $199.99\n",
      "Precio Original: None\n",
      "Calificación: 4.1\n",
      "Número de Calificaciones: 354\n",
      "URL: https://www.amazon.com/dp/B0CN1QSH8Q\n",
      "URL de la Foto: https://m.media-amazon.com/images/I/61s0ZzwzSCL._AC_UY654_FMwebp_QL65_.jpg\n",
      "Número de Ofertas: 2\n",
      "Precio Mínimo de Oferta: $171.11\n",
      "Mejor Vendido: No\n",
      "Opción de Amazon: No\n",
      "Prime: Sí\n",
      "Amigable con el Clima: Sí\n",
      "Volumen de Ventas: 2K+ bought in past month\n",
      "Entrega: FREE delivery Sun, Jul 21 Or fastest delivery Thu, Jul 18\n",
      "Tiene Variaciones: Sí\n",
      "----------------------------------------\n",
      "ASIN: B09V5LDZQ4\n",
      "Título: Samsung Galaxy S22 Smartphone, Factory Unlocked Android Cell Phone, 128GB, 8K Camera &amp; Video, Brightest Display, Long Battery Life, Fast 4nm Processor, US Version, Phantom Black (Renewed)\n",
      "Precio: $250.00\n",
      "Precio Original: $379.99\n",
      "Calificación: 4.1\n",
      "Número de Calificaciones: 1752\n",
      "URL: https://www.amazon.com/dp/B09V5LDZQ4\n",
      "URL de la Foto: https://m.media-amazon.com/images/I/61kfOWlQLsL._AC_UY654_FMwebp_QL65_.jpg\n",
      "Número de Ofertas: 45\n",
      "Precio Mínimo de Oferta: $212.58\n",
      "Mejor Vendido: No\n",
      "Opción de Amazon: No\n",
      "Prime: No\n",
      "Amigable con el Clima: No\n",
      "Volumen de Ventas: 1K+ bought in past month\n",
      "Entrega: FREE delivery Fri, Jul 19\n",
      "Tiene Variaciones: Sí\n",
      "----------------------------------------\n",
      "ASIN: B086QB7WZ1\n",
      "Título: AT&amp;T BL102-2 DECT 6.0 2-Handset Cordless Phone for Home with Answering Machine, Call Blocking, Caller ID Announcer, Audio Assist, Intercom, and Unsurpassed Range, Silver/Black\n",
      "Precio: $39.99\n",
      "Precio Original: $56.95\n",
      "Calificación: 4.3\n",
      "Número de Calificaciones: 26499\n",
      "URL: https://www.amazon.com/dp/B086QB7WZ1\n",
      "URL de la Foto: https://m.media-amazon.com/images/I/81vjTHTF9WL._AC_UY654_FMwebp_QL65_.jpg\n",
      "Número de Ofertas: 1\n",
      "Precio Mínimo de Oferta: $39.99\n",
      "Mejor Vendido: Sí\n",
      "Opción de Amazon: No\n",
      "Prime: No\n",
      "Amigable con el Clima: No\n",
      "Volumen de Ventas: 3K+ bought in past month\n",
      "Entrega: None\n",
      "Tiene Variaciones: No\n",
      "----------------------------------------\n",
      "ASIN: B0CRVWXJ6H\n",
      "Título: Samsung Galaxy A25 5G (SM-A256E/DS), 128GB 6GB RAM, Dual SIM, Factory Unlocked GSM, International Version (Wall Charger Bundle) - (Blue Black)\n",
      "Precio: $183.00\n",
      "Precio Original: $247.97\n",
      "Calificación: 4\n",
      "Número de Calificaciones: 134\n",
      "URL: https://www.amazon.com/dp/B0CRVWXJ6H\n",
      "URL de la Foto: https://m.media-amazon.com/images/I/51m744UUjYL._AC_UY654_FMwebp_QL65_.jpg\n",
      "Número de Ofertas: 14\n",
      "Precio Mínimo de Oferta: $169.99\n",
      "Mejor Vendido: No\n",
      "Opción de Amazon: No\n",
      "Prime: Sí\n",
      "Amigable con el Clima: No\n",
      "Volumen de Ventas: 1K+ bought in past month\n",
      "Entrega: FREE delivery Mon, Jul 22 Only 4 left in stock - order soon.\n",
      "Tiene Variaciones: Sí\n",
      "----------------------------------------\n",
      "ASIN: B08VLMQ3KS\n",
      "Título: Samsung Galaxy S21 5G, US Version, 128GB, Phantom Gray - Unlocked (Renewed)\n",
      "Precio: $187.90\n",
      "Precio Original: $335.22\n",
      "Calificación: 3.9\n",
      "Número de Calificaciones: 5841\n",
      "URL: https://www.amazon.com/dp/B08VLMQ3KS\n",
      "URL de la Foto: https://m.media-amazon.com/images/I/61jYjeuNUnL._AC_UY654_FMwebp_QL65_.jpg\n",
      "Número de Ofertas: 55\n",
      "Precio Mínimo de Oferta: $145.00\n",
      "Mejor Vendido: No\n",
      "Opción de Amazon: No\n",
      "Prime: Sí\n",
      "Amigable con el Clima: Sí\n",
      "Volumen de Ventas: 3K+ bought in past month\n",
      "Entrega: FREE delivery Sun, Jul 21 Or fastest delivery Thu, Jul 18 Only 3 left in stock - order soon.\n",
      "Tiene Variaciones: No\n",
      "----------------------------------------\n",
      "ASIN: B0CV4NH5T9\n",
      "Título: SAMSUNG Galaxy A35 5G A Series Cell Phone, 128GB Unlocked Android Smartphone, AMOLED Display, Advanced Triple Camera System, Expandable Storage, Rugged Design, US Version, 2024, Awesome Lilac\n",
      "Precio: $364.85\n",
      "Precio Original: $399.99\n",
      "Calificación: 4.3\n",
      "Número de Calificaciones: 66\n",
      "URL: https://www.amazon.com/dp/B0CV4NH5T9\n",
      "URL de la Foto: https://m.media-amazon.com/images/I/71lw4ZWUfYL._AC_UY654_FMwebp_QL65_.jpg\n",
      "Número de Ofertas: 4\n",
      "Precio Mínimo de Oferta: $339.83\n",
      "Mejor Vendido: No\n",
      "Opción de Amazon: No\n",
      "Prime: No\n",
      "Amigable con el Clima: Sí\n",
      "Volumen de Ventas: 500+ bought in past month\n",
      "Entrega: FREE deliveryOnly 1 left in stock - order soon.\n",
      "Tiene Variaciones: Sí\n",
      "----------------------------------------\n",
      "ASIN: B096T6Y623\n",
      "Título: Samsung Galaxy S21 Ultra 5G, US Version, 128GB, Phantom Black - Unlocked (Renewed)\n",
      "Precio: $298.99\n",
      "Precio Original: None\n",
      "Calificación: 4\n",
      "Número de Calificaciones: 2115\n",
      "URL: https://www.amazon.com/dp/B096T6Y623\n",
      "URL de la Foto: https://m.media-amazon.com/images/I/61dlAm9BpqL._AC_UY654_FMwebp_QL65_.jpg\n",
      "Número de Ofertas: 38\n",
      "Precio Mínimo de Oferta: $256.00\n",
      "Mejor Vendido: No\n",
      "Opción de Amazon: No\n",
      "Prime: No\n",
      "Amigable con el Clima: Sí\n",
      "Volumen de Ventas: 2K+ bought in past month\n",
      "Entrega: FREE delivery Thu, Jul 18\n",
      "Tiene Variaciones: Sí\n",
      "----------------------------------------\n",
      "ASIN: B0CMDRFVTL\n",
      "Título: SAMSUNG Galaxy S24 Cell Phone, 256GB AI Smartphone, Unlocked Android, 50MP Camera, Fastest Processor, Long Battery Life, US Version, 2024, Cobalt Violet\n",
      "Precio: $659.99\n",
      "Precio Original: $859.99\n",
      "Calificación: 4.5\n",
      "Número de Calificaciones: 1687\n",
      "URL: https://www.amazon.com/dp/B0CMDRFVTL\n",
      "URL de la Foto: https://m.media-amazon.com/images/I/716UvwH-NvL._AC_UY654_FMwebp_QL65_.jpg\n",
      "Número de Ofertas: 1\n",
      "Precio Mínimo de Oferta: $659.99\n",
      "Mejor Vendido: No\n",
      "Opción de Amazon: No\n",
      "Prime: No\n",
      "Amigable con el Clima: Sí\n",
      "Volumen de Ventas: 200+ bought in past month\n",
      "Entrega: None\n",
      "Tiene Variaciones: Sí\n",
      "----------------------------------------\n",
      "ASIN: B0CGWF3F64\n",
      "Título: Motorola razr | 2023 | Unlocked | Made for US 8/128 | 32MP Camera | Summer Lilac, 73.95 x 170.82 x 7.35mm\n",
      "Precio: $332.99\n",
      "Precio Original: $699.99\n",
      "Calificación: 4.1\n",
      "Número de Calificaciones: 300\n",
      "URL: https://www.amazon.com/dp/B0CGWF3F64\n",
      "URL de la Foto: https://m.media-amazon.com/images/I/61nVT+i3rdL._AC_UY654_FMwebp_QL65_.jpg\n",
      "Número de Ofertas: 1\n",
      "Precio Mínimo de Oferta: $332.99\n",
      "Mejor Vendido: No\n",
      "Opción de Amazon: No\n",
      "Prime: No\n",
      "Amigable con el Clima: No\n",
      "Volumen de Ventas: 100+ bought in past month\n",
      "Entrega: None\n",
      "Tiene Variaciones: No\n",
      "----------------------------------------\n",
      "ASIN: B0CGTD5KVT\n",
      "Título: Google Pixel 8 - Unlocked Android Smartphone with Advanced Pixel Camera, 24-Hour Battery, and Powerful Security - Obsidian - 128 GB\n",
      "Precio: $665.00\n",
      "Precio Original: $699.00\n",
      "Calificación: 4.3\n",
      "Número de Calificaciones: 1997\n",
      "URL: https://www.amazon.com/dp/B0CGTD5KVT\n",
      "URL de la Foto: https://m.media-amazon.com/images/I/81Mya-dPIOL._AC_UY654_FMwebp_QL65_.jpg\n",
      "Número de Ofertas: 7\n",
      "Precio Mínimo de Oferta: $435.00\n",
      "Mejor Vendido: No\n",
      "Opción de Amazon: No\n",
      "Prime: No\n",
      "Amigable con el Clima: No\n",
      "Volumen de Ventas: 500+ bought in past month\n",
      "Entrega: FREE delivery Thu, Jul 18 Or fastest delivery Tomorrow, Jul 17 Only 2 left in stock - order soon.\n",
      "Tiene Variaciones: Sí\n",
      "----------------------------------------\n",
      "ASIN: B08FRS8NPP\n",
      "Título: Samsung Galaxy S20+ 5G 128GB Fully Unlocked Smartphone (Renewed)\n",
      "Precio: $199.99\n",
      "Precio Original: $270.96\n",
      "Calificación: 4.1\n",
      "Número de Calificaciones: 2775\n",
      "URL: https://www.amazon.com/dp/B08FRS8NPP\n",
      "URL de la Foto: https://m.media-amazon.com/images/I/61Q9IXJ1zcS._AC_UY654_FMwebp_QL65_.jpg\n",
      "Número de Ofertas: 44\n",
      "Precio Mínimo de Oferta: $164.99\n",
      "Mejor Vendido: No\n",
      "Opción de Amazon: No\n",
      "Prime: Sí\n",
      "Amigable con el Clima: Sí\n",
      "Volumen de Ventas: 500+ bought in past month\n",
      "Entrega: FREE delivery Sun, Jul 21 Or fastest delivery Thu, Jul 18\n",
      "Tiene Variaciones: Sí\n",
      "----------------------------------------\n"
     ]
    }
   ],
   "source": [
    "import requests\n",
    "\n",
    "url = \"https://real-time-amazon-data.p.rapidapi.com/search\"\n",
    "\n",
    "querystring = {\n",
    "    \"query\": \"Phone\",\n",
    "    \"page\": \"1\",\n",
    "    \"country\": \"US\",\n",
    "    \"sort_by\": \"RELEVANCE\",\n",
    "    \"product_condition\": \"ALL\"\n",
    "}\n",
    "\n",
    "headers = {\n",
    "    \"x-rapidapi-key\": \"b1627f263cmshc8a4015df1f477fp133675jsnba40922e0ffc\",\n",
    "    \"x-rapidapi-host\": \"real-time-amazon-data.p.rapidapi.com\"\n",
    "}\n",
    "\n",
    "response = requests.get(url, headers=headers, params=querystring)\n",
    "\n",
    "if response.status_code == 200:\n",
    "    products_data = response.json()\n",
    "    \n",
    "    # Extraer información de los productos\n",
    "    products = products_data.get('data', {}).get('products', [])\n",
    "    \n",
    "    for product in products:\n",
    "        asin = product.get('asin')\n",
    "        title = product.get('product_title')\n",
    "        price = product.get('product_price')\n",
    "        original_price = product.get('product_original_price')\n",
    "        rating = product.get('product_star_rating')\n",
    "        num_ratings = product.get('product_num_ratings')\n",
    "        url = product.get('product_url')\n",
    "        photo_url = product.get('product_photo')\n",
    "        num_offers = product.get('product_num_offers')\n",
    "        minimum_offer_price = product.get('product_minimum_offer_price')\n",
    "        is_best_seller = product.get('is_best_seller')\n",
    "        is_amazon_choice = product.get('is_amazon_choice')\n",
    "        is_prime = product.get('is_prime')\n",
    "        climate_pledge_friendly = product.get('climate_pledge_friendly')\n",
    "        sales_volume = product.get('sales_volume')\n",
    "        delivery = product.get('delivery')\n",
    "        has_variations = product.get('has_variations')\n",
    "        \n",
    "        print(f\"ASIN: {asin}\")\n",
    "        print(f\"Título: {title}\")\n",
    "        print(f\"Precio: {price}\")\n",
    "        print(f\"Precio Original: {original_price}\")\n",
    "        print(f\"Calificación: {rating}\")\n",
    "        print(f\"Número de Calificaciones: {num_ratings}\")\n",
    "        print(f\"URL: {url}\")\n",
    "        print(f\"URL de la Foto: {photo_url}\")\n",
    "        print(f\"Número de Ofertas: {num_offers}\")\n",
    "        print(f\"Precio Mínimo de Oferta: {minimum_offer_price}\")\n",
    "        print(f\"Mejor Vendido: {'Sí' if is_best_seller else 'No'}\")\n",
    "        print(f\"Opción de Amazon: {'Sí' if is_amazon_choice else 'No'}\")\n",
    "        print(f\"Prime: {'Sí' if is_prime else 'No'}\")\n",
    "        print(f\"Amigable con el Clima: {'Sí' if climate_pledge_friendly else 'No'}\")\n",
    "        print(f\"Volumen de Ventas: {sales_volume}\")\n",
    "        print(f\"Entrega: {delivery}\")\n",
    "        print(f\"Tiene Variaciones: {'Sí' if has_variations else 'No'}\")\n",
    "        print(\"-\" * 40)\n",
    "else:\n",
    "    print(\"Solicitud HTTP fallida con el código de estado: \", response.status_code)\n"
   ]
  },
  {
   "cell_type": "code",
   "execution_count": 27,
   "id": "9c19b693",
   "metadata": {},
   "outputs": [
    {
     "name": "stdout",
     "output_type": "stream",
     "text": [
      "Requirement already satisfied: TextBlob in c:\\users\\manolo\\anaconda3\\lib\\site-packages (0.18.0.post0)\n",
      "Requirement already satisfied: nltk>=3.8 in c:\\users\\manolo\\anaconda3\\lib\\site-packages (from TextBlob) (3.8.1)\n",
      "Requirement already satisfied: joblib in c:\\users\\manolo\\anaconda3\\lib\\site-packages (from nltk>=3.8->TextBlob) (1.1.0)\n",
      "Requirement already satisfied: click in c:\\users\\manolo\\anaconda3\\lib\\site-packages (from nltk>=3.8->TextBlob) (8.0.4)\n",
      "Requirement already satisfied: regex>=2021.8.3 in c:\\users\\manolo\\anaconda3\\lib\\site-packages (from nltk>=3.8->TextBlob) (2022.3.15)\n",
      "Requirement already satisfied: tqdm in c:\\users\\manolo\\anaconda3\\lib\\site-packages (from nltk>=3.8->TextBlob) (4.64.0)\n",
      "Requirement already satisfied: colorama in c:\\users\\manolo\\anaconda3\\lib\\site-packages (from click->nltk>=3.8->TextBlob) (0.4.4)\n"
     ]
    }
   ],
   "source": [
    "!pip install TextBlob "
   ]
  },
  {
   "cell_type": "code",
   "execution_count": 28,
   "id": "4ccd3132",
   "metadata": {},
   "outputs": [
    {
     "name": "stderr",
     "output_type": "stream",
     "text": [
      "[nltk_data] Downloading package punkt to\n",
      "[nltk_data]     C:\\Users\\Manolo\\AppData\\Roaming\\nltk_data...\n",
      "[nltk_data]   Package punkt is already up-to-date!\n"
     ]
    },
    {
     "data": {
      "text/plain": [
       "True"
      ]
     },
     "execution_count": 28,
     "metadata": {},
     "output_type": "execute_result"
    }
   ],
   "source": [
    "nltk.download(\"punkt\")"
   ]
  },
  {
   "cell_type": "code",
   "execution_count": 7,
   "id": "973ea843",
   "metadata": {},
   "outputs": [
    {
     "name": "stdout",
     "output_type": "stream",
     "text": [
      "La calificación promedio de los sentimientos de los comentarios para el producto B0CN1QSH8Q es: 3.49\n"
     ]
    },
    {
     "data": {
      "application/vnd.plotly.v1+json": {
       "config": {
        "plotlyServerURL": "https://plot.ly"
       },
       "data": [
        {
         "gauge": {
          "axis": {
           "range": [
            1,
            5
           ]
          },
          "steps": [
           {
            "color": "red",
            "range": [
             1,
             2
            ]
           },
           {
            "color": "orange",
            "range": [
             2,
             3
            ]
           },
           {
            "color": "yellow",
            "range": [
             3,
             4
            ]
           },
           {
            "color": "green",
            "range": [
             4,
             5
            ]
           }
          ],
          "threshold": {
           "line": {
            "color": "black",
            "width": 4
           },
           "thickness": 0.75,
           "value": 3.4855113473588553
          }
         },
         "mode": "gauge+number",
         "title": {
          "text": "Calificación Promedio de Sentimientos"
         },
         "type": "indicator",
         "value": 3.4855113473588553
        }
       ],
       "layout": {
        "autosize": true,
        "template": {
         "data": {
          "bar": [
           {
            "error_x": {
             "color": "#2a3f5f"
            },
            "error_y": {
             "color": "#2a3f5f"
            },
            "marker": {
             "line": {
              "color": "#E5ECF6",
              "width": 0.5
             },
             "pattern": {
              "fillmode": "overlay",
              "size": 10,
              "solidity": 0.2
             }
            },
            "type": "bar"
           }
          ],
          "barpolar": [
           {
            "marker": {
             "line": {
              "color": "#E5ECF6",
              "width": 0.5
             },
             "pattern": {
              "fillmode": "overlay",
              "size": 10,
              "solidity": 0.2
             }
            },
            "type": "barpolar"
           }
          ],
          "carpet": [
           {
            "aaxis": {
             "endlinecolor": "#2a3f5f",
             "gridcolor": "white",
             "linecolor": "white",
             "minorgridcolor": "white",
             "startlinecolor": "#2a3f5f"
            },
            "baxis": {
             "endlinecolor": "#2a3f5f",
             "gridcolor": "white",
             "linecolor": "white",
             "minorgridcolor": "white",
             "startlinecolor": "#2a3f5f"
            },
            "type": "carpet"
           }
          ],
          "choropleth": [
           {
            "colorbar": {
             "outlinewidth": 0,
             "ticks": ""
            },
            "type": "choropleth"
           }
          ],
          "contour": [
           {
            "colorbar": {
             "outlinewidth": 0,
             "ticks": ""
            },
            "colorscale": [
             [
              0,
              "#0d0887"
             ],
             [
              0.1111111111111111,
              "#46039f"
             ],
             [
              0.2222222222222222,
              "#7201a8"
             ],
             [
              0.3333333333333333,
              "#9c179e"
             ],
             [
              0.4444444444444444,
              "#bd3786"
             ],
             [
              0.5555555555555556,
              "#d8576b"
             ],
             [
              0.6666666666666666,
              "#ed7953"
             ],
             [
              0.7777777777777778,
              "#fb9f3a"
             ],
             [
              0.8888888888888888,
              "#fdca26"
             ],
             [
              1,
              "#f0f921"
             ]
            ],
            "type": "contour"
           }
          ],
          "contourcarpet": [
           {
            "colorbar": {
             "outlinewidth": 0,
             "ticks": ""
            },
            "type": "contourcarpet"
           }
          ],
          "heatmap": [
           {
            "colorbar": {
             "outlinewidth": 0,
             "ticks": ""
            },
            "colorscale": [
             [
              0,
              "#0d0887"
             ],
             [
              0.1111111111111111,
              "#46039f"
             ],
             [
              0.2222222222222222,
              "#7201a8"
             ],
             [
              0.3333333333333333,
              "#9c179e"
             ],
             [
              0.4444444444444444,
              "#bd3786"
             ],
             [
              0.5555555555555556,
              "#d8576b"
             ],
             [
              0.6666666666666666,
              "#ed7953"
             ],
             [
              0.7777777777777778,
              "#fb9f3a"
             ],
             [
              0.8888888888888888,
              "#fdca26"
             ],
             [
              1,
              "#f0f921"
             ]
            ],
            "type": "heatmap"
           }
          ],
          "heatmapgl": [
           {
            "colorbar": {
             "outlinewidth": 0,
             "ticks": ""
            },
            "colorscale": [
             [
              0,
              "#0d0887"
             ],
             [
              0.1111111111111111,
              "#46039f"
             ],
             [
              0.2222222222222222,
              "#7201a8"
             ],
             [
              0.3333333333333333,
              "#9c179e"
             ],
             [
              0.4444444444444444,
              "#bd3786"
             ],
             [
              0.5555555555555556,
              "#d8576b"
             ],
             [
              0.6666666666666666,
              "#ed7953"
             ],
             [
              0.7777777777777778,
              "#fb9f3a"
             ],
             [
              0.8888888888888888,
              "#fdca26"
             ],
             [
              1,
              "#f0f921"
             ]
            ],
            "type": "heatmapgl"
           }
          ],
          "histogram": [
           {
            "marker": {
             "pattern": {
              "fillmode": "overlay",
              "size": 10,
              "solidity": 0.2
             }
            },
            "type": "histogram"
           }
          ],
          "histogram2d": [
           {
            "colorbar": {
             "outlinewidth": 0,
             "ticks": ""
            },
            "colorscale": [
             [
              0,
              "#0d0887"
             ],
             [
              0.1111111111111111,
              "#46039f"
             ],
             [
              0.2222222222222222,
              "#7201a8"
             ],
             [
              0.3333333333333333,
              "#9c179e"
             ],
             [
              0.4444444444444444,
              "#bd3786"
             ],
             [
              0.5555555555555556,
              "#d8576b"
             ],
             [
              0.6666666666666666,
              "#ed7953"
             ],
             [
              0.7777777777777778,
              "#fb9f3a"
             ],
             [
              0.8888888888888888,
              "#fdca26"
             ],
             [
              1,
              "#f0f921"
             ]
            ],
            "type": "histogram2d"
           }
          ],
          "histogram2dcontour": [
           {
            "colorbar": {
             "outlinewidth": 0,
             "ticks": ""
            },
            "colorscale": [
             [
              0,
              "#0d0887"
             ],
             [
              0.1111111111111111,
              "#46039f"
             ],
             [
              0.2222222222222222,
              "#7201a8"
             ],
             [
              0.3333333333333333,
              "#9c179e"
             ],
             [
              0.4444444444444444,
              "#bd3786"
             ],
             [
              0.5555555555555556,
              "#d8576b"
             ],
             [
              0.6666666666666666,
              "#ed7953"
             ],
             [
              0.7777777777777778,
              "#fb9f3a"
             ],
             [
              0.8888888888888888,
              "#fdca26"
             ],
             [
              1,
              "#f0f921"
             ]
            ],
            "type": "histogram2dcontour"
           }
          ],
          "mesh3d": [
           {
            "colorbar": {
             "outlinewidth": 0,
             "ticks": ""
            },
            "type": "mesh3d"
           }
          ],
          "parcoords": [
           {
            "line": {
             "colorbar": {
              "outlinewidth": 0,
              "ticks": ""
             }
            },
            "type": "parcoords"
           }
          ],
          "pie": [
           {
            "automargin": true,
            "type": "pie"
           }
          ],
          "scatter": [
           {
            "fillpattern": {
             "fillmode": "overlay",
             "size": 10,
             "solidity": 0.2
            },
            "type": "scatter"
           }
          ],
          "scatter3d": [
           {
            "line": {
             "colorbar": {
              "outlinewidth": 0,
              "ticks": ""
             }
            },
            "marker": {
             "colorbar": {
              "outlinewidth": 0,
              "ticks": ""
             }
            },
            "type": "scatter3d"
           }
          ],
          "scattercarpet": [
           {
            "marker": {
             "colorbar": {
              "outlinewidth": 0,
              "ticks": ""
             }
            },
            "type": "scattercarpet"
           }
          ],
          "scattergeo": [
           {
            "marker": {
             "colorbar": {
              "outlinewidth": 0,
              "ticks": ""
             }
            },
            "type": "scattergeo"
           }
          ],
          "scattergl": [
           {
            "marker": {
             "colorbar": {
              "outlinewidth": 0,
              "ticks": ""
             }
            },
            "type": "scattergl"
           }
          ],
          "scattermapbox": [
           {
            "marker": {
             "colorbar": {
              "outlinewidth": 0,
              "ticks": ""
             }
            },
            "type": "scattermapbox"
           }
          ],
          "scatterpolar": [
           {
            "marker": {
             "colorbar": {
              "outlinewidth": 0,
              "ticks": ""
             }
            },
            "type": "scatterpolar"
           }
          ],
          "scatterpolargl": [
           {
            "marker": {
             "colorbar": {
              "outlinewidth": 0,
              "ticks": ""
             }
            },
            "type": "scatterpolargl"
           }
          ],
          "scatterternary": [
           {
            "marker": {
             "colorbar": {
              "outlinewidth": 0,
              "ticks": ""
             }
            },
            "type": "scatterternary"
           }
          ],
          "surface": [
           {
            "colorbar": {
             "outlinewidth": 0,
             "ticks": ""
            },
            "colorscale": [
             [
              0,
              "#0d0887"
             ],
             [
              0.1111111111111111,
              "#46039f"
             ],
             [
              0.2222222222222222,
              "#7201a8"
             ],
             [
              0.3333333333333333,
              "#9c179e"
             ],
             [
              0.4444444444444444,
              "#bd3786"
             ],
             [
              0.5555555555555556,
              "#d8576b"
             ],
             [
              0.6666666666666666,
              "#ed7953"
             ],
             [
              0.7777777777777778,
              "#fb9f3a"
             ],
             [
              0.8888888888888888,
              "#fdca26"
             ],
             [
              1,
              "#f0f921"
             ]
            ],
            "type": "surface"
           }
          ],
          "table": [
           {
            "cells": {
             "fill": {
              "color": "#EBF0F8"
             },
             "line": {
              "color": "white"
             }
            },
            "header": {
             "fill": {
              "color": "#C8D4E3"
             },
             "line": {
              "color": "white"
             }
            },
            "type": "table"
           }
          ]
         },
         "layout": {
          "annotationdefaults": {
           "arrowcolor": "#2a3f5f",
           "arrowhead": 0,
           "arrowwidth": 1
          },
          "autotypenumbers": "strict",
          "coloraxis": {
           "colorbar": {
            "outlinewidth": 0,
            "ticks": ""
           }
          },
          "colorscale": {
           "diverging": [
            [
             0,
             "#8e0152"
            ],
            [
             0.1,
             "#c51b7d"
            ],
            [
             0.2,
             "#de77ae"
            ],
            [
             0.3,
             "#f1b6da"
            ],
            [
             0.4,
             "#fde0ef"
            ],
            [
             0.5,
             "#f7f7f7"
            ],
            [
             0.6,
             "#e6f5d0"
            ],
            [
             0.7,
             "#b8e186"
            ],
            [
             0.8,
             "#7fbc41"
            ],
            [
             0.9,
             "#4d9221"
            ],
            [
             1,
             "#276419"
            ]
           ],
           "sequential": [
            [
             0,
             "#0d0887"
            ],
            [
             0.1111111111111111,
             "#46039f"
            ],
            [
             0.2222222222222222,
             "#7201a8"
            ],
            [
             0.3333333333333333,
             "#9c179e"
            ],
            [
             0.4444444444444444,
             "#bd3786"
            ],
            [
             0.5555555555555556,
             "#d8576b"
            ],
            [
             0.6666666666666666,
             "#ed7953"
            ],
            [
             0.7777777777777778,
             "#fb9f3a"
            ],
            [
             0.8888888888888888,
             "#fdca26"
            ],
            [
             1,
             "#f0f921"
            ]
           ],
           "sequentialminus": [
            [
             0,
             "#0d0887"
            ],
            [
             0.1111111111111111,
             "#46039f"
            ],
            [
             0.2222222222222222,
             "#7201a8"
            ],
            [
             0.3333333333333333,
             "#9c179e"
            ],
            [
             0.4444444444444444,
             "#bd3786"
            ],
            [
             0.5555555555555556,
             "#d8576b"
            ],
            [
             0.6666666666666666,
             "#ed7953"
            ],
            [
             0.7777777777777778,
             "#fb9f3a"
            ],
            [
             0.8888888888888888,
             "#fdca26"
            ],
            [
             1,
             "#f0f921"
            ]
           ]
          },
          "colorway": [
           "#636efa",
           "#EF553B",
           "#00cc96",
           "#ab63fa",
           "#FFA15A",
           "#19d3f3",
           "#FF6692",
           "#B6E880",
           "#FF97FF",
           "#FECB52"
          ],
          "font": {
           "color": "#2a3f5f"
          },
          "geo": {
           "bgcolor": "white",
           "lakecolor": "white",
           "landcolor": "#E5ECF6",
           "showlakes": true,
           "showland": true,
           "subunitcolor": "white"
          },
          "hoverlabel": {
           "align": "left"
          },
          "hovermode": "closest",
          "mapbox": {
           "style": "light"
          },
          "paper_bgcolor": "white",
          "plot_bgcolor": "#E5ECF6",
          "polar": {
           "angularaxis": {
            "gridcolor": "white",
            "linecolor": "white",
            "ticks": ""
           },
           "bgcolor": "#E5ECF6",
           "radialaxis": {
            "gridcolor": "white",
            "linecolor": "white",
            "ticks": ""
           }
          },
          "scene": {
           "xaxis": {
            "backgroundcolor": "#E5ECF6",
            "gridcolor": "white",
            "gridwidth": 2,
            "linecolor": "white",
            "showbackground": true,
            "ticks": "",
            "zerolinecolor": "white"
           },
           "yaxis": {
            "backgroundcolor": "#E5ECF6",
            "gridcolor": "white",
            "gridwidth": 2,
            "linecolor": "white",
            "showbackground": true,
            "ticks": "",
            "zerolinecolor": "white"
           },
           "zaxis": {
            "backgroundcolor": "#E5ECF6",
            "gridcolor": "white",
            "gridwidth": 2,
            "linecolor": "white",
            "showbackground": true,
            "ticks": "",
            "zerolinecolor": "white"
           }
          },
          "shapedefaults": {
           "line": {
            "color": "#2a3f5f"
           }
          },
          "ternary": {
           "aaxis": {
            "gridcolor": "white",
            "linecolor": "white",
            "ticks": ""
           },
           "baxis": {
            "gridcolor": "white",
            "linecolor": "white",
            "ticks": ""
           },
           "bgcolor": "#E5ECF6",
           "caxis": {
            "gridcolor": "white",
            "linecolor": "white",
            "ticks": ""
           }
          },
          "title": {
           "x": 0.05
          },
          "xaxis": {
           "automargin": true,
           "gridcolor": "white",
           "linecolor": "white",
           "ticks": "",
           "title": {
            "standoff": 15
           },
           "zerolinecolor": "white",
           "zerolinewidth": 2
          },
          "yaxis": {
           "automargin": true,
           "gridcolor": "white",
           "linecolor": "white",
           "ticks": "",
           "title": {
            "standoff": 15
           },
           "zerolinecolor": "white",
           "zerolinewidth": 2
          }
         }
        }
       }
      },
      "image/png": "[encoded data removed]",
      "text/html": [
       "<div>                            <div id=\"a0348486-dab9-48b0-9bbd-e8d8819a635c\" class=\"plotly-graph-div\" style=\"height:525px; width:100%;\"></div>            <script type=\"text/javascript\">                require([\"plotly\"], function(Plotly) {                    window.PLOTLYENV=window.PLOTLYENV || {};                                    if (document.getElementById(\"a0348486-dab9-48b0-9bbd-e8d8819a635c\")) {                    Plotly.newPlot(                        \"a0348486-dab9-48b0-9bbd-e8d8819a635c\",                        [{\"gauge\":{\"axis\":{\"range\":[1,5]},\"steps\":[{\"color\":\"red\",\"range\":[1,2]},{\"color\":\"orange\",\"range\":[2,3]},{\"color\":\"yellow\",\"range\":[3,4]},{\"color\":\"green\",\"range\":[4,5]}],\"threshold\":{\"line\":{\"color\":\"black\",\"width\":4},\"thickness\":0.75,\"value\":3.4855113473588553}},\"mode\":\"gauge+number\",\"title\":{\"text\":\"Calificaci\\u00f3n Promedio de Sentimientos\"},\"value\":3.4855113473588553,\"type\":\"indicator\"}],                        {\"template\":{\"data\":{\"histogram2dcontour\":[{\"type\":\"histogram2dcontour\",\"colorbar\":{\"outlinewidth\":0,\"ticks\":\"\"},\"colorscale\":[[0.0,\"#0d0887\"],[0.1111111111111111,\"#46039f\"],[0.2222222222222222,\"#7201a8\"],[0.3333333333333333,\"#9c179e\"],[0.4444444444444444,\"#bd3786\"],[0.5555555555555556,\"#d8576b\"],[0.6666666666666666,\"#ed7953\"],[0.7777777777777778,\"#fb9f3a\"],[0.8888888888888888,\"#fdca26\"],[1.0,\"#f0f921\"]]}],\"choropleth\":[{\"type\":\"choropleth\",\"colorbar\":{\"outlinewidth\":0,\"ticks\":\"\"}}],\"histogram2d\":[{\"type\":\"histogram2d\",\"colorbar\":{\"outlinewidth\":0,\"ticks\":\"\"},\"colorscale\":[[0.0,\"#0d0887\"],[0.1111111111111111,\"#46039f\"],[0.2222222222222222,\"#7201a8\"],[0.3333333333333333,\"#9c179e\"],[0.4444444444444444,\"#bd3786\"],[0.5555555555555556,\"#d8576b\"],[0.6666666666666666,\"#ed7953\"],[0.7777777777777778,\"#fb9f3a\"],[0.8888888888888888,\"#fdca26\"],[1.0,\"#f0f921\"]]}],\"heatmap\":[{\"type\":\"heatmap\",\"colorbar\":{\"outlinewidth\":0,\"ticks\":\"\"},\"colorscale\":[[0.0,\"#0d0887\"],[0.1111111111111111,\"#46039f\"],[0.2222222222222222,\"#7201a8\"],[0.3333333333333333,\"#9c179e\"],[0.4444444444444444,\"#bd3786\"],[0.5555555555555556,\"#d8576b\"],[0.6666666666666666,\"#ed7953\"],[0.7777777777777778,\"#fb9f3a\"],[0.8888888888888888,\"#fdca26\"],[1.0,\"#f0f921\"]]}],\"heatmapgl\":[{\"type\":\"heatmapgl\",\"colorbar\":{\"outlinewidth\":0,\"ticks\":\"\"},\"colorscale\":[[0.0,\"#0d0887\"],[0.1111111111111111,\"#46039f\"],[0.2222222222222222,\"#7201a8\"],[0.3333333333333333,\"#9c179e\"],[0.4444444444444444,\"#bd3786\"],[0.5555555555555556,\"#d8576b\"],[0.6666666666666666,\"#ed7953\"],[0.7777777777777778,\"#fb9f3a\"],[0.8888888888888888,\"#fdca26\"],[1.0,\"#f0f921\"]]}],\"contourcarpet\":[{\"type\":\"contourcarpet\",\"colorbar\":{\"outlinewidth\":0,\"ticks\":\"\"}}],\"contour\":[{\"type\":\"contour\",\"colorbar\":{\"outlinewidth\":0,\"ticks\":\"\"},\"colorscale\":[[0.0,\"#0d0887\"],[0.1111111111111111,\"#46039f\"],[0.2222222222222222,\"#7201a8\"],[0.3333333333333333,\"#9c179e\"],[0.4444444444444444,\"#bd3786\"],[0.5555555555555556,\"#d8576b\"],[0.6666666666666666,\"#ed7953\"],[0.7777777777777778,\"#fb9f3a\"],[0.8888888888888888,\"#fdca26\"],[1.0,\"#f0f921\"]]}],\"surface\":[{\"type\":\"surface\",\"colorbar\":{\"outlinewidth\":0,\"ticks\":\"\"},\"colorscale\":[[0.0,\"#0d0887\"],[0.1111111111111111,\"#46039f\"],[0.2222222222222222,\"#7201a8\"],[0.3333333333333333,\"#9c179e\"],[0.4444444444444444,\"#bd3786\"],[0.5555555555555556,\"#d8576b\"],[0.6666666666666666,\"#ed7953\"],[0.7777777777777778,\"#fb9f3a\"],[0.8888888888888888,\"#fdca26\"],[1.0,\"#f0f921\"]]}],\"mesh3d\":[{\"type\":\"mesh3d\",\"colorbar\":{\"outlinewidth\":0,\"ticks\":\"\"}}],\"scatter\":[{\"fillpattern\":{\"fillmode\":\"overlay\",\"size\":10,\"solidity\":0.2},\"type\":\"scatter\"}],\"parcoords\":[{\"type\":\"parcoords\",\"line\":{\"colorbar\":{\"outlinewidth\":0,\"ticks\":\"\"}}}],\"scatterpolargl\":[{\"type\":\"scatterpolargl\",\"marker\":{\"colorbar\":{\"outlinewidth\":0,\"ticks\":\"\"}}}],\"bar\":[{\"error_x\":{\"color\":\"#2a3f5f\"},\"error_y\":{\"color\":\"#2a3f5f\"},\"marker\":{\"line\":{\"color\":\"#E5ECF6\",\"width\":0.5},\"pattern\":{\"fillmode\":\"overlay\",\"size\":10,\"solidity\":0.2}},\"type\":\"bar\"}],\"scattergeo\":[{\"type\":\"scattergeo\",\"marker\":{\"colorbar\":{\"outlinewidth\":0,\"ticks\":\"\"}}}],\"scatterpolar\":[{\"type\":\"scatterpolar\",\"marker\":{\"colorbar\":{\"outlinewidth\":0,\"ticks\":\"\"}}}],\"histogram\":[{\"marker\":{\"pattern\":{\"fillmode\":\"overlay\",\"size\":10,\"solidity\":0.2}},\"type\":\"histogram\"}],\"scattergl\":[{\"type\":\"scattergl\",\"marker\":{\"colorbar\":{\"outlinewidth\":0,\"ticks\":\"\"}}}],\"scatter3d\":[{\"type\":\"scatter3d\",\"line\":{\"colorbar\":{\"outlinewidth\":0,\"ticks\":\"\"}},\"marker\":{\"colorbar\":{\"outlinewidth\":0,\"ticks\":\"\"}}}],\"scattermapbox\":[{\"type\":\"scattermapbox\",\"marker\":{\"colorbar\":{\"outlinewidth\":0,\"ticks\":\"\"}}}],\"scatterternary\":[{\"type\":\"scatterternary\",\"marker\":{\"colorbar\":{\"outlinewidth\":0,\"ticks\":\"\"}}}],\"scattercarpet\":[{\"type\":\"scattercarpet\",\"marker\":{\"colorbar\":{\"outlinewidth\":0,\"ticks\":\"\"}}}],\"carpet\":[{\"aaxis\":{\"endlinecolor\":\"#2a3f5f\",\"gridcolor\":\"white\",\"linecolor\":\"white\",\"minorgridcolor\":\"white\",\"startlinecolor\":\"#2a3f5f\"},\"baxis\":{\"endlinecolor\":\"#2a3f5f\",\"gridcolor\":\"white\",\"linecolor\":\"white\",\"minorgridcolor\":\"white\",\"startlinecolor\":\"#2a3f5f\"},\"type\":\"carpet\"}],\"table\":[{\"cells\":{\"fill\":{\"color\":\"#EBF0F8\"},\"line\":{\"color\":\"white\"}},\"header\":{\"fill\":{\"color\":\"#C8D4E3\"},\"line\":{\"color\":\"white\"}},\"type\":\"table\"}],\"barpolar\":[{\"marker\":{\"line\":{\"color\":\"#E5ECF6\",\"width\":0.5},\"pattern\":{\"fillmode\":\"overlay\",\"size\":10,\"solidity\":0.2}},\"type\":\"barpolar\"}],\"pie\":[{\"automargin\":true,\"type\":\"pie\"}]},\"layout\":{\"autotypenumbers\":\"strict\",\"colorway\":[\"#636efa\",\"#EF553B\",\"#00cc96\",\"#ab63fa\",\"#FFA15A\",\"#19d3f3\",\"#FF6692\",\"#B6E880\",\"#FF97FF\",\"#FECB52\"],\"font\":{\"color\":\"#2a3f5f\"},\"hovermode\":\"closest\",\"hoverlabel\":{\"align\":\"left\"},\"paper_bgcolor\":\"white\",\"plot_bgcolor\":\"#E5ECF6\",\"polar\":{\"bgcolor\":\"#E5ECF6\",\"angularaxis\":{\"gridcolor\":\"white\",\"linecolor\":\"white\",\"ticks\":\"\"},\"radialaxis\":{\"gridcolor\":\"white\",\"linecolor\":\"white\",\"ticks\":\"\"}},\"ternary\":{\"bgcolor\":\"#E5ECF6\",\"aaxis\":{\"gridcolor\":\"white\",\"linecolor\":\"white\",\"ticks\":\"\"},\"baxis\":{\"gridcolor\":\"white\",\"linecolor\":\"white\",\"ticks\":\"\"},\"caxis\":{\"gridcolor\":\"white\",\"linecolor\":\"white\",\"ticks\":\"\"}},\"coloraxis\":{\"colorbar\":{\"outlinewidth\":0,\"ticks\":\"\"}},\"colorscale\":{\"sequential\":[[0.0,\"#0d0887\"],[0.1111111111111111,\"#46039f\"],[0.2222222222222222,\"#7201a8\"],[0.3333333333333333,\"#9c179e\"],[0.4444444444444444,\"#bd3786\"],[0.5555555555555556,\"#d8576b\"],[0.6666666666666666,\"#ed7953\"],[0.7777777777777778,\"#fb9f3a\"],[0.8888888888888888,\"#fdca26\"],[1.0,\"#f0f921\"]],\"sequentialminus\":[[0.0,\"#0d0887\"],[0.1111111111111111,\"#46039f\"],[0.2222222222222222,\"#7201a8\"],[0.3333333333333333,\"#9c179e\"],[0.4444444444444444,\"#bd3786\"],[0.5555555555555556,\"#d8576b\"],[0.6666666666666666,\"#ed7953\"],[0.7777777777777778,\"#fb9f3a\"],[0.8888888888888888,\"#fdca26\"],[1.0,\"#f0f921\"]],\"diverging\":[[0,\"#8e0152\"],[0.1,\"#c51b7d\"],[0.2,\"#de77ae\"],[0.3,\"#f1b6da\"],[0.4,\"#fde0ef\"],[0.5,\"#f7f7f7\"],[0.6,\"#e6f5d0\"],[0.7,\"#b8e186\"],[0.8,\"#7fbc41\"],[0.9,\"#4d9221\"],[1,\"#276419\"]]},\"xaxis\":{\"gridcolor\":\"white\",\"linecolor\":\"white\",\"ticks\":\"\",\"title\":{\"standoff\":15},\"zerolinecolor\":\"white\",\"automargin\":true,\"zerolinewidth\":2},\"yaxis\":{\"gridcolor\":\"white\",\"linecolor\":\"white\",\"ticks\":\"\",\"title\":{\"standoff\":15},\"zerolinecolor\":\"white\",\"automargin\":true,\"zerolinewidth\":2},\"scene\":{\"xaxis\":{\"backgroundcolor\":\"#E5ECF6\",\"gridcolor\":\"white\",\"linecolor\":\"white\",\"showbackground\":true,\"ticks\":\"\",\"zerolinecolor\":\"white\",\"gridwidth\":2},\"yaxis\":{\"backgroundcolor\":\"#E5ECF6\",\"gridcolor\":\"white\",\"linecolor\":\"white\",\"showbackground\":true,\"ticks\":\"\",\"zerolinecolor\":\"white\",\"gridwidth\":2},\"zaxis\":{\"backgroundcolor\":\"#E5ECF6\",\"gridcolor\":\"white\",\"linecolor\":\"white\",\"showbackground\":true,\"ticks\":\"\",\"zerolinecolor\":\"white\",\"gridwidth\":2}},\"shapedefaults\":{\"line\":{\"color\":\"#2a3f5f\"}},\"annotationdefaults\":{\"arrowcolor\":\"#2a3f5f\",\"arrowhead\":0,\"arrowwidth\":1},\"geo\":{\"bgcolor\":\"white\",\"landcolor\":\"#E5ECF6\",\"subunitcolor\":\"white\",\"showland\":true,\"showlakes\":true,\"lakecolor\":\"white\"},\"title\":{\"x\":0.05},\"mapbox\":{\"style\":\"light\"}}}},                        {\"responsive\": true}                    ).then(function(){\n",
       "                            \n",
       "var gd = document.getElementById('a0348486-dab9-48b0-9bbd-e8d8819a635c');\n",
       "var x = new MutationObserver(function (mutations, observer) {{\n",
       "        var display = window.getComputedStyle(gd).display;\n",
       "        if (!display || display === 'none') {{\n",
       "            console.log([gd, 'removed!']);\n",
       "            Plotly.purge(gd);\n",
       "            observer.disconnect();\n",
       "        }}\n",
       "}});\n",
       "\n",
       "// Listen for the removal of the full notebook cells\n",
       "var notebookContainer = gd.closest('#notebook-container');\n",
       "if (notebookContainer) {{\n",
       "    x.observe(notebookContainer, {childList: true});\n",
       "}}\n",
       "\n",
       "// Listen for the clearing of the current output cell\n",
       "var outputEl = gd.closest('.output');\n",
       "if (outputEl) {{\n",
       "    x.observe(outputEl, {childList: true});\n",
       "}}\n",
       "\n",
       "                        })                };                });            </script>        </div>"
      ]
     },
     "metadata": {},
     "output_type": "display_data"
    },
    {
     "data": {
      "image/png": "[encoded data removed]",
      "text/plain": [
       "<Figure size 1000x500 with 1 Axes>"
      ]
     },
     "metadata": {},
     "output_type": "display_data"
    }
   ],
   "source": [
    "# Análisis de sentimientos más avanzado\n",
    "import requests\n",
    "from textblob import TextBlob\n",
    "import plotly.graph_objects as go\n",
    "import matplotlib.pyplot as plt\n",
    "from collections import defaultdict\n",
    "import nltk\n",
    "from nltk.tokenize import word_tokenize\n",
    "\n",
    "# Asegúrate de haber descargado el archivo 'NRC-Emotion-Lexicon-Wordlevel-v0.92.txt' y coloca la ruta correcta aquí\n",
    "nrc_lexicon_file = 'NRC-Emotion-Lexicon-Wordlevel-v0.92.txt'\n",
    "\n",
    "# Carga del lexicon\n",
    "def load_nrc_lexicon(file_path):\n",
    "    nrc_lexicon = defaultdict(list)\n",
    "    with open(file_path, 'r') as f:\n",
    "        for line in f:\n",
    "            word, emotion, association = line.strip().split('\\t')\n",
    "            if int(association) == 1:\n",
    "                nrc_lexicon[emotion].append(word)\n",
    "    return nrc_lexicon\n",
    "\n",
    "# Análisis de emociones\n",
    "def analyze_emotions(text, lexicon):\n",
    "    emotions = defaultdict(int)\n",
    "    words = word_tokenize(text.lower())\n",
    "    for word in words:\n",
    "        for emotion, words in lexicon.items():\n",
    "            if word in words:\n",
    "                emotions[emotion] += 1\n",
    "    return emotions\n",
    "\n",
    "# Función para obtener los comentarios\n",
    "def get_reviews(asin):\n",
    "    reviews = []\n",
    "    page = 1\n",
    "    while True:\n",
    "        url = \"https://real-time-amazon-data.p.rapidapi.com/product-reviews\"\n",
    "        querystring = {\n",
    "            \"asin\": asin,\n",
    "            \"country\": \"US\",\n",
    "            \"sort_by\": \"TOP_REVIEWS\",\n",
    "            \"star_rating\": \"ALL\",\n",
    "            \"verified_purchases_only\": \"false\",\n",
    "            \"images_or_videos_only\": \"false\",\n",
    "            \"current_format_only\": \"false\",\n",
    "            \"page\": page\n",
    "        }\n",
    "\n",
    "        headers = {\n",
    "            \"x-rapidapi-key\": \"3aefbfaf31msh6e91d0f7b559d03p1a9f67jsn9dea5372850c\",\n",
    "            \"x-rapidapi-host\": \"real-time-amazon-data.p.rapidapi.com\"\n",
    "        }\n",
    "\n",
    "        response = requests.get(url, headers=headers, params=querystring)\n",
    "        data = response.json()\n",
    "        \n",
    "        if 'data' in data and 'reviews' in data['data']:\n",
    "            reviews_on_page = data['data']['reviews']\n",
    "            if not reviews_on_page:\n",
    "                break\n",
    "            reviews.extend(reviews_on_page)\n",
    "        else:\n",
    "            break  # Stop if there are no more reviews or if the data format is unexpected\n",
    "        \n",
    "        page += 1\n",
    "    return reviews\n",
    "\n",
    "# Análisis de sentimientos\n",
    "def analyze_sentiments(reviews):\n",
    "    sentiments = []\n",
    "    for review in reviews:\n",
    "        analysis = TextBlob(review['review_comment'])\n",
    "        sentiments.append(analysis.sentiment.polarity)\n",
    "    if sentiments:\n",
    "        avg_sentiment = sum(sentiments) / len(sentiments)\n",
    "        return avg_sentiment\n",
    "    else:\n",
    "        return None\n",
    "\n",
    "# Conversión de sentimiento a calificación\n",
    "def sentiment_to_rating(avg_sentiment):\n",
    "    return 1 + (avg_sentiment + 1) * 2\n",
    "\n",
    "# Creación del medidor de calificación\n",
    "def create_gauge_meter(rating):\n",
    "    fig = go.Figure(go.Indicator(\n",
    "        mode = \"gauge+number\",\n",
    "        value = rating,\n",
    "        title = {'text': \"Calificación Promedio de Sentimientos\"},\n",
    "        gauge = {\n",
    "            'axis': {'range': [1, 5]},\n",
    "            'steps' : [\n",
    "                {'range': [1, 2], 'color': \"red\"},\n",
    "                {'range': [2, 3], 'color': \"orange\"},\n",
    "                {'range': [3, 4], 'color': \"yellow\"},\n",
    "                {'range': [4, 5], 'color': \"green\"}\n",
    "            ],\n",
    "            'threshold' : {\n",
    "                'line': {'color': \"black\", 'width': 4},\n",
    "                'thickness': 0.75,\n",
    "                'value': rating\n",
    "            }\n",
    "        }\n",
    "    ))\n",
    "\n",
    "    fig.show()\n",
    "\n",
    "# Graficar emociones\n",
    "def plot_emotions(emotions):\n",
    "    categories = [category for category in emotions.keys() if category not in ['positive', 'negative']]\n",
    "    values = [emotions[category] for category in categories]\n",
    "\n",
    "    plt.figure(figsize=(10, 5))\n",
    "    bars = plt.bar(categories, values, color=['green', 'cyan', 'yellow', 'orange', 'red'])\n",
    "    \n",
    "    for bar, value in zip(bars, values):\n",
    "        plt.text(bar.get_x() + bar.get_width() / 2, bar.get_height(), str(value), ha='center', va='bottom')\n",
    "    \n",
    "    plt.xlabel('Emociones')\n",
    "    plt.ylabel('Frecuencia')\n",
    "    plt.title('Análisis de Emociones')\n",
    "    plt.show()\n",
    "\n",
    "# Main\n",
    "asin = \"B0CN1QSH8Q\"\n",
    "nrc_lexicon = load_nrc_lexicon(nrc_lexicon_file)\n",
    "reviews = get_reviews(asin)\n",
    "\n",
    "if reviews:\n",
    "    avg_sentiment = analyze_sentiments(reviews)\n",
    "    if avg_sentiment is not None:\n",
    "        rating = sentiment_to_rating(avg_sentiment)\n",
    "        print(f\"La calificación promedio de los sentimientos de los comentarios para el producto {asin} es: {rating:.2f}\")\n",
    "        create_gauge_meter(rating)\n",
    "    \n",
    "    all_reviews_text = ' '.join([review['review_comment'] for review in reviews])\n",
    "    emotions = analyze_emotions(all_reviews_text, nrc_lexicon)\n",
    "    plot_emotions(emotions)\n",
    "else:\n",
    "    print(\"No se encontraron comentarios.\")\n"
   ]
  },
  {
   "cell_type": "code",
   "execution_count": null,
   "id": "94d85ddf-b7d3-4348-9d73-bfaedee66ea6",
   "metadata": {},
   "outputs": [],
   "source": []
  }
 ],
 "metadata": {
  "kernelspec": {
   "display_name": "Python 3 (ipykernel)",
   "language": "python",
   "name": "python3"
  },
  "language_info": {
   "codemirror_mode": {
    "name": "ipython",
    "version": 3
   },
   "file_extension": ".py",
   "mimetype": "text/x-python",
   "name": "python",
   "nbconvert_exporter": "python",
   "pygments_lexer": "ipython3",
   "version": "3.11.7"
  }
 },
 "nbformat": 4,
 "nbformat_minor": 5
}
