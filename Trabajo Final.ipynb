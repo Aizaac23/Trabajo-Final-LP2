{
 "cells": [
  {
   "cell_type": "markdown",
   "id": "b953b342-4bed-4c52-b82f-e31e239ddc13",
   "metadata": {},
   "source": [
    "<center><h1><span style=\"\">Universidad Nacional Agraria La Molina</span></h1></center>\n",
    "<center><h2><span style=\"\">Carrera Profesional de Estadística Infórmatica</span></h2></center>\n",
    "\n",
    "<center><img src=\"https://raw.githubusercontent.com/tengolaaag/Final-LP2/main/escudo.jpg\" width=\"300\" height=\"200\"></center>\n",
    "\n",
    "<center><h4><span style=\"\">Curso: Lenguaje de Programación II</span></h4></center>\n",
    "<center><h3><span style=\"\"> <b>Proyecto: <i>   </b></i></span></h3></center>\n",
    "\n",
    "<center><h3><span style=\"\">Docente: Mg. Denise CHALAN LLAJARUNA</span></h3></center>\n",
    "\n",
    "### Integrantes: \n",
    "- Pedro Isaac Ñaupa Celis\n",
    "- Manolo Meza Rodríguez\n",
    "- Bruno Fabrizzio Candiotti Neyra\n",
    "\n",
    "## Introducción"
   ]
  },
  {
   "cell_type": "code",
   "execution_count": null,
   "id": "8d0e1223-4d73-42f1-b62f-9788f56778a3",
   "metadata": {},
   "outputs": [],
   "source": []
  },
  {
   "cell_type": "code",
   "execution_count": null,
   "id": "9998df95-a9f0-4843-8393-97c13f9e0cc4",
   "metadata": {},
   "outputs": [],
   "source": []
  }
 ],
 "metadata": {
  "kernelspec": {
   "display_name": "Python 3 (ipykernel)",
   "language": "python",
   "name": "python3"
  },
  "language_info": {
   "codemirror_mode": {
    "name": "ipython",
    "version": 3
   },
   "file_extension": ".py",
   "mimetype": "text/x-python",
   "name": "python",
   "nbconvert_exporter": "python",
   "pygments_lexer": "ipython3",
   "version": "3.12.4"
  }
 },
 "nbformat": 4,
 "nbformat_minor": 5
}
